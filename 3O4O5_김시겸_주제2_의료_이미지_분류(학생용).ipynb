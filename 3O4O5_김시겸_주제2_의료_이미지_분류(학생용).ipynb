{
  "nbformat": 4,
  "nbformat_minor": 0,
  "metadata": {
    "colab": {
      "provenance": [],
      "gpuType": "T4",
      "include_colab_link": true
    },
    "kernelspec": {
      "name": "python3",
      "display_name": "Python 3"
    },
    "language_info": {
      "name": "python"
    },
    "accelerator": "GPU"
  },
  "cells": [
    {
      "cell_type": "markdown",
      "metadata": {
        "id": "view-in-github",
        "colab_type": "text"
      },
      "source": [
        "<a href=\"https://colab.research.google.com/github/KimSiGyum/Python/blob/main/3O4O5_%EA%B9%80%EC%8B%9C%EA%B2%B8_%EC%A3%BC%EC%A0%9C2_%EC%9D%98%EB%A3%8C_%EC%9D%B4%EB%AF%B8%EC%A7%80_%EB%B6%84%EB%A5%98(%ED%95%99%EC%83%9D%EC%9A%A9).ipynb\" target=\"_parent\"><img src=\"https://colab.research.google.com/assets/colab-badge.svg\" alt=\"Open In Colab\"/></a>"
      ]
    },
    {
      "cell_type": "markdown",
      "source": [
        "# **[주제2] 의료 이미지 분류 (난이도 높음)**\n",
        "---\n",
        "\n",
        "<img src='https://drive.google.com/uc?id=1ZdkL3BXiApD5gjqpfN41R1mac2r882oI' width=850>\n",
        "\n",
        "---"
      ],
      "metadata": {
        "id": "ke8flkC1QLdx"
      }
    },
    {
      "cell_type": "markdown",
      "source": [
        "## **0. 필요한 모듈 가져오기**\n",
        "라이브러리 및 모듈은 이 곳에서 한 번에 가져와도 되고 필요한 셀에서 바로 추가해도 됩니다."
      ],
      "metadata": {
        "id": "0QModmzssODi"
      }
    },
    {
      "cell_type": "code",
      "source": [
        "import numpy as np\n",
        "import pandas as pd"
      ],
      "metadata": {
        "id": "Mo-_f553vMrS"
      },
      "execution_count": null,
      "outputs": []
    },
    {
      "cell_type": "markdown",
      "source": [
        "## **1. 데이터 가져오기**\n",
        "아래 코드를 실행하여 데이터를 읽어오세요. (변수명은 원한다면 변경해도 됩니다.)"
      ],
      "metadata": {
        "id": "ddkxJzjimp5n"
      }
    },
    {
      "cell_type": "code",
      "execution_count": null,
      "metadata": {
        "id": "o6DS35q1uccV",
        "colab": {
          "base_uri": "https://localhost:8080/"
        },
        "outputId": "17793cb7-68a0-44d1-b78b-ff65e6ec5eaf"
      },
      "outputs": [
        {
          "output_type": "stream",
          "name": "stdout",
          "text": [
            "Mounted at /content/drive\n"
          ]
        }
      ],
      "source": [
        "# 구글 드라이브 마운트\n",
        "from google.colab import drive\n",
        "drive.mount('/content/drive')"
      ]
    },
    {
      "cell_type": "code",
      "source": [
        "# 데이터 가져오기\n",
        "x_train = np.load('/content/drive/MyDrive/Colab Notebooks/data/X_train.npy')\n",
        "y_train = np.load('/content/drive/MyDrive/Colab Notebooks/data/y_train.npy')\n",
        "x_test = np.load('/content/drive/MyDrive/Colab Notebooks/data/X_test.npy')\n",
        "y_test = np.load('/content/drive/MyDrive/Colab Notebooks/data/y_test.npy')"
      ],
      "metadata": {
        "id": "sdQvqDxFvdA9"
      },
      "execution_count": null,
      "outputs": []
    },
    {
      "cell_type": "markdown",
      "metadata": {
        "id": "0BMt4jr5MILD"
      },
      "source": [
        "##**2. 데이터 준비 및 분석하기**\n",
        "문제 상황에 맞게 아래 작업을 수행하세요.\n",
        "- (과제1) 데이터 탐색 <br>\n",
        "- (과제2) 데이터 전처리"
      ]
    },
    {
      "cell_type": "code",
      "source": [
        "# 코드 셀을 추가하여 필요한 작업 실행\n",
        "print('데이터 형태', x_train.shape, y_train.shape)\n",
        "print('테스트 데이터 형태', x_test.shape, y_test.shape)\n",
        "print('데이터 차원', x_train.ndim, y_train.ndim)\n",
        "print('테스트 데이터 차원', x_test.ndim, y_test.ndim)\n",
        "\n",
        "x_train = x_train.reshape((40000, 64, 64))\n",
        "x_test = x_test.reshape((10000, 64, 64, 1))\n",
        "x_train = x_train / 255\n",
        "x_test = x_test / 255\n",
        "\n",
        "from keras.utils import to_categorical\n",
        "y_train = to_categorical(y_train)\n",
        "y_test = to_categorical(y_test)"
      ],
      "metadata": {
        "id": "keyPiyznoqeN",
        "colab": {
          "base_uri": "https://localhost:8080/"
        },
        "outputId": "8a027e42-e11b-4564-d92e-38ee666b1d0f"
      },
      "execution_count": null,
      "outputs": [
        {
          "output_type": "stream",
          "name": "stdout",
          "text": [
            "데이터 형태 (40000, 64, 64) (40000,)\n",
            "테스트 데이터 형태 (10000, 64, 64) (10000,)\n",
            "데이터 차원 3 1\n",
            "테스트 데이터 차원 3 1\n"
          ]
        }
      ]
    },
    {
      "cell_type": "markdown",
      "metadata": {
        "id": "00kb9-Nvn5Or"
      },
      "source": [
        "##**3. 모델 학습시키기**\n",
        "문제 상황에 맞게 아래 작업을 수행하세요.\n",
        "- (과제3) 신경망 모델 생성 (신경망 구조, 학습 방법 결정)\n",
        "- (과제4) 신경망 모델 학습 <br>\n",
        "※ (과제5) 학습 과정에서 검증(validation) 세트를 이용하고 결과를 분석하여 최종 모델 도출"
      ]
    },
    {
      "cell_type": "code",
      "source": [
        "# 코드 셀을 추가하여 필요한 작업 실행\n",
        "from keras.models import Sequential # 신경망 모델 클래스\n",
        "from keras.layers import Input, Conv2D, MaxPooling2D, Flatten, Dense\n",
        "model = Sequential() # 신경망 객체 생성\n",
        "model.add(Input(shape=(64, 64, 1))) # 입력\n",
        "model.add(Conv2D(filters = 32, kernel_size=(2, 2), strides=(1, 1), padding='same')) # 합성곱층\n",
        "model.add(MaxPooling2D(pool_size=(2, 2))) # 풀링층\n",
        "model.add(Flatten()) # 차원변경\n",
        "model.add(Dense(512, activation='relu')) # 은닉층\n",
        "model.add(Dense(5, activation='softmax'))"
      ],
      "metadata": {
        "id": "-tCaCdv8orUV"
      },
      "execution_count": null,
      "outputs": []
    },
    {
      "cell_type": "code",
      "source": [
        "model.compile(loss = 'categorical_crossentropy', # 범주형 크로스엔트로피\n",
        "              optimizer = 'SGD', # 확률적 경사하강법\n",
        "              metrics = ['accuracy']) # 정확도\n",
        "model.fit(x_train, y_train, batch_size = 128, epochs = 10)"
      ],
      "metadata": {
        "colab": {
          "base_uri": "https://localhost:8080/"
        },
        "id": "_t4oZgPf_-ZH",
        "outputId": "36a2fc97-8c4e-4c0b-880e-dc16e8603b60"
      },
      "execution_count": null,
      "outputs": [
        {
          "output_type": "stream",
          "name": "stdout",
          "text": [
            "Epoch 1/10\n",
            "\u001b[1m313/313\u001b[0m \u001b[32m━━━━━━━━━━━━━━━━━━━━\u001b[0m\u001b[37m\u001b[0m \u001b[1m7s\u001b[0m 13ms/step - accuracy: 0.8217 - loss: 0.5621\n",
            "Epoch 2/10\n",
            "\u001b[1m313/313\u001b[0m \u001b[32m━━━━━━━━━━━━━━━━━━━━\u001b[0m\u001b[37m\u001b[0m \u001b[1m6s\u001b[0m 8ms/step - accuracy: 0.9860 - loss: 0.0971\n",
            "Epoch 3/10\n",
            "\u001b[1m313/313\u001b[0m \u001b[32m━━━━━━━━━━━━━━━━━━━━\u001b[0m\u001b[37m\u001b[0m \u001b[1m5s\u001b[0m 9ms/step - accuracy: 0.9909 - loss: 0.0542\n",
            "Epoch 4/10\n",
            "\u001b[1m313/313\u001b[0m \u001b[32m━━━━━━━━━━━━━━━━━━━━\u001b[0m\u001b[37m\u001b[0m \u001b[1m5s\u001b[0m 8ms/step - accuracy: 0.9933 - loss: 0.0412\n",
            "Epoch 5/10\n",
            "\u001b[1m313/313\u001b[0m \u001b[32m━━━━━━━━━━━━━━━━━━━━\u001b[0m\u001b[37m\u001b[0m \u001b[1m5s\u001b[0m 8ms/step - accuracy: 0.9946 - loss: 0.0323\n",
            "Epoch 6/10\n",
            "\u001b[1m313/313\u001b[0m \u001b[32m━━━━━━━━━━━━━━━━━━━━\u001b[0m\u001b[37m\u001b[0m \u001b[1m3s\u001b[0m 9ms/step - accuracy: 0.9949 - loss: 0.0309\n",
            "Epoch 7/10\n",
            "\u001b[1m313/313\u001b[0m \u001b[32m━━━━━━━━━━━━━━━━━━━━\u001b[0m\u001b[37m\u001b[0m \u001b[1m3s\u001b[0m 9ms/step - accuracy: 0.9951 - loss: 0.0259\n",
            "Epoch 8/10\n",
            "\u001b[1m313/313\u001b[0m \u001b[32m━━━━━━━━━━━━━━━━━━━━\u001b[0m\u001b[37m\u001b[0m \u001b[1m5s\u001b[0m 8ms/step - accuracy: 0.9958 - loss: 0.0239\n",
            "Epoch 9/10\n",
            "\u001b[1m313/313\u001b[0m \u001b[32m━━━━━━━━━━━━━━━━━━━━\u001b[0m\u001b[37m\u001b[0m \u001b[1m5s\u001b[0m 9ms/step - accuracy: 0.9962 - loss: 0.0210\n",
            "Epoch 10/10\n",
            "\u001b[1m313/313\u001b[0m \u001b[32m━━━━━━━━━━━━━━━━━━━━\u001b[0m\u001b[37m\u001b[0m \u001b[1m3s\u001b[0m 9ms/step - accuracy: 0.9960 - loss: 0.0202\n"
          ]
        },
        {
          "output_type": "execute_result",
          "data": {
            "text/plain": [
              "<keras.src.callbacks.history.History at 0x7ba070505e10>"
            ]
          },
          "metadata": {},
          "execution_count": 16
        }
      ]
    },
    {
      "cell_type": "markdown",
      "metadata": {
        "id": "bpMx9eKaotgM"
      },
      "source": [
        "##**4. 모델 평가하기**\n",
        "문제 상황에 맞게 아래 작업을 수행하세요.\n",
        "- (과제6) 모델 성능 평가"
      ]
    },
    {
      "cell_type": "code",
      "source": [
        "# 코드 셀을 추가하여 필요한 작업 실행\n",
        "loss, accuracy = model.evaluate(x_test, y_test)\n",
        "print('손실은', loss, '입니다.')\n",
        "print('정확도는', accuracy, '입니다.')"
      ],
      "metadata": {
        "id": "ERHvbdqsotgW",
        "colab": {
          "base_uri": "https://localhost:8080/"
        },
        "outputId": "bdf6dde0-bfa3-4a6b-f765-4ac6710b22e8"
      },
      "execution_count": null,
      "outputs": [
        {
          "output_type": "stream",
          "name": "stdout",
          "text": [
            "\u001b[1m313/313\u001b[0m \u001b[32m━━━━━━━━━━━━━━━━━━━━\u001b[0m\u001b[37m\u001b[0m \u001b[1m2s\u001b[0m 3ms/step - accuracy: 0.9942 - loss: 0.0252\n",
            "손실은 0.02368505485355854 입니다.\n",
            "정확도는 0.9945999979972839 입니다.\n"
          ]
        }
      ]
    },
    {
      "cell_type": "markdown",
      "metadata": {
        "id": "j0o2rRRTqFox"
      },
      "source": [
        "##**5. 모델 활용하기**\n",
        "문제 상황에 맞게 <u>아래 작업 중 하나 이상</u>을 수행하세요.\n",
        "- (과제7) 테스트 데이터의 분류 결과 확인\n",
        "- (과제7) 새로운 데이터의 분류 결과 확인<br>\n",
        "※ 새로운 데이터는 업로드된 0~5.png 파일을 이용하거나, 웹에서 구한 이미지를 가공하여 사용"
      ]
    },
    {
      "cell_type": "code",
      "source": [
        "# 코드 셀을 추가하여 필요한 작업 실행\n",
        "y_prob = model.predict(x_test[0].reshape((1, 64, 64, 1)))\n",
        "y_pred= y_prob.argmax(axis=-1) # 배열 내 최대값의 인덱스 반환\n",
        "print(\"이 의료 이미지는\", y_pred,\"번 클래스입니다.\")"
      ],
      "metadata": {
        "id": "qnwlpzXp7lTi",
        "colab": {
          "base_uri": "https://localhost:8080/"
        },
        "outputId": "cfa38013-489d-442f-8c8a-05ce0c0aea60"
      },
      "execution_count": null,
      "outputs": [
        {
          "output_type": "stream",
          "name": "stdout",
          "text": [
            "\u001b[1m1/1\u001b[0m \u001b[32m━━━━━━━━━━━━━━━━━━━━\u001b[0m\u001b[37m\u001b[0m \u001b[1m0s\u001b[0m 409ms/step\n",
            "이 의류는 [4] 번 클래스입니다.\n"
          ]
        }
      ]
    },
    {
      "cell_type": "code",
      "source": [
        "n = 0\n",
        "import matplotlib.pyplot as plt\n",
        "plt.title(\"label:\"+str( y_train[n]) )\n",
        "plt.imshow(x_test[n], cmap=plt.cm.gray)\n",
        "plt.show()"
      ],
      "metadata": {
        "colab": {
          "base_uri": "https://localhost:8080/",
          "height": 452
        },
        "id": "DVGkvdeGAmcX",
        "outputId": "6892e0f1-5fd7-4b57-a673-352f836f6f5c"
      },
      "execution_count": null,
      "outputs": [
        {
          "output_type": "display_data",
          "data": {
            "text/plain": [
              "<Figure size 640x480 with 1 Axes>"
            ],
            "image/png": "[encoded data removed]"
          },
          "metadata": {}
        }
      ]
    },
    {
      "cell_type": "markdown",
      "source": [
        "※ 아래는 이미지 파일을 업로드하고 넘파이 배열(image)로 읽어오는 코드입니다.<br>\n",
        "필요한 경우 실행하여 활용하세요."
      ],
      "metadata": {
        "id": "GbEPf8YR7kax"
      }
    },
    {
      "cell_type": "code",
      "source": [
        "# 파일 업로드하기\n",
        "from google.colab import files\n",
        "uploaded = files.upload()"
      ],
      "metadata": {
        "id": "FduePYKPEib9",
        "colab": {
          "base_uri": "https://localhost:8080/",
          "height": 77
        },
        "outputId": "e4ab3111-7a09-4e96-f2f0-35bb6c91984d"
      },
      "execution_count": null,
      "outputs": [
        {
          "output_type": "display_data",
          "data": {
            "text/plain": [
              "<IPython.core.display.HTML object>"
            ],
            "text/html": [
              "\n",
              "     <input type=\"file\" id=\"files-0c981c13-c542-4fd9-9de6-199f8f336468\" name=\"files[]\" multiple disabled\n",
              "        style=\"border:none\" />\n",
              "     <output id=\"result-0c981c13-c542-4fd9-9de6-199f8f336468\">\n",
              "      Upload widget is only available when the cell has been executed in the\n",
              "      current browser session. Please rerun this cell to enable.\n",
              "      </output>\n",
              "      <script>// Copyright 2017 Google LLC\n",
              "//\n",
              "// Licensed under the Apache License, Version 2.0 (the \"License\");\n",
              "// you may not use this file except in compliance with the License.\n",
              "// You may obtain a copy of the License at\n",
              "//\n",
              "//      http://www.apache.org/licenses/LICENSE-2.0\n",
              "//\n",
              "// Unless required by applicable law or agreed to in writing, software\n",
              "// distributed under the License is distributed on an \"AS IS\" BASIS,\n",
              "// WITHOUT WARRANTIES OR CONDITIONS OF ANY KIND, either express or implied.\n",
              "// See the License for the specific language governing permissions and\n",
              "// limitations under the License.\n",
              "\n",
              "/**\n",
              " * @fileoverview Helpers for google.colab Python module.\n",
              " */\n",
              "(function(scope) {\n",
              "function span(text, styleAttributes = {}) {\n",
              "  const element = document.createElement('span');\n",
              "  element.textContent = text;\n",
              "  for (const key of Object.keys(styleAttributes)) {\n",
              "    element.style[key] = styleAttributes[key];\n",
              "  }\n",
              "  return element;\n",
              "}\n",
              "\n",
              "// Max number of bytes which will be uploaded at a time.\n",
              "const MAX_PAYLOAD_SIZE = 100 * 1024;\n",
              "\n",
              "function _uploadFiles(inputId, outputId) {\n",
              "  const steps = uploadFilesStep(inputId, outputId);\n",
              "  const outputElement = document.getElementById(outputId);\n",
              "  // Cache steps on the outputElement to make it available for the next call\n",
              "  // to uploadFilesContinue from Python.\n",
              "  outputElement.steps = steps;\n",
              "\n",
              "  return _uploadFilesContinue(outputId);\n",
              "}\n",
              "\n",
              "// This is roughly an async generator (not supported in the browser yet),\n",
              "// where there are multiple asynchronous steps and the Python side is going\n",
              "// to poll for completion of each step.\n",
              "// This uses a Promise to block the python side on completion of each step,\n",
              "// then passes the result of the previous step as the input to the next step.\n",
              "function _uploadFilesContinue(outputId) {\n",
              "  const outputElement = document.getElementById(outputId);\n",
              "  const steps = outputElement.steps;\n",
              "\n",
              "  const next = steps.next(outputElement.lastPromiseValue);\n",
              "  return Promise.resolve(next.value.promise).then((value) => {\n",
              "    // Cache the last promise value to make it available to the next\n",
              "    // step of the generator.\n",
              "    outputElement.lastPromiseValue = value;\n",
              "    return next.value.response;\n",
              "  });\n",
              "}\n",
              "\n",
              "/**\n",
              " * Generator function which is called between each async step of the upload\n",
              " * process.\n",
              " * @param {string} inputId Element ID of the input file picker element.\n",
              " * @param {string} outputId Element ID of the output display.\n",
              " * @return {!Iterable<!Object>} Iterable of next steps.\n",
              " */\n",
              "function* uploadFilesStep(inputId, outputId) {\n",
              "  const inputElement = document.getElementById(inputId);\n",
              "  inputElement.disabled = false;\n",
              "\n",
              "  const outputElement = document.getElementById(outputId);\n",
              "  outputElement.innerHTML = '';\n",
              "\n",
              "  const pickedPromise = new Promise((resolve) => {\n",
              "    inputElement.addEventListener('change', (e) => {\n",
              "      resolve(e.target.files);\n",
              "    });\n",
              "  });\n",
              "\n",
              "  const cancel = document.createElement('button');\n",
              "  inputElement.parentElement.appendChild(cancel);\n",
              "  cancel.textContent = 'Cancel upload';\n",
              "  const cancelPromise = new Promise((resolve) => {\n",
              "    cancel.onclick = () => {\n",
              "      resolve(null);\n",
              "    };\n",
              "  });\n",
              "\n",
              "  // Wait for the user to pick the files.\n",
              "  const files = yield {\n",
              "    promise: Promise.race([pickedPromise, cancelPromise]),\n",
              "    response: {\n",
              "      action: 'starting',\n",
              "    }\n",
              "  };\n",
              "\n",
              "  cancel.remove();\n",
              "\n",
              "  // Disable the input element since further picks are not allowed.\n",
              "  inputElement.disabled = true;\n",
              "\n",
              "  if (!files) {\n",
              "    return {\n",
              "      response: {\n",
              "        action: 'complete',\n",
              "      }\n",
              "    };\n",
              "  }\n",
              "\n",
              "  for (const file of files) {\n",
              "    const li = document.createElement('li');\n",
              "    li.append(span(file.name, {fontWeight: 'bold'}));\n",
              "    li.append(span(\n",
              "        `(${file.type || 'n/a'}) - ${file.size} bytes, ` +\n",
              "        `last modified: ${\n",
              "            file.lastModifiedDate ? file.lastModifiedDate.toLocaleDateString() :\n",
              "                                    'n/a'} - `));\n",
              "    const percent = span('0% done');\n",
              "    li.appendChild(percent);\n",
              "\n",
              "    outputElement.appendChild(li);\n",
              "\n",
              "    const fileDataPromise = new Promise((resolve) => {\n",
              "      const reader = new FileReader();\n",
              "      reader.onload = (e) => {\n",
              "        resolve(e.target.result);\n",
              "      };\n",
              "      reader.readAsArrayBuffer(file);\n",
              "    });\n",
              "    // Wait for the data to be ready.\n",
              "    let fileData = yield {\n",
              "      promise: fileDataPromise,\n",
              "      response: {\n",
              "        action: 'continue',\n",
              "      }\n",
              "    };\n",
              "\n",
              "    // Use a chunked sending to avoid message size limits. See b/62115660.\n",
              "    let position = 0;\n",
              "    do {\n",
              "      const length = Math.min(fileData.byteLength - position, MAX_PAYLOAD_SIZE);\n",
              "      const chunk = new Uint8Array(fileData, position, length);\n",
              "      position += length;\n",
              "\n",
              "      const base64 = btoa(String.fromCharCode.apply(null, chunk));\n",
              "      yield {\n",
              "        response: {\n",
              "          action: 'append',\n",
              "          file: file.name,\n",
              "          data: base64,\n",
              "        },\n",
              "      };\n",
              "\n",
              "      let percentDone = fileData.byteLength === 0 ?\n",
              "          100 :\n",
              "          Math.round((position / fileData.byteLength) * 100);\n",
              "      percent.textContent = `${percentDone}% done`;\n",
              "\n",
              "    } while (position < fileData.byteLength);\n",
              "  }\n",
              "\n",
              "  // All done.\n",
              "  yield {\n",
              "    response: {\n",
              "      action: 'complete',\n",
              "    }\n",
              "  };\n",
              "}\n",
              "\n",
              "scope.google = scope.google || {};\n",
              "scope.google.colab = scope.google.colab || {};\n",
              "scope.google.colab._files = {\n",
              "  _uploadFiles,\n",
              "  _uploadFilesContinue,\n",
              "};\n",
              "})(self);\n",
              "</script> "
            ]
          },
          "metadata": {}
        },
        {
          "output_type": "stream",
          "name": "stdout",
          "text": [
            "Saving 0.png to 0 (1).png\n"
          ]
        }
      ]
    },
    {
      "cell_type": "code",
      "source": [
        "# 이미지를 회색조로 변환하기\n",
        "import cv2\n",
        "image = cv2.imread('0.png')\n",
        "image = cv2.cvtColor(image, cv2.COLOR_RGB2GRAY)"
      ],
      "metadata": {
        "id": "4bA0bbCUMvDS"
      },
      "execution_count": null,
      "outputs": []
    },
    {
      "cell_type": "code",
      "source": [
        "# 이미지 출력하기\n",
        "plt.figure(figsize = (1, 1))\n",
        "plt.axis('off')\n",
        "plt.imshow(image, cmap=plt.cm.gray)\n",
        "plt.show()"
      ],
      "metadata": {
        "id": "XFtScR8WMwKF",
        "colab": {
          "base_uri": "https://localhost:8080/",
          "height": 114
        },
        "outputId": "26fd10e0-3d07-4106-b525-30539f477618"
      },
      "execution_count": null,
      "outputs": [
        {
          "output_type": "display_data",
          "data": {
            "text/plain": [
              "<Figure size 100x100 with 1 Axes>"
            ],
            "image/png": "[encoded data removed]"
          },
          "metadata": {}
        }
      ]
    },
    {
      "cell_type": "code",
      "source": [
        "# 코드 셀을 추가하여 필요한 작업 실행"
      ],
      "metadata": {
        "id": "umdp6cWxM2on"
      },
      "execution_count": null,
      "outputs": []
    }
  ]
}