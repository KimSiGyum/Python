{
  "cells": [
    {
      "cell_type": "markdown",
      "metadata": {
        "id": "view-in-github",
        "colab_type": "text"
      },
      "source": [
        "<a href=\"https://colab.research.google.com/github/KimSiGyum/Python/blob/main/OpenCV_%EC%B6%94%EA%B0%80%EA%B3%BC%EC%A0%9C(%ED%95%99%EC%83%9D%EC%9A%A9).ipynb\" target=\"_parent\"><img src=\"https://colab.research.google.com/assets/colab-badge.svg\" alt=\"Open In Colab\"/></a>"
      ]
    },
    {
      "cell_type": "markdown",
      "id": "e3526963-dbe1-4381-be0a-911bf7f408fa",
      "metadata": {
        "id": "e3526963-dbe1-4381-be0a-911bf7f408fa"
      },
      "source": [
        "# **OpenCV (Open Source Computer Vision Library)**"
      ]
    },
    {
      "cell_type": "markdown",
      "id": "a8a65caf",
      "metadata": {
        "id": "a8a65caf"
      },
      "source": [
        "## **연습문제**\n",
        "---\n",
        "마우스 이벤트 처리와 트랙바를 이용한 연습과제를 해결해보자."
      ]
    },
    {
      "cell_type": "markdown",
      "id": "f641171a",
      "metadata": {
        "id": "f641171a"
      },
      "source": [
        "**{문제1}** 이미지를 마우스로 클릭하면 클릭한 위치에 빨간색 원을 그리고 좌표를 저장하는 코드를 작성하시오.\n",
        "- 윈도우 창 Card에 'card.png'를 출력\n",
        "- 이미지에서 마우스로 클릭한 지점에 반지름이 13인 빨간색 채워진 원 그리기\n",
        "- 그려진 원의 중점 좌표를 리스트 center에 저장\n",
        "- 키보드를 눌러 모든 창을 닫으면 center에 저장된 값을 출력"
      ]
    },
    {
      "cell_type": "code",
      "execution_count": null,
      "id": "cfcac7e0",
      "metadata": {
        "id": "cfcac7e0"
      },
      "outputs": [],
      "source": [
        "import cv2\n",
        "import numpy as np\n",
        "\n",
        "def get_points(event, x, y, flags, param):\n",
        "    # 내용 작성\n",
        "    cv2.imshow('Card', img)\n",
        "\n",
        "center = []\n",
        "img = cv2.imread('card.png')\n",
        "cv2.imshow('Card', img)\n",
        "# 내용 작성\n",
        "\n",
        "cv2.waitKey(0)\n",
        "cv2.destroyAllWindows()\n",
        "\n",
        "print(center)"
      ]
    },
    {
      "cell_type": "markdown",
      "id": "60e6ce68",
      "metadata": {
        "id": "60e6ce68"
      },
      "source": [
        "**{문제2}** 아래 코드의 실행결과를 예상해보시오."
      ]
    },
    {
      "cell_type": "code",
      "execution_count": null,
      "id": "60607845",
      "metadata": {
        "id": "60607845"
      },
      "outputs": [],
      "source": [
        "import cv2\n",
        "import numpy as np\n",
        "\n",
        "drawing = False\n",
        "mode = True\n",
        "ix,iy = -1, -1\n",
        "\n",
        "def draw_circle(event, x, y, flags, param):\n",
        "    global ix, iy, drawing, mode\n",
        "    if event == cv2.EVENT_LBUTTONDOWN:\n",
        "        drawing = True\n",
        "        ix, iy = x, y\n",
        "    elif event == cv2.EVENT_MOUSEMOVE:\n",
        "        if drawing == True:\n",
        "            if mode == True:\n",
        "                cv2.rectangle(img, (ix, iy), (x, y), (0, 255, 0), -1)\n",
        "            else:\n",
        "                cv2.circle(img, (x, y), 5, (0, 0, 255), -1)\n",
        "    elif event == cv2.EVENT_LBUTTONUP:\n",
        "        drawing = False\n",
        "\n",
        "img = np.zeros((512, 512, 3), np.uint8)\n",
        "cv2.namedWindow('image')\n",
        "cv2.setMouseCallback('image',draw_circle)\n",
        "\n",
        "while True:\n",
        "    cv2.imshow('image', img)\n",
        "    key = cv2.waitKey(20) & 0xFF\n",
        "    if key == ord('m'):\n",
        "        mode = not mode\n",
        "    elif key == ord('q'):\n",
        "        break\n",
        "cv2.destroyAllWindows()"
      ]
    },
    {
      "cell_type": "markdown",
      "id": "1abf536c",
      "metadata": {
        "id": "1abf536c"
      },
      "source": [
        "**{문제3}** 마우스 왼쪽 버튼을 누른채 드래그하면 마우스의 자취를 따라 알록달록한 원이 그려지는 코드를 작성하시오.\n",
        "- 새 창의 이름은 Sketch이고 사이즈는 가로 700 세로 700\n",
        "- 새 창의 배경은 검정색\n",
        "- 키보드 q를 누르면 모든 창이 닫히며 프로그램이 종료됨\n",
        "- 원의 색상은 랜덤하게 설정되며 원의 반지름은 15"
      ]
    },
    {
      "cell_type": "code",
      "execution_count": null,
      "id": "caa54269",
      "metadata": {
        "id": "caa54269"
      },
      "outputs": [],
      "source": [
        "import cv2\n",
        "import random\n",
        "import numpy as np\n",
        "\n"
      ]
    }
  ],
  "metadata": {
    "kernelspec": {
      "display_name": "Python 3 (ipykernel)",
      "language": "python",
      "name": "python3"
    },
    "language_info": {
      "codemirror_mode": {
        "name": "ipython",
        "version": 3
      },
      "file_extension": ".py",
      "mimetype": "text/x-python",
      "name": "python",
      "nbconvert_exporter": "python",
      "pygments_lexer": "ipython3",
      "version": "3.11.7"
    },
    "colab": {
      "provenance": [],
      "include_colab_link": true
    }
  },
  "nbformat": 4,
  "nbformat_minor": 5
}