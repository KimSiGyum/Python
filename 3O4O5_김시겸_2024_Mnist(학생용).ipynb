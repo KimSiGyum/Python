{
  "cells": [
    {
      "cell_type": "markdown",
      "metadata": {
        "id": "view-in-github",
        "colab_type": "text"
      },
      "source": [
        "<a href=\"https://colab.research.google.com/github/KimSiGyum/Python/blob/main/3O4O5_%EA%B9%80%EC%8B%9C%EA%B2%B8_2024_Mnist(%ED%95%99%EC%83%9D%EC%9A%A9).ipynb\" target=\"_parent\"><img src=\"https://colab.research.google.com/assets/colab-badge.svg\" alt=\"Open In Colab\"/></a>"
      ]
    },
    {
      "cell_type": "markdown",
      "metadata": {
        "id": "IzKlzUxcTa8q"
      },
      "source": [
        "#**딥러닝(Deep Learning)**\n",
        "---\n",
        "다양한 오픈소스 프레임워크를 이용해 딥러닝 모델을 개발할 수 있다.<br>\n",
        "아래는 현재 가장 널리 사용되는 프레임워크이다.\n",
        "- 구글이 개발한 [텐서플로(TensorFlow)](https://www.tensorflow.org/?hl=ko)\n",
        "- 페이스북 연구팀이 개발한 [파이토치(Pytorch)](https://pytorch.org/)\n",
        "- 초보자에게 적합한 [케라스(Keras)](https://keras.io/)<br>\n",
        "\n",
        ">※ 프레임워크(Framework) <br>\n",
        "응용 프로그램을 개발하기 위한 여러 라이브러리나 모듈 등을 효율적으로 사용할 수 있도록 묶어놓은 일종의 패키지를 의미\n",
        "\n",
        "※ 출처 : 혼자 공부하는 머신러닝 + 딥러닝 (박해선)"
      ]
    },
    {
      "cell_type": "markdown",
      "metadata": {
        "id": "_-JYBS39eBpo"
      },
      "source": [
        "###**케라스(Keras)**\n",
        "<img src='https://drive.google.com/uc?id=1C-b7WOqh_R3HQ1ZYCFwVoUZAXp0zwnC_' width=250><br>\n",
        "케라스(Keras)는 텐서플로 위에서 동작하며, 범용성이 뛰어난 대신 모델을 만들 때 밑바닥부터 모든 것을 설계해야하는 텐서플로의 단점을 보완해 훨씬 단순화된 인터페이스를 제공한다. <br>\n",
        "사용자층이 넓으면서도 배우기 쉬운 프레임워크이기 때문이 우리 수업에서는 케라스를 활용하도록 하겠다."
      ]
    },
    {
      "cell_type": "markdown",
      "metadata": {
        "id": "73LaifPKhjR3"
      },
      "source": [
        "#**✍(실습) 손글씨 인식 모델 만들기**\n",
        "---\n",
        "수기로 작성된 숫자를 보고 어떤 아라비아 숫자인지 판별하는 문제를 해결해보자.\n",
        "\n",
        "<img src='https://drive.google.com/uc?id=1-OccwQ8-7fiYqsxVD8Z3BFO4psowpMGw' width=500><br>"
      ]
    },
    {
      "cell_type": "markdown",
      "metadata": {
        "id": "hrsdZAesd-hT"
      },
      "source": [
        "### **MNIST 데이터 세트**\n",
        "\n",
        "- 머신러닝에서 [MNIST](http://yann.lecun.com/exdb/mnist/) 데이터 세트는 프로그래밍의 \"Hello World\" 처럼 가장 기본적인 학습 예제이다.\n",
        "- 여러 사람이 작성한 <font color='tomato'>0 ~ 9까지의 손글씨 숫자</font>로 구성된다.<br>\n",
        "(학습 데이터 60,000개 / 테스트 데이터 10,000개)\n",
        "- 1994년에 미국 고등학생과 미국 인구조사국 직원들의 손글씨 숫자를 수집하여 만들었다.\n",
        "- 수집된 데이터는 회색조 이미지로 각각 <font color='tomato'>가로 28픽셀, 세로 28픽셀</font>의 사이즈 중앙에 위치하도록 전처리 되어 있다.\n",
        "<br>\n",
        "\n",
        "\n"
      ]
    },
    {
      "cell_type": "markdown",
      "metadata": {
        "id": "e8Hx0dlqRjTq"
      },
      "source": [
        "....................<br>\n",
        "😶 이번 실습에서 해결할 문제는 회귀, 분류 중 무엇일까?\n",
        "\n",
        "\n",
        "\n"
      ]
    },
    {
      "cell_type": "markdown",
      "metadata": {
        "id": "JAOEhdFN1OUI"
      },
      "source": [
        "---"
      ]
    },
    {
      "cell_type": "markdown",
      "metadata": {
        "id": "aAtBuRpeqfVl"
      },
      "source": [
        "##**1. 데이터 가져오기**"
      ]
    },
    {
      "cell_type": "markdown",
      "metadata": {
        "id": "oY4O6cUhvs67"
      },
      "source": [
        "손글씨 데이터는 케라스의 빌트인 데이터 세트로 제공된다.<br>\n",
        "케라스에서 제공하는 [토이 데이터](https://keras.io/datasets/)는 넘파이 배열로 벡터화 되어있기 때문에 기초 단계에서 연습용으로 활용하기에 좋다.\n",
        "- keras.datasets.mnist 모듈의 [load_data()](https://keras.io/api/datasets/mnist/#load_data-function)를 이용해 데이터를 가져올 수 있음\n",
        "- load_data()는 2개의 넘파이 배열(ndarray)로 구성된 2개의 튜플을 반환함 → (x_train, y_train), (x_test, y_test)"
      ]
    },
    {
      "cell_type": "code",
      "execution_count": null,
      "metadata": {
        "id": "z1IiYFBwpO4v",
        "colab": {
          "base_uri": "https://localhost:8080/"
        },
        "outputId": "e5e0cc21-b7a0-4871-b24e-25baf7f7bc04"
      },
      "outputs": [
        {
          "output_type": "stream",
          "name": "stdout",
          "text": [
            "Downloading data from https://storage.googleapis.com/tensorflow/tf-keras-datasets/mnist.npz\n",
            "\u001b[1m11490434/11490434\u001b[0m \u001b[32m━━━━━━━━━━━━━━━━━━━━\u001b[0m\u001b[37m\u001b[0m \u001b[1m1s\u001b[0m 0us/step\n"
          ]
        }
      ],
      "source": [
        "# 데이터 가져오기\n",
        "from keras import datasets\n",
        "(x_train, y_train), (x_test, y_test) = datasets.mnist.load_data()"
      ]
    },
    {
      "cell_type": "markdown",
      "metadata": {
        "id": "0BMt4jr5MILD"
      },
      "source": [
        "##**2. 데이터 준비 및 분석하기**"
      ]
    },
    {
      "cell_type": "markdown",
      "metadata": {
        "id": "IOOaWg7_Mjj4"
      },
      "source": [
        "### **2-1. 데이터 탐색**"
      ]
    },
    {
      "cell_type": "markdown",
      "metadata": {
        "id": "z_ay3tXXXsX2"
      },
      "source": [
        "#### ▶▶ Numpy 복습"
      ]
    },
    {
      "cell_type": "markdown",
      "metadata": {
        "id": "qSHqoLRPBfH9"
      },
      "source": [
        "케라스 토이 데이터는 넘파이 배열로 벡터화 되어 있다.\n",
        "\n",
        "\n",
        ">```python\n",
        "print(type(x_train))\n",
        "print(type(y_train))\n",
        "```\n",
        ">```\n",
        "<class 'numpy.ndarray'>\n",
        "<class 'numpy.ndarray'>\n",
        "```\n",
        "\n",
        "<br>\n",
        "\n",
        "딥러닝에서 넘파이 배열(ndarray)을 많이 사용하는 이유는 아래와 같다.\n",
        "- 딥러닝 모델에서는 수많은 행렬 연산이 필요한데, 넘파이는 C로 구현되어 계산속도가 빠름\n",
        "- 서로 다른 크기의 배열 간에 산술 연산이 가능한 브로드캐스팅(Broadcasting)을 지원\n",
        "- 배열의 계산, 조작, 변환을 위한 다양한 함수와 메서드를 제공하여 전처리가 쉬움\n",
        "- GPU 를 이용해 연산을 가속화 하기 쉬움 (OpenCL, CUDA 등의 GPU 연산 라이브러리와 쉽게 함께 사용 가능)\n",
        "\n",
        "> <img src='https://drive.google.com/uc?id=1ZGe5JhvFZ_aKlaPkWnrGcFJgABVsMoAw' height=270>\n",
        "\n",
        "\n"
      ]
    },
    {
      "cell_type": "markdown",
      "metadata": {
        "id": "POC_9UMOXnJA"
      },
      "source": [
        "#### ▶▶ MNIST 데이터 살펴보기"
      ]
    },
    {
      "cell_type": "markdown",
      "metadata": {
        "id": "-K8jgUp9Y7hF"
      },
      "source": [
        "#####MNIST 데이터 세트의 형태를 확인해보자."
      ]
    },
    {
      "cell_type": "code",
      "execution_count": null,
      "metadata": {
        "id": "ryAtK73WwJ4M",
        "colab": {
          "base_uri": "https://localhost:8080/"
        },
        "outputId": "3d7791fc-92e5-4dda-a050-b145776b1544"
      },
      "outputs": [
        {
          "output_type": "stream",
          "name": "stdout",
          "text": [
            "데이터 세트(x_train)의 형태: (60000, 28, 28)\n",
            "레이블 세트(y_train)의 형태: (60000,)\n"
          ]
        }
      ],
      "source": [
        "# 데이터의 형태 확인하기\n",
        "print('데이터 세트(x_train)의 형태:', x_train.shape)\n",
        "print('레이블 세트(y_train)의 형태:', y_train.shape)"
      ]
    },
    {
      "cell_type": "code",
      "execution_count": null,
      "metadata": {
        "id": "NLdGoOt-v9-B",
        "colab": {
          "base_uri": "https://localhost:8080/"
        },
        "outputId": "bb35e3c6-d5c8-4c28-9392-4b28a8e8c9c1"
      },
      "outputs": [
        {
          "output_type": "stream",
          "name": "stdout",
          "text": [
            "데이터 세트(x_train)의 차원: 3\n",
            "레이블 세트(y_train)의 차원: 1\n"
          ]
        }
      ],
      "source": [
        "# 데이터의 차원 확인하기\n",
        "print('데이터 세트(x_train)의 차원:', x_train.ndim)\n",
        "print('레이블 세트(y_train)의 차원:', y_train.ndim)"
      ]
    },
    {
      "cell_type": "markdown",
      "metadata": {
        "id": "5FLyY2AJwgXl"
      },
      "source": [
        "#####MNIST 데이터 세트에서 샘플 데이터의 형태를 확인해보자."
      ]
    },
    {
      "cell_type": "code",
      "execution_count": null,
      "metadata": {
        "id": "NPwDwUNBayrJ",
        "colab": {
          "base_uri": "https://localhost:8080/"
        },
        "outputId": "325d1be4-1e04-4927-ed59-e6d0a4fddacf"
      },
      "outputs": [
        {
          "output_type": "stream",
          "name": "stdout",
          "text": [
            "데이터(x_train[0])의 형태: (28, 28)\n"
          ]
        }
      ],
      "source": [
        "# 첫 번째 샘플(x_train[0]) 형태 확인하기\n",
        "print('데이터(x_train[0])의 형태:',  x_train[0].shape)"
      ]
    },
    {
      "cell_type": "code",
      "execution_count": null,
      "metadata": {
        "id": "SzvBBbHabWSi",
        "colab": {
          "base_uri": "https://localhost:8080/",
          "height": 430
        },
        "outputId": "e090611e-3fa0-485b-b582-fa9ca95e8b21"
      },
      "outputs": [
        {
          "output_type": "display_data",
          "data": {
            "text/plain": [
              "<Figure size 640x480 with 1 Axes>"
            ],
            "image/png": "[encoded data removed]"
          },
          "metadata": {}
        }
      ],
      "source": [
        "# 첫 번째 샘플(x_train[0]) 이미지 출력하기\n",
        "import matplotlib.pyplot as plt\n",
        "plt.imshow(x_train[0], cmap=plt.cm.gray)\n",
        "plt.show()"
      ]
    },
    {
      "cell_type": "code",
      "execution_count": null,
      "metadata": {
        "id": "ZCeYLZ6_xKyn",
        "colab": {
          "base_uri": "https://localhost:8080/"
        },
        "outputId": "326a8fef-a798-49a6-9ec5-5d8bfd4f1e3e"
      },
      "outputs": [
        {
          "output_type": "stream",
          "name": "stdout",
          "text": [
            "  0  0  0  0  0  0  0  0  0  0  0  0  0  0  0  0  0  0  0  0  0  0  0  0  0  0  0  0\n",
            "  0  0  0  0  0  0  0  0  0  0  0  0  0  0  0  0  0  0  0  0  0  0  0  0  0  0  0  0\n",
            "  0  0  0  0  0  0  0  0  0  0  0  0  0  0  0  0  0  0  0  0  0  0  0  0  0  0  0  0\n",
            "  0  0  0  0  0  0  0  0  0  0  0  0  0  0  0  0  0  0  0  0  0  0  0  0  0  0  0  0\n",
            "  0  0  0  0  0  0  0  0  0  0  0  0  0  0  0  0  0  0  0  0  0  0  0  0  0  0  0  0\n",
            "  0  0  0  0  0  0  0  0  0  0  0  0  3 18 18 18126136175 26166255247127  0  0  0  0\n",
            "  0  0  0  0  0  0  0  0 30 36 94154170253253253253253225172253242195 64  0  0  0  0\n",
            "  0  0  0  0  0  0  0 49238253253253253253253253253251 93 82 82 56 39  0  0  0  0  0\n",
            "  0  0  0  0  0  0  0 18219253253253253253198182247241  0  0  0  0  0  0  0  0  0  0\n",
            "  0  0  0  0  0  0  0  0 80156107253253205 11  0 43154  0  0  0  0  0  0  0  0  0  0\n",
            "  0  0  0  0  0  0  0  0  0 14  1154253 90  0  0  0  0  0  0  0  0  0  0  0  0  0  0\n",
            "  0  0  0  0  0  0  0  0  0  0  0139253190  2  0  0  0  0  0  0  0  0  0  0  0  0  0\n",
            "  0  0  0  0  0  0  0  0  0  0  0 11190253 70  0  0  0  0  0  0  0  0  0  0  0  0  0\n",
            "  0  0  0  0  0  0  0  0  0  0  0  0 35241225160108  1  0  0  0  0  0  0  0  0  0  0\n",
            "  0  0  0  0  0  0  0  0  0  0  0  0  0 81240253253119 25  0  0  0  0  0  0  0  0  0\n",
            "  0  0  0  0  0  0  0  0  0  0  0  0  0  0 45186253253150 27  0  0  0  0  0  0  0  0\n",
            "  0  0  0  0  0  0  0  0  0  0  0  0  0  0  0 16 93252253187  0  0  0  0  0  0  0  0\n",
            "  0  0  0  0  0  0  0  0  0  0  0  0  0  0  0  0  0249253249 64  0  0  0  0  0  0  0\n",
            "  0  0  0  0  0  0  0  0  0  0  0  0  0  0 46130183253253207  2  0  0  0  0  0  0  0\n",
            "  0  0  0  0  0  0  0  0  0  0  0  0 39148229253253253250182  0  0  0  0  0  0  0  0\n",
            "  0  0  0  0  0  0  0  0  0  0 24114221253253253253201 78  0  0  0  0  0  0  0  0  0\n",
            "  0  0  0  0  0  0  0  0 23 66213253253253253198 81  2  0  0  0  0  0  0  0  0  0  0\n",
            "  0  0  0  0  0  0 18171219253253253253195 80  9  0  0  0  0  0  0  0  0  0  0  0  0\n",
            "  0  0  0  0 55172226253253253253244133 11  0  0  0  0  0  0  0  0  0  0  0  0  0  0\n",
            "  0  0  0  0136253253253212135132 16  0  0  0  0  0  0  0  0  0  0  0  0  0  0  0  0\n",
            "  0  0  0  0  0  0  0  0  0  0  0  0  0  0  0  0  0  0  0  0  0  0  0  0  0  0  0  0\n",
            "  0  0  0  0  0  0  0  0  0  0  0  0  0  0  0  0  0  0  0  0  0  0  0  0  0  0  0  0\n",
            "  0  0  0  0  0  0  0  0  0  0  0  0  0  0  0  0  0  0  0  0  0  0  0  0  0  0  0  0\n"
          ]
        }
      ],
      "source": [
        "# 첫 번째 샘플(x_train[0]) 넘파이 배열 값 출력하기\n",
        "for i in x_train[0]:\n",
        "  for j in i:\n",
        "    print('%3d' %j, end='')\n",
        "  print()"
      ]
    },
    {
      "cell_type": "markdown",
      "metadata": {
        "id": "ZrKtjWOkf9Gv"
      },
      "source": [
        "#####MNIST 데이터 세트에서 레이블의 형태를 확인해보자."
      ]
    },
    {
      "cell_type": "code",
      "execution_count": null,
      "metadata": {
        "id": "ANOR1U5igRQ6",
        "colab": {
          "base_uri": "https://localhost:8080/"
        },
        "outputId": "994e75da-e84a-43f8-ce58-62da4d65cb3b"
      },
      "outputs": [
        {
          "output_type": "stream",
          "name": "stdout",
          "text": [
            "레이블(y_train[0])의 값: 5\n"
          ]
        }
      ],
      "source": [
        "# 첫 번째 레이블(y_train[0]) 값 출력하기\n",
        "print('레이블(y_train[0])의 값:', y_train[0])"
      ]
    },
    {
      "cell_type": "markdown",
      "metadata": {
        "id": "9K0IE2_Qf3hx"
      },
      "source": [
        "#####MNIST 데이터 세트는 아래와 같이 구성되어 있다."
      ]
    },
    {
      "cell_type": "code",
      "execution_count": null,
      "metadata": {
        "id": "PMcx69XKnMI6",
        "colab": {
          "base_uri": "https://localhost:8080/",
          "height": 165
        },
        "outputId": "63eac716-297d-4ee7-c967-21fb33b27dbb"
      },
      "outputs": [
        {
          "output_type": "display_data",
          "data": {
            "text/plain": [
              "<Figure size 640x480 with 5 Axes>"
            ],
            "image/png": "[encoded data removed]"
          },
          "metadata": {}
        }
      ],
      "source": [
        "# 다섯 개(0번~4번)의 데이터 샘플 이미지와 레이블 출력하기\n",
        "for n in range(0, 5):\n",
        "  plt.subplot(1, 5, n+1) # (columns, rows, index)\n",
        "  plt.imshow(x_train[n], cmap=plt.cm.gray)\n",
        "  plt.title('Label:' + str(y_train[n]))\n",
        "plt.tight_layout()\n",
        "plt.show()"
      ]
    },
    {
      "cell_type": "markdown",
      "metadata": {
        "id": "jBUZZDRQtLVb"
      },
      "source": [
        "<img src='https://drive.google.com/uc?id=161o5p1wR7JX67T7radRbxG7RuCw_JdUA' width=750>"
      ]
    },
    {
      "cell_type": "markdown",
      "metadata": {
        "id": "8dY72j60ybcp"
      },
      "source": [
        "### **2-2. 데이터 전처리**\n",
        "- 데이터(x_train, x_test)를 신경망에 입력하기 적합한 형태로 변형\n",
        "- 레이블(y_train, y_test)을 문제 해결에 적합한 형태로 변형"
      ]
    },
    {
      "cell_type": "markdown",
      "metadata": {
        "id": "YaYScC_UvqRj"
      },
      "source": [
        "#### ▶▶ 완전연결 순방향망"
      ]
    },
    {
      "cell_type": "markdown",
      "metadata": {
        "id": "Y3pmHc1yxUB-"
      },
      "source": [
        "이번 실습에서는 가장 기본적인 형태의 신경망을 실습한다.<br>\n",
        "일반적으로 이미지 데이터에는 CNN(Convolutional Neural Network)을 많이 사용하지만,<br>\n",
        "MNIST 처럼 간단한 데이터는 가장 기본적인 형태의 완전연결 순방향망으로도 충분히 좋은 성능을 보여준다.\n",
        "- 완전연결층(fully-connected layer) : 이전 층의 모든 뉴런이 다음 층의 뉴런과 연결된 형태\n",
        "- 순방향망(feedforward network) : 입력층에서 출력층까지 한 방향으로만 활성화되는 신경망\n",
        "\n",
        "><img src='https://drive.google.com/uc?id=1kukz8Ap1UbO7XY5Sg1-Q4bQKClzPVs6T' width=1000>\n",
        "\n"
      ]
    },
    {
      "cell_type": "markdown",
      "metadata": {
        "id": "hW49t56YHoV_"
      },
      "source": [
        "#### ▶▶ 데이터 형태 변형\n",
        "- 데이터는 입력층(Input layer)에 입력됨\n",
        "- 완전연결 순방향망은 벡터(1차원)를 입력 받음"
      ]
    },
    {
      "cell_type": "markdown",
      "metadata": {
        "id": "p84R461CLMGc"
      },
      "source": [
        "....................<br>\n",
        "😶 입력층은 몇 개의 뉴런으로 구성되어야 할까?\n",
        "\n",
        "\n"
      ]
    },
    {
      "cell_type": "markdown",
      "metadata": {
        "id": "1rnwThUAMJAh"
      },
      "source": [
        "😶 입력할 데이터의 형태와 차원은 어떻게 되는가?\n",
        "\n",
        "\n"
      ]
    },
    {
      "cell_type": "code",
      "execution_count": null,
      "metadata": {
        "id": "TwlcD2Kc00Wt"
      },
      "outputs": [],
      "source": [
        "# 데이터 형태 변형하기\n",
        "x_train = x_train.reshape((60000, 784)) # (60000, 28, 28) -> (60000, 784)\n",
        "x_test = x_test.reshape((10000, 784))"
      ]
    },
    {
      "cell_type": "markdown",
      "metadata": {
        "id": "Qw70cFw3PdoC"
      },
      "source": [
        "#### ▶▶ 데이터 정규화\n",
        "- 신경망에 너무 큰 값이 입력되면 최적의 가중치를 찾는 수렴 시간이 길어짐\n",
        "- 따라서 일반적으로 입력 값을 0 ~ 1 사이의 값으로 정규화(normalize)하여 입력함<br>\n",
        "\n",
        "※ 데이터를 정규화하지 않으면 성능에 영향을 줄 수 있다. 대부분의 신경망 구조와 옵티마이저(optimizer)는 정규화된(normalized) 데이터를 사용하도록 설계되었다.\n"
      ]
    },
    {
      "cell_type": "markdown",
      "metadata": {
        "id": "9yw-no8qbO6u"
      },
      "source": [
        "....................<br>\n",
        "😶 입력 값의 최소값과 최대값은 무엇인가?\n",
        "\n",
        "\n"
      ]
    },
    {
      "cell_type": "code",
      "execution_count": null,
      "metadata": {
        "id": "TbbIYnDR1Gya"
      },
      "outputs": [],
      "source": [
        "# 데이터 정규화 하기 (0~255) -> (0, 1)\n",
        "x_train = x_train/255\n",
        "x_test = x_test/255"
      ]
    },
    {
      "cell_type": "markdown",
      "metadata": {
        "id": "JEgUnK_yZFDm"
      },
      "source": [
        "#### ▶▶ 레이블 인코딩\n",
        "- 분류 문제에서 레이블은 범주형 데이터임 (클래스)\n",
        "- 범주형 데이터를 수치 데이터로 변환하는 것을 인코딩(Encoding)이라 함"
      ]
    },
    {
      "cell_type": "markdown",
      "metadata": {
        "id": "JLOFNjNHcjVu"
      },
      "source": [
        "> 인코딩 방법\n",
        "- Label Encoding : 알파벳 순으로 0부터 시작해 1씩 증가하며 숫자를 매김\n",
        "- Ordinal Encoding : [ 매우 아니다(0), 아니다(1), 보통이다(2), 그렇다(3), 매우 그렇다(4) ] 처럼 순서에 맞춰 숫자를 매김\n",
        "- One-hot Encoding : [ 빨강(100), 초록(010), 파랑(001) ] 처럼 특정 비트 하나만 1이 되도록 숫자를 매김 <br> (클래스를 동일한 길이의 바이너리 벡터로 표현)"
      ]
    },
    {
      "cell_type": "markdown",
      "metadata": {
        "id": "I7YnK3mkbGwo"
      },
      "source": [
        "....................<br>\n",
        "😶 MNIST 데이터 세트에서 클래스의 수는 몇 개인가?\n",
        "\n",
        "\n"
      ]
    },
    {
      "cell_type": "markdown",
      "metadata": {
        "id": "14go_Gx6cGuH"
      },
      "source": [
        "😶 각각의 클래스를 어떻게 인코딩 하는 것이 좋을까?\n",
        "\n",
        "\n"
      ]
    },
    {
      "cell_type": "code",
      "execution_count": null,
      "metadata": {
        "id": "2O7gQbVf4IPn"
      },
      "outputs": [],
      "source": [
        "# 레이블 원-핫 인코딩하기\n",
        "from keras import utils\n",
        "y_train = utils.to_categorical(y_train)\n",
        "y_test = utils.to_categorical(y_test)"
      ]
    },
    {
      "cell_type": "markdown",
      "metadata": {
        "id": "ZbXakS0zexrI"
      },
      "source": [
        "※ <u>원-핫 인코딩을 사용하는 이유</u> ※<br>\n",
        "레이블을 0에서 9까지의 정수로 인코딩하면 딥러닝 모델은 레이블 \"9\"를 \"0\"보다 \"8\"에 더 가까운 것으로 해석할 수 있다. 원-핫 인코딩을 이용하면 각 클래스를 고유한 이진 벡터로 표현하여 클래스 간의 수치 관계 가능성을 제거하고 모델이 클래스를 더 잘 구별하도록 돕는다."
      ]
    },
    {
      "cell_type": "markdown",
      "metadata": {
        "id": "R4JQ1TGNbeuY"
      },
      "source": [
        "#### ▶▶ 데이터 분할\n",
        "- 케라스에서 가져온 데이터가 이미 분할 되어 있기 때문에 이번 실습에서는 생략 가능함\n",
        "- 특성(feature)과 레이블(label) 분리하기 : x, y로 분할되어 있음\n",
        "- 학습 데이터(train)와 테스트 데이터(test) 분리하기 : *_train, *_test로 분할되어 있음"
      ]
    },
    {
      "cell_type": "markdown",
      "metadata": {
        "id": "JY_CUec8jARe"
      },
      "source": [
        "#### ▶▶ 전처리 결과 확인"
      ]
    },
    {
      "cell_type": "code",
      "execution_count": null,
      "metadata": {
        "id": "RzdcVzcAjwlo",
        "colab": {
          "base_uri": "https://localhost:8080/"
        },
        "outputId": "ae6807fd-70f5-48ee-a57f-7995ab77bebb"
      },
      "outputs": [
        {
          "output_type": "stream",
          "name": "stdout",
          "text": [
            "데이터 세트(x_train)의 형태: (60000, 784)\n",
            "레이블 세트(y_train)의 형태: (60000, 10)\n",
            "테스트 데이터 세트(x_test)의 형태: (10000, 784)\n",
            "테스트 레이블 세트(y_test)의 형태: (10000, 10)\n"
          ]
        }
      ],
      "source": [
        "# 전처리 결과 확인하기\n",
        "print('데이터 세트(x_train)의 형태:', x_train.shape) # (60000, 784)\n",
        "print('레이블 세트(y_train)의 형태:', y_train.shape) # (60000, 10)\n",
        "print('테스트 데이터 세트(x_test)의 형태:', x_test.shape)\n",
        "print('테스트 레이블 세트(y_test)의 형태:', y_test.shape)"
      ]
    },
    {
      "cell_type": "code",
      "execution_count": null,
      "metadata": {
        "id": "7jdf-Gdcjwl8",
        "colab": {
          "base_uri": "https://localhost:8080/"
        },
        "outputId": "6fa2bfaf-66f5-40f4-dec4-abd997c50eb0"
      },
      "outputs": [
        {
          "output_type": "stream",
          "name": "stdout",
          "text": [
            "x_train[0]의 형태: (784,)\n",
            "x_train[0]에 대한 레이블 형태: (10,)\n",
            "x_train[0]에 대한 레이블 값: [0. 0. 0. 0. 0. 1. 0. 0. 0. 0.]\n"
          ]
        }
      ],
      "source": [
        "# 전처리 결과 확인하기\n",
        "print('x_train[0]의 형태:', x_train[0].shape) # (784,)\n",
        "print('x_train[0]에 대한 레이블 형태:', y_train[0].shape) # (10,)\n",
        "print('x_train[0]에 대한 레이블 값:', y_train[0]) # [0,0,0,0,0,1,0,0,0,0]"
      ]
    },
    {
      "cell_type": "markdown",
      "metadata": {
        "id": "2Aeq3JSoQlr2"
      },
      "source": [
        "##**3. 모델 학습시키기**"
      ]
    },
    {
      "cell_type": "markdown",
      "metadata": {
        "id": "P0zuB8sS5XuI"
      },
      "source": [
        "### **3-1. 신경망 모델 생성**\n",
        "필요한 형태와 타입의 층을 쌓아 아래와 같은 설계의 신경망을 생성해보자.\n",
        "- 총 3개의 층으로 구성 (입력층-은닉층-출력층)\n",
        "\n",
        "※ 참고링크 : https://keras.io/ko/getting-started/sequential-model-guide/\n",
        "><img src='https://drive.google.com/uc?id=1PBpCiE0flje7zTg0GdPv34FD0XX4Y9In' width=400>\n"
      ]
    },
    {
      "cell_type": "markdown",
      "metadata": {
        "id": "gVD65MOpp3iJ"
      },
      "source": [
        "#### ▶▶ 신경망 객체 생성\n",
        "- 신경망 모델([tf.keras.models.Sequential](https://keras.io/api/models/sequential/)) 객체 생성하기\n",
        "- 순방향망을 만드는 가장 쉬운 방법은 Sequential 클래스를 이용하는 것임\n",
        "\n",
        "※ Sequential 클래스는 최소한의 코드로 심층 신경망을 빌드할 수 있는 하이레벨 신경망 API이다."
      ]
    },
    {
      "cell_type": "code",
      "execution_count": null,
      "metadata": {
        "id": "fXisGUHUpQiv"
      },
      "outputs": [],
      "source": [
        "# 신경망 모델 생성하기\n",
        "from keras import models\n",
        "model = models.Sequential() # 신경망 객체 생성"
      ]
    },
    {
      "cell_type": "markdown",
      "metadata": {
        "id": "Phe6Hz1PqgR9"
      },
      "source": [
        "#### ▶▶ 신경망 층 쌓기\n",
        "- 케라스에서는 add() 메서드를 이용해 모델의 층을 쉽게 추가할 수 있음\n",
        "- 데이터와 해결할 문제의 성격에 따라 적절한 타입의 층을 선택하는 것이 중요함\n",
        "- 이번 실습에서는 완전연결 순방향망을 구현하는 것이 목표이므로 [Dense](https://keras.io/api/layers/core_layers/dense/) 층을 선택\n",
        "\n",
        "※ 완전연결층(fully-connected layer)과 밀집층(dense layer)은 서로 같은 의미이다.<br>\n",
        "※ 이외에도 CNN 구축을 위한 Convolution Layer, Pooling Layer, RNN 구축을 위한 Recurrent Layer 등 다양한 층을 지원한다."
      ]
    },
    {
      "cell_type": "markdown",
      "metadata": {
        "id": "uZEaXqxQfQJe"
      },
      "source": [
        ">층을 만들 때는 출력의 개수, 입력의 형태, 활성화 함수 등을 지정해준다.\n",
        "```\n",
        "tf.keras.layers.Dense(units, input_shape, activation, ...)\n",
        "```\n",
        "- units : 출력의 개수\n",
        "- input_shape : 입력 데이터의 형태\n",
        "- activation : 활성화 함수"
      ]
    },
    {
      "cell_type": "markdown",
      "metadata": {
        "id": "hMLwL0df81aP"
      },
      "source": [
        ">활성화 함수(activation function) 종류\n",
        ">- [Sigmoid](https://gooopy.tistory.com/52?category=824281) : 퍼셉트론의 계단 함수 대신 사용하는 가장 기본적인 활성화 함수\n",
        ">- [ReLu](https://gooopy.tistory.com/55) : 신경망의 은닉층에서 무난하게 많이 사용되는 함수\n",
        ">- [Softmax](https://gooopy.tistory.com/53) : 다중분류 문제의 출력층에서 사용되는 함수 <font color='tomato'>(소프트맥수 출력 값음 각 클래스에 속할 확률을 의미함)</font>\n",
        ">- 케라스에서 지원하는 활성화 함수 종류 : https://keras.io/api/layers/activations/"
      ]
    },
    {
      "cell_type": "code",
      "execution_count": null,
      "metadata": {
        "id": "j3iwenvF5z3B"
      },
      "outputs": [],
      "source": [
        "# 신경망 모델에 은닉층, 출력층 추가하기\n",
        "from keras import layers\n",
        "model.add(layers.Input(shape=(784,))) # 입력층 add(층) input(형태)\n",
        "model.add(layers.Dense(64, activation='sigmoid')) # 은닉층 Dense(노드갯수, 활성화 함수)\n",
        "model.add(layers.Dense(10, activation='softmax')) # 출력층"
      ]
    },
    {
      "cell_type": "markdown",
      "metadata": {
        "id": "3IMr1e5rrBDz"
      },
      "source": [
        "#### ▶▶ 학습 방식 설정하기\n",
        "- 모델을 학습시키기 전에 compile() 메서드를 이용해 학습 방식에 대한 환경을 설정해야 함\n",
        "\n",
        "※ 참고링크 : https://keras.io/api/models/model_training_apis/"
      ]
    },
    {
      "cell_type": "markdown",
      "metadata": {
        "id": "WR-pSYaHyx9f"
      },
      "source": [
        "\n",
        "> 컴파일 과정에서 아래 세 가지를 설정할 수 있다.\n",
        "```\n",
        "compile(optimizer, loss, metrics)\n",
        "```\n",
        "- 옵티마이저(optimizer) : 손실이 최소가 되는 가중치와 편향을 구하는 최적화 알고리즘 (Ex.'SGD'(확률적 경사하강법))\n",
        "- 손실함수(loss) : 손실을 계산하는 방법 (Ex. 'categorical_crossentropy'(범주형 교차 엔트로피))\n",
        "- 평가지표(metrics) : 학습 또는 테스트 중에 모델의 성능을 모니터링하기 위한 성능 지표(Ex. 'accuracy'(정확도))<br>\n"
      ]
    },
    {
      "cell_type": "code",
      "execution_count": null,
      "metadata": {
        "id": "sXJ05g3wpVs5"
      },
      "outputs": [],
      "source": [
        "# 학습 방식 설정하기\n",
        "model.compile(optimizer='SGD', loss='categorical_crossentropy', metrics=['accuracy'])"
      ]
    },
    {
      "cell_type": "markdown",
      "metadata": {
        "id": "3d9XlhrZrq1U"
      },
      "source": [
        "#### ▶▶ 신경망 정보 확인하기\n",
        "- summary() 메서드를 이용해 구축한 신경망의 정보를 확인할 수 있음"
      ]
    },
    {
      "cell_type": "code",
      "execution_count": null,
      "metadata": {
        "id": "n2KEhusXNqT8",
        "colab": {
          "base_uri": "https://localhost:8080/",
          "height": 197
        },
        "outputId": "351a6b2d-1e28-4ea4-9e5d-024e1e2db1d1"
      },
      "outputs": [
        {
          "output_type": "display_data",
          "data": {
            "text/plain": [
              "\u001b[1mModel: \"sequential\"\u001b[0m\n"
            ],
            "text/html": [
              "<pre style=\"white-space:pre;overflow-x:auto;line-height:normal;font-family:Menlo,'DejaVu Sans Mono',consolas,'Courier New',monospace\"><span style=\"font-weight: bold\">Model: \"sequential\"</span>\n",
              "</pre>\n"
            ]
          },
          "metadata": {}
        },
        {
          "output_type": "display_data",
          "data": {
            "text/plain": [
              "┏━━━━━━━━━━━━━━━━━━━━━━━━━━━━━━━━━━━━━━┳━━━━━━━━━━━━━━━━━━━━━━━━━━━━━┳━━━━━━━━━━━━━━━━━┓\n",
              "┃\u001b[1m \u001b[0m\u001b[1mLayer (type)                        \u001b[0m\u001b[1m \u001b[0m┃\u001b[1m \u001b[0m\u001b[1mOutput Shape               \u001b[0m\u001b[1m \u001b[0m┃\u001b[1m \u001b[0m\u001b[1m        Param #\u001b[0m\u001b[1m \u001b[0m┃\n",
              "┡━━━━━━━━━━━━━━━━━━━━━━━━━━━━━━━━━━━━━━╇━━━━━━━━━━━━━━━━━━━━━━━━━━━━━╇━━━━━━━━━━━━━━━━━┩\n",
              "│ dense (\u001b[38;5;33mDense\u001b[0m)                        │ (\u001b[38;5;45mNone\u001b[0m, \u001b[38;5;34m64\u001b[0m)                  │          \u001b[38;5;34m50,240\u001b[0m │\n",
              "├──────────────────────────────────────┼─────────────────────────────┼─────────────────┤\n",
              "│ dense_1 (\u001b[38;5;33mDense\u001b[0m)                      │ (\u001b[38;5;45mNone\u001b[0m, \u001b[38;5;34m10\u001b[0m)                  │             \u001b[38;5;34m650\u001b[0m │\n",
              "└──────────────────────────────────────┴─────────────────────────────┴─────────────────┘\n"
            ],
            "text/html": [
              "<pre style=\"white-space:pre;overflow-x:auto;line-height:normal;font-family:Menlo,'DejaVu Sans Mono',consolas,'Courier New',monospace\">┏━━━━━━━━━━━━━━━━━━━━━━━━━━━━━━━━━━━━━━┳━━━━━━━━━━━━━━━━━━━━━━━━━━━━━┳━━━━━━━━━━━━━━━━━┓\n",
              "┃<span style=\"font-weight: bold\"> Layer (type)                         </span>┃<span style=\"font-weight: bold\"> Output Shape                </span>┃<span style=\"font-weight: bold\">         Param # </span>┃\n",
              "┡━━━━━━━━━━━━━━━━━━━━━━━━━━━━━━━━━━━━━━╇━━━━━━━━━━━━━━━━━━━━━━━━━━━━━╇━━━━━━━━━━━━━━━━━┩\n",
              "│ dense (<span style=\"color: #0087ff; text-decoration-color: #0087ff\">Dense</span>)                        │ (<span style=\"color: #00d7ff; text-decoration-color: #00d7ff\">None</span>, <span style=\"color: #00af00; text-decoration-color: #00af00\">64</span>)                  │          <span style=\"color: #00af00; text-decoration-color: #00af00\">50,240</span> │\n",
              "├──────────────────────────────────────┼─────────────────────────────┼─────────────────┤\n",
              "│ dense_1 (<span style=\"color: #0087ff; text-decoration-color: #0087ff\">Dense</span>)                      │ (<span style=\"color: #00d7ff; text-decoration-color: #00d7ff\">None</span>, <span style=\"color: #00af00; text-decoration-color: #00af00\">10</span>)                  │             <span style=\"color: #00af00; text-decoration-color: #00af00\">650</span> │\n",
              "└──────────────────────────────────────┴─────────────────────────────┴─────────────────┘\n",
              "</pre>\n"
            ]
          },
          "metadata": {}
        },
        {
          "output_type": "display_data",
          "data": {
            "text/plain": [
              "\u001b[1m Total params: \u001b[0m\u001b[38;5;34m50,890\u001b[0m (198.79 KB)\n"
            ],
            "text/html": [
              "<pre style=\"white-space:pre;overflow-x:auto;line-height:normal;font-family:Menlo,'DejaVu Sans Mono',consolas,'Courier New',monospace\"><span style=\"font-weight: bold\"> Total params: </span><span style=\"color: #00af00; text-decoration-color: #00af00\">50,890</span> (198.79 KB)\n",
              "</pre>\n"
            ]
          },
          "metadata": {}
        },
        {
          "output_type": "display_data",
          "data": {
            "text/plain": [
              "\u001b[1m Trainable params: \u001b[0m\u001b[38;5;34m50,890\u001b[0m (198.79 KB)\n"
            ],
            "text/html": [
              "<pre style=\"white-space:pre;overflow-x:auto;line-height:normal;font-family:Menlo,'DejaVu Sans Mono',consolas,'Courier New',monospace\"><span style=\"font-weight: bold\"> Trainable params: </span><span style=\"color: #00af00; text-decoration-color: #00af00\">50,890</span> (198.79 KB)\n",
              "</pre>\n"
            ]
          },
          "metadata": {}
        },
        {
          "output_type": "display_data",
          "data": {
            "text/plain": [
              "\u001b[1m Non-trainable params: \u001b[0m\u001b[38;5;34m0\u001b[0m (0.00 B)\n"
            ],
            "text/html": [
              "<pre style=\"white-space:pre;overflow-x:auto;line-height:normal;font-family:Menlo,'DejaVu Sans Mono',consolas,'Courier New',monospace\"><span style=\"font-weight: bold\"> Non-trainable params: </span><span style=\"color: #00af00; text-decoration-color: #00af00\">0</span> (0.00 B)\n",
              "</pre>\n"
            ]
          },
          "metadata": {}
        }
      ],
      "source": [
        "# 요약정보 확인하기\n",
        "model.summary()"
      ]
    },
    {
      "cell_type": "markdown",
      "metadata": {
        "id": "Khn6RbIVwRQ3"
      },
      "source": [
        "....................<br>\n",
        "😶 각 층의 매개변수 개수(Param #)는 어떻게 계산되었을까?\n",
        "\n",
        "\n"
      ]
    },
    {
      "cell_type": "markdown",
      "metadata": {
        "id": "RuDpS2nfACyq"
      },
      "source": [
        "### **3-2. 신경망 모델 학습**\n",
        "신경망을 구축하고 학습 방법을 설정했다면 fit() 메서드를 이용해 신경망을 학습 시킬 수 있다.\n",
        "\n",
        "※ 참고링크 : https://keras.io/api/models/model_training_apis/"
      ]
    },
    {
      "cell_type": "markdown",
      "metadata": {
        "id": "8mETw7-xzWzu"
      },
      "source": [
        "\n",
        "> 학습은 아래와 같이 시킬 수 있다.\n",
        "```\n",
        "fit(x, y, epochs, batch_size, verbose, ...)\n",
        "```\n",
        "- epochs : 모델의 학습 횟수\n",
        "- batch_size : 매개변수를 업데이트하기 위해 사용되는 샘플의 개수\n",
        "- verbose : 로그를 표시할지 여부\n"
      ]
    },
    {
      "cell_type": "code",
      "execution_count": null,
      "metadata": {
        "id": "Aez3EZ5zpelL",
        "colab": {
          "base_uri": "https://localhost:8080/"
        },
        "outputId": "8545bb74-0317-4c74-b64c-1bc030ddb39b"
      },
      "outputs": [
        {
          "output_type": "stream",
          "name": "stdout",
          "text": [
            "Epoch 1/30\n",
            "\u001b[1m469/469\u001b[0m \u001b[32m━━━━━━━━━━━━━━━━━━━━\u001b[0m\u001b[37m\u001b[0m \u001b[1m2s\u001b[0m 2ms/step - accuracy: 0.3457 - loss: 2.2142\n",
            "Epoch 2/30\n",
            "\u001b[1m469/469\u001b[0m \u001b[32m━━━━━━━━━━━━━━━━━━━━\u001b[0m\u001b[37m\u001b[0m \u001b[1m1s\u001b[0m 2ms/step - accuracy: 0.6999 - loss: 1.6962\n",
            "Epoch 3/30\n",
            "\u001b[1m469/469\u001b[0m \u001b[32m━━━━━━━━━━━━━━━━━━━━\u001b[0m\u001b[37m\u001b[0m \u001b[1m1s\u001b[0m 3ms/step - accuracy: 0.7676 - loss: 1.3418\n",
            "Epoch 4/30\n",
            "\u001b[1m469/469\u001b[0m \u001b[32m━━━━━━━━━━━━━━━━━━━━\u001b[0m\u001b[37m\u001b[0m \u001b[1m2s\u001b[0m 4ms/step - accuracy: 0.8003 - loss: 1.0938\n",
            "Epoch 5/30\n",
            "\u001b[1m469/469\u001b[0m \u001b[32m━━━━━━━━━━━━━━━━━━━━\u001b[0m\u001b[37m\u001b[0m \u001b[1m2s\u001b[0m 2ms/step - accuracy: 0.8174 - loss: 0.9344\n",
            "Epoch 6/30\n",
            "\u001b[1m469/469\u001b[0m \u001b[32m━━━━━━━━━━━━━━━━━━━━\u001b[0m\u001b[37m\u001b[0m \u001b[1m1s\u001b[0m 3ms/step - accuracy: 0.8311 - loss: 0.8188\n",
            "Epoch 7/30\n",
            "\u001b[1m469/469\u001b[0m \u001b[32m━━━━━━━━━━━━━━━━━━━━\u001b[0m\u001b[37m\u001b[0m \u001b[1m2s\u001b[0m 3ms/step - accuracy: 0.8451 - loss: 0.7308\n",
            "Epoch 8/30\n",
            "\u001b[1m469/469\u001b[0m \u001b[32m━━━━━━━━━━━━━━━━━━━━\u001b[0m\u001b[37m\u001b[0m \u001b[1m2s\u001b[0m 3ms/step - accuracy: 0.8525 - loss: 0.6710\n",
            "Epoch 9/30\n",
            "\u001b[1m469/469\u001b[0m \u001b[32m━━━━━━━━━━━━━━━━━━━━\u001b[0m\u001b[37m\u001b[0m \u001b[1m2s\u001b[0m 2ms/step - accuracy: 0.8565 - loss: 0.6307\n",
            "Epoch 10/30\n",
            "\u001b[1m469/469\u001b[0m \u001b[32m━━━━━━━━━━━━━━━━━━━━\u001b[0m\u001b[37m\u001b[0m \u001b[1m1s\u001b[0m 3ms/step - accuracy: 0.8635 - loss: 0.5864\n",
            "Epoch 11/30\n",
            "\u001b[1m469/469\u001b[0m \u001b[32m━━━━━━━━━━━━━━━━━━━━\u001b[0m\u001b[37m\u001b[0m \u001b[1m1s\u001b[0m 3ms/step - accuracy: 0.8698 - loss: 0.5538\n",
            "Epoch 12/30\n",
            "\u001b[1m469/469\u001b[0m \u001b[32m━━━━━━━━━━━━━━━━━━━━\u001b[0m\u001b[37m\u001b[0m \u001b[1m1s\u001b[0m 3ms/step - accuracy: 0.8746 - loss: 0.5254\n",
            "Epoch 13/30\n",
            "\u001b[1m469/469\u001b[0m \u001b[32m━━━━━━━━━━━━━━━━━━━━\u001b[0m\u001b[37m\u001b[0m \u001b[1m1s\u001b[0m 3ms/step - accuracy: 0.8772 - loss: 0.5048\n",
            "Epoch 14/30\n",
            "\u001b[1m469/469\u001b[0m \u001b[32m━━━━━━━━━━━━━━━━━━━━\u001b[0m\u001b[37m\u001b[0m \u001b[1m3s\u001b[0m 4ms/step - accuracy: 0.8825 - loss: 0.4822\n",
            "Epoch 15/30\n",
            "\u001b[1m469/469\u001b[0m \u001b[32m━━━━━━━━━━━━━━━━━━━━\u001b[0m\u001b[37m\u001b[0m \u001b[1m2s\u001b[0m 5ms/step - accuracy: 0.8844 - loss: 0.4669\n",
            "Epoch 16/30\n",
            "\u001b[1m469/469\u001b[0m \u001b[32m━━━━━━━━━━━━━━━━━━━━\u001b[0m\u001b[37m\u001b[0m \u001b[1m1s\u001b[0m 3ms/step - accuracy: 0.8855 - loss: 0.4560\n",
            "Epoch 17/30\n",
            "\u001b[1m469/469\u001b[0m \u001b[32m━━━━━━━━━━━━━━━━━━━━\u001b[0m\u001b[37m\u001b[0m \u001b[1m2s\u001b[0m 2ms/step - accuracy: 0.8874 - loss: 0.4415\n",
            "Epoch 18/30\n",
            "\u001b[1m469/469\u001b[0m \u001b[32m━━━━━━━━━━━━━━━━━━━━\u001b[0m\u001b[37m\u001b[0m \u001b[1m1s\u001b[0m 2ms/step - accuracy: 0.8895 - loss: 0.4298\n",
            "Epoch 19/30\n",
            "\u001b[1m469/469\u001b[0m \u001b[32m━━━━━━━━━━━━━━━━━━━━\u001b[0m\u001b[37m\u001b[0m \u001b[1m1s\u001b[0m 3ms/step - accuracy: 0.8927 - loss: 0.4165\n",
            "Epoch 20/30\n",
            "\u001b[1m469/469\u001b[0m \u001b[32m━━━━━━━━━━━━━━━━━━━━\u001b[0m\u001b[37m\u001b[0m \u001b[1m1s\u001b[0m 3ms/step - accuracy: 0.8914 - loss: 0.4150\n",
            "Epoch 21/30\n",
            "\u001b[1m469/469\u001b[0m \u001b[32m━━━━━━━━━━━━━━━━━━━━\u001b[0m\u001b[37m\u001b[0m \u001b[1m1s\u001b[0m 3ms/step - accuracy: 0.8936 - loss: 0.4003\n",
            "Epoch 22/30\n",
            "\u001b[1m469/469\u001b[0m \u001b[32m━━━━━━━━━━━━━━━━━━━━\u001b[0m\u001b[37m\u001b[0m \u001b[1m1s\u001b[0m 2ms/step - accuracy: 0.8936 - loss: 0.4001\n",
            "Epoch 23/30\n",
            "\u001b[1m469/469\u001b[0m \u001b[32m━━━━━━━━━━━━━━━━━━━━\u001b[0m\u001b[37m\u001b[0m \u001b[1m2s\u001b[0m 4ms/step - accuracy: 0.8981 - loss: 0.3819\n",
            "Epoch 24/30\n",
            "\u001b[1m469/469\u001b[0m \u001b[32m━━━━━━━━━━━━━━━━━━━━\u001b[0m\u001b[37m\u001b[0m \u001b[1m2s\u001b[0m 3ms/step - accuracy: 0.8986 - loss: 0.3813\n",
            "Epoch 25/30\n",
            "\u001b[1m469/469\u001b[0m \u001b[32m━━━━━━━━━━━━━━━━━━━━\u001b[0m\u001b[37m\u001b[0m \u001b[1m2s\u001b[0m 3ms/step - accuracy: 0.8968 - loss: 0.3788\n",
            "Epoch 26/30\n",
            "\u001b[1m469/469\u001b[0m \u001b[32m━━━━━━━━━━━━━━━━━━━━\u001b[0m\u001b[37m\u001b[0m \u001b[1m1s\u001b[0m 2ms/step - accuracy: 0.8989 - loss: 0.3730\n",
            "Epoch 27/30\n",
            "\u001b[1m469/469\u001b[0m \u001b[32m━━━━━━━━━━━━━━━━━━━━\u001b[0m\u001b[37m\u001b[0m \u001b[1m1s\u001b[0m 3ms/step - accuracy: 0.8995 - loss: 0.3689\n",
            "Epoch 28/30\n",
            "\u001b[1m469/469\u001b[0m \u001b[32m━━━━━━━━━━━━━━━━━━━━\u001b[0m\u001b[37m\u001b[0m \u001b[1m1s\u001b[0m 2ms/step - accuracy: 0.9012 - loss: 0.3608\n",
            "Epoch 29/30\n",
            "\u001b[1m469/469\u001b[0m \u001b[32m━━━━━━━━━━━━━━━━━━━━\u001b[0m\u001b[37m\u001b[0m \u001b[1m1s\u001b[0m 2ms/step - accuracy: 0.8993 - loss: 0.3597\n",
            "Epoch 30/30\n",
            "\u001b[1m469/469\u001b[0m \u001b[32m━━━━━━━━━━━━━━━━━━━━\u001b[0m\u001b[37m\u001b[0m \u001b[1m1s\u001b[0m 2ms/step - accuracy: 0.9034 - loss: 0.3512\n"
          ]
        },
        {
          "output_type": "execute_result",
          "data": {
            "text/plain": [
              "<keras.src.callbacks.history.History at 0x79c500cb1330>"
            ]
          },
          "metadata": {},
          "execution_count": 22
        }
      ],
      "source": [
        "# 모델 학습 시키기\n",
        "model.fit(x_train, y_train, epochs=30, batch_size=128)"
      ]
    },
    {
      "cell_type": "markdown",
      "metadata": {
        "id": "eoX0W38iS5za"
      },
      "source": [
        "##**4. 모델 평가하기**"
      ]
    },
    {
      "cell_type": "markdown",
      "metadata": {
        "id": "5ifKIq2_1X8x"
      },
      "source": [
        "학습이 완료되면 evaluate() 메서드를 이용해 테스트 데이터로 성능을 측청한다.\n",
        "- evaluate()는 compile()에서 설정한 손실값과 평가지표값을 반환함\n",
        "- 따라서 여기서는 loss(범주형 교차 엔트로피)와 accuracy(정확도)를 반환함\n",
        "\n",
        "※참고링크 : https://keras.io/api/models/model_training_apis/"
      ]
    },
    {
      "cell_type": "code",
      "execution_count": null,
      "metadata": {
        "id": "WTn_6u4apgqs",
        "colab": {
          "base_uri": "https://localhost:8080/"
        },
        "outputId": "5ce9106c-eaa3-4e08-b416-81bc9338dd33"
      },
      "outputs": [
        {
          "output_type": "stream",
          "name": "stdout",
          "text": [
            "테스트 손실값 : 0.337105393409729 테스트 정확도 : 0.9085000157356262\n"
          ]
        }
      ],
      "source": [
        "# 모델 평가하기\n",
        "test_loss, test_acc = model.evaluate(x_test, y_test, verbose=0)\n",
        "print('테스트 손실값 :', test_loss, '테스트 정확도 :', test_acc)"
      ]
    },
    {
      "cell_type": "markdown",
      "metadata": {
        "id": "KKb7aZqJTAkc"
      },
      "source": [
        "##**5. 모델 활용하기**"
      ]
    },
    {
      "cell_type": "markdown",
      "metadata": {
        "id": "2aF9yPyU3g9D"
      },
      "source": [
        "predict() 메서드를 이용해 새로운 데이터를 분류할 수 있다.\n",
        "\n",
        "※참고링크 : https://keras.io/api/models/model_training_apis/"
      ]
    },
    {
      "cell_type": "markdown",
      "metadata": {
        "id": "n2Lxv4X804JJ"
      },
      "source": [
        "#####테스트 샘플을 이용해 신경망의 판단을 확인해보자."
      ]
    },
    {
      "cell_type": "markdown",
      "source": [
        "- 신경망 모델은 784픽셀 데이터를 여러개 입력 받아 10개의 확률 값을 여러개 출력한다.\n",
        "- fit(), evaluate()와 마찬가지로 predict()에 데이터를 넘기고 결과를 반환 받을 때는 데이터의 형태를 잘 맞춰준다.\n",
        " - x_test[n].reshape(1, 784) : 입력할 데이터는 (1, 784)의 이차원 형태로 맞춰야 함\n",
        " - argmax(axis=-1) : 매트릭스에서 벡터 내 최대 값을 가지는 인덱스를 구함"
      ],
      "metadata": {
        "id": "XCF1bzB3V0yF"
      }
    },
    {
      "cell_type": "code",
      "execution_count": null,
      "metadata": {
        "id": "xPmjF8rcYP3X",
        "colab": {
          "base_uri": "https://localhost:8080/",
          "height": 169
        },
        "outputId": "ece8d51c-4249-4d57-edb9-fe8eb8dac5aa"
      },
      "outputs": [
        {
          "output_type": "stream",
          "name": "stdout",
          "text": [
            "아래의 숫자는 [1] 입니다.\n",
            "실제 답은 1 입니다.\n",
            "\n"
          ]
        },
        {
          "output_type": "display_data",
          "data": {
            "text/plain": [
              "<Figure size 100x100 with 1 Axes>"
            ],
            "image/png": "[encoded data removed]"
          },
          "metadata": {}
        }
      ],
      "source": [
        "# 테스트 샘플 분류 결과 확인하기\n",
        "n = 5 # 테스트할 샘플 번호\n",
        "y_prob = model.predict(x_test[n].reshape(1, 784), verbose=0) # 출력층의 출력 벡터 (각 클래스의 확률값)\n",
        "y_pred = y_prob.argmax(axis=-1) # 출력 벡터 중 확률 값이 가장 높은 클래스\n",
        "print('아래의 숫자는', y_pred, '입니다.')\n",
        "print('실제 답은', y_test[n].tolist().index(1), '입니다.\\n')\n",
        "# 테스트 샘플 이미지 출력하기\n",
        "plt.figure(figsize = (1, 1))\n",
        "plt.axis('off')\n",
        "#plt.rcParams['savefig.pad_inches'] = 0\n",
        "plt.imshow(x_test[n].reshape(28, 28), cmap=plt.cm.gray)\n",
        "plt.show()"
      ]
    },
    {
      "cell_type": "markdown",
      "metadata": {
        "id": "GrC6SmotE0eg"
      },
      "source": [
        "....................<br>\n",
        "😶 신경망이 정답을 잘 맞추지 못한 경우를 찾아보자.\n",
        "\n",
        "\n"
      ]
    },
    {
      "cell_type": "markdown",
      "metadata": {
        "id": "sAYHtptGIk8y"
      },
      "source": [
        "#####새로운 손글씨가 무슨 숫자인지 맞춰보도록 해보자."
      ]
    },
    {
      "cell_type": "markdown",
      "metadata": {
        "id": "g-pE0g9cMHc9"
      },
      "source": [
        "- 그림판에서 28 * 28 픽셀 글씨를 적어 testdata.png로 저장하고 업로드하기"
      ]
    },
    {
      "cell_type": "code",
      "execution_count": null,
      "metadata": {
        "id": "HFrs-kXwXANJ",
        "colab": {
          "base_uri": "https://localhost:8080/",
          "height": 76
        },
        "outputId": "029dfff9-746c-4a69-e7c6-5002a78ef36d"
      },
      "outputs": [
        {
          "output_type": "display_data",
          "data": {
            "text/plain": [
              "<IPython.core.display.HTML object>"
            ],
            "text/html": [
              "\n",
              "     <input type=\"file\" id=\"files-1051eca5-b5bc-4c0c-ba5f-fc244c90a6d3\" name=\"files[]\" multiple disabled\n",
              "        style=\"border:none\" />\n",
              "     <output id=\"result-1051eca5-b5bc-4c0c-ba5f-fc244c90a6d3\">\n",
              "      Upload widget is only available when the cell has been executed in the\n",
              "      current browser session. Please rerun this cell to enable.\n",
              "      </output>\n",
              "      <script>// Copyright 2017 Google LLC\n",
              "//\n",
              "// Licensed under the Apache License, Version 2.0 (the \"License\");\n",
              "// you may not use this file except in compliance with the License.\n",
              "// You may obtain a copy of the License at\n",
              "//\n",
              "//      http://www.apache.org/licenses/LICENSE-2.0\n",
              "//\n",
              "// Unless required by applicable law or agreed to in writing, software\n",
              "// distributed under the License is distributed on an \"AS IS\" BASIS,\n",
              "// WITHOUT WARRANTIES OR CONDITIONS OF ANY KIND, either express or implied.\n",
              "// See the License for the specific language governing permissions and\n",
              "// limitations under the License.\n",
              "\n",
              "/**\n",
              " * @fileoverview Helpers for google.colab Python module.\n",
              " */\n",
              "(function(scope) {\n",
              "function span(text, styleAttributes = {}) {\n",
              "  const element = document.createElement('span');\n",
              "  element.textContent = text;\n",
              "  for (const key of Object.keys(styleAttributes)) {\n",
              "    element.style[key] = styleAttributes[key];\n",
              "  }\n",
              "  return element;\n",
              "}\n",
              "\n",
              "// Max number of bytes which will be uploaded at a time.\n",
              "const MAX_PAYLOAD_SIZE = 100 * 1024;\n",
              "\n",
              "function _uploadFiles(inputId, outputId) {\n",
              "  const steps = uploadFilesStep(inputId, outputId);\n",
              "  const outputElement = document.getElementById(outputId);\n",
              "  // Cache steps on the outputElement to make it available for the next call\n",
              "  // to uploadFilesContinue from Python.\n",
              "  outputElement.steps = steps;\n",
              "\n",
              "  return _uploadFilesContinue(outputId);\n",
              "}\n",
              "\n",
              "// This is roughly an async generator (not supported in the browser yet),\n",
              "// where there are multiple asynchronous steps and the Python side is going\n",
              "// to poll for completion of each step.\n",
              "// This uses a Promise to block the python side on completion of each step,\n",
              "// then passes the result of the previous step as the input to the next step.\n",
              "function _uploadFilesContinue(outputId) {\n",
              "  const outputElement = document.getElementById(outputId);\n",
              "  const steps = outputElement.steps;\n",
              "\n",
              "  const next = steps.next(outputElement.lastPromiseValue);\n",
              "  return Promise.resolve(next.value.promise).then((value) => {\n",
              "    // Cache the last promise value to make it available to the next\n",
              "    // step of the generator.\n",
              "    outputElement.lastPromiseValue = value;\n",
              "    return next.value.response;\n",
              "  });\n",
              "}\n",
              "\n",
              "/**\n",
              " * Generator function which is called between each async step of the upload\n",
              " * process.\n",
              " * @param {string} inputId Element ID of the input file picker element.\n",
              " * @param {string} outputId Element ID of the output display.\n",
              " * @return {!Iterable<!Object>} Iterable of next steps.\n",
              " */\n",
              "function* uploadFilesStep(inputId, outputId) {\n",
              "  const inputElement = document.getElementById(inputId);\n",
              "  inputElement.disabled = false;\n",
              "\n",
              "  const outputElement = document.getElementById(outputId);\n",
              "  outputElement.innerHTML = '';\n",
              "\n",
              "  const pickedPromise = new Promise((resolve) => {\n",
              "    inputElement.addEventListener('change', (e) => {\n",
              "      resolve(e.target.files);\n",
              "    });\n",
              "  });\n",
              "\n",
              "  const cancel = document.createElement('button');\n",
              "  inputElement.parentElement.appendChild(cancel);\n",
              "  cancel.textContent = 'Cancel upload';\n",
              "  const cancelPromise = new Promise((resolve) => {\n",
              "    cancel.onclick = () => {\n",
              "      resolve(null);\n",
              "    };\n",
              "  });\n",
              "\n",
              "  // Wait for the user to pick the files.\n",
              "  const files = yield {\n",
              "    promise: Promise.race([pickedPromise, cancelPromise]),\n",
              "    response: {\n",
              "      action: 'starting',\n",
              "    }\n",
              "  };\n",
              "\n",
              "  cancel.remove();\n",
              "\n",
              "  // Disable the input element since further picks are not allowed.\n",
              "  inputElement.disabled = true;\n",
              "\n",
              "  if (!files) {\n",
              "    return {\n",
              "      response: {\n",
              "        action: 'complete',\n",
              "      }\n",
              "    };\n",
              "  }\n",
              "\n",
              "  for (const file of files) {\n",
              "    const li = document.createElement('li');\n",
              "    li.append(span(file.name, {fontWeight: 'bold'}));\n",
              "    li.append(span(\n",
              "        `(${file.type || 'n/a'}) - ${file.size} bytes, ` +\n",
              "        `last modified: ${\n",
              "            file.lastModifiedDate ? file.lastModifiedDate.toLocaleDateString() :\n",
              "                                    'n/a'} - `));\n",
              "    const percent = span('0% done');\n",
              "    li.appendChild(percent);\n",
              "\n",
              "    outputElement.appendChild(li);\n",
              "\n",
              "    const fileDataPromise = new Promise((resolve) => {\n",
              "      const reader = new FileReader();\n",
              "      reader.onload = (e) => {\n",
              "        resolve(e.target.result);\n",
              "      };\n",
              "      reader.readAsArrayBuffer(file);\n",
              "    });\n",
              "    // Wait for the data to be ready.\n",
              "    let fileData = yield {\n",
              "      promise: fileDataPromise,\n",
              "      response: {\n",
              "        action: 'continue',\n",
              "      }\n",
              "    };\n",
              "\n",
              "    // Use a chunked sending to avoid message size limits. See b/62115660.\n",
              "    let position = 0;\n",
              "    do {\n",
              "      const length = Math.min(fileData.byteLength - position, MAX_PAYLOAD_SIZE);\n",
              "      const chunk = new Uint8Array(fileData, position, length);\n",
              "      position += length;\n",
              "\n",
              "      const base64 = btoa(String.fromCharCode.apply(null, chunk));\n",
              "      yield {\n",
              "        response: {\n",
              "          action: 'append',\n",
              "          file: file.name,\n",
              "          data: base64,\n",
              "        },\n",
              "      };\n",
              "\n",
              "      let percentDone = fileData.byteLength === 0 ?\n",
              "          100 :\n",
              "          Math.round((position / fileData.byteLength) * 100);\n",
              "      percent.textContent = `${percentDone}% done`;\n",
              "\n",
              "    } while (position < fileData.byteLength);\n",
              "  }\n",
              "\n",
              "  // All done.\n",
              "  yield {\n",
              "    response: {\n",
              "      action: 'complete',\n",
              "    }\n",
              "  };\n",
              "}\n",
              "\n",
              "scope.google = scope.google || {};\n",
              "scope.google.colab = scope.google.colab || {};\n",
              "scope.google.colab._files = {\n",
              "  _uploadFiles,\n",
              "  _uploadFilesContinue,\n",
              "};\n",
              "})(self);\n",
              "</script> "
            ]
          },
          "metadata": {}
        },
        {
          "output_type": "stream",
          "name": "stdout",
          "text": [
            "Saving six.png to six (1).png\n"
          ]
        }
      ],
      "source": [
        "# 파일 업로드하기\n",
        "from google.colab import files\n",
        "uploaded = files.upload()"
      ]
    },
    {
      "cell_type": "markdown",
      "metadata": {
        "id": "8RDAAVF8L0XN"
      },
      "source": [
        "- 그림판으로 그린 이미지는 RGB를 이용하기 때문에 데이터의 형태는 (3, 28, 28)\n",
        "- 따라서 원본 이미지를 회색조로 변화하여 형태를 (28, 28)로 MNIST와 같게 해줘야 함\n"
      ]
    },
    {
      "cell_type": "code",
      "execution_count": null,
      "metadata": {
        "id": "SqfpDkb6ZI1D",
        "colab": {
          "base_uri": "https://localhost:8080/",
          "height": 94
        },
        "outputId": "dd336284-8463-4d27-e431-61ebf22b18cc"
      },
      "outputs": [
        {
          "output_type": "display_data",
          "data": {
            "text/plain": [
              "<Figure size 100x100 with 1 Axes>"
            ],
            "image/png": "[encoded data removed]"
          },
          "metadata": {}
        }
      ],
      "source": [
        "# 이미지를 회색조로 변환하기\n",
        "import cv2\n",
        "test = cv2.imread('six.png')\n",
        "test = cv2.cvtColor(test, cv2.COLOR_RGB2GRAY)\n",
        "# 이미지 출력하기\n",
        "plt.figure(figsize = (1, 1))\n",
        "plt.axis('off')\n",
        "plt.rcParams['savefig.pad_inches'] = 0\n",
        "plt.imshow(test, cmap=plt.cm.gray)\n",
        "plt.show()"
      ]
    },
    {
      "cell_type": "markdown",
      "source": [
        "- 분류 결과 확인시 데이터의 형태를 2차원으로 변형해야 함"
      ],
      "metadata": {
        "id": "N8naOLa4TwZ1"
      }
    },
    {
      "cell_type": "code",
      "execution_count": null,
      "metadata": {
        "id": "QlkD2Ln3ZYBR",
        "colab": {
          "base_uri": "https://localhost:8080/"
        },
        "outputId": "e4cc3132-01da-4748-92bd-4fe8254bc6cc"
      },
      "outputs": [
        {
          "output_type": "stream",
          "name": "stdout",
          "text": [
            "이 숫자는 [6] 입니다.\n"
          ]
        }
      ],
      "source": [
        "# 분류 결과 확인하기\n",
        "test = test.astype('float32') / 255\n",
        "test = test.reshape(1, 28 * 28)\n",
        "y_prob = model.predict(test, verbose=0)\n",
        "y_pred = y_prob.argmax(axis=-1)\n",
        "print('이 숫자는', y_pred, '입니다.')"
      ]
    },
    {
      "cell_type": "markdown",
      "metadata": {
        "id": "nyXzra81UQRi"
      },
      "source": [
        "##**[+] 성능 개선하기**\n",
        "신경망의 구조를 변경하면 모델의 성능이 달라질 수 있다."
      ]
    },
    {
      "cell_type": "markdown",
      "source": [
        "\n",
        "- 은닉층의 활성화 함수를 ReLU로 변경해보자.\n",
        "```python\n",
        "import keras\n",
        "model_a = keras.models.Sequential([\n",
        "    keras.layers.Input(shape=(784,)),\n",
        "    keras.layers.Dense(64, activation='relu'),\n",
        "    keras.layers.Dense(10, activation='softmax')\n",
        "])\n",
        "```\n",
        "\n",
        "- 은닉층의 뉴런 수를 512개로 변경해보자.\n",
        "```python\n",
        "import keras\n",
        "model_b = keras.models.Sequential([\n",
        "    keras.layers.Input(shape=(784,)),\n",
        "    keras.layers.Dense(512, activation='relu'),\n",
        "    keras.layers.Dense(10, activation='softmax')\n",
        "])\n",
        "```\n",
        "\n",
        "- 은닉층을 하나 더 추가해보자.\n",
        "```python\n",
        "import keras\n",
        "model_c = keras.models.Sequential([\n",
        "    keras.layers.Input(shape=(784,)),\n",
        "    keras.layers.Dense(64, activation='relu'),\n",
        "    keras.layers.Dense(64, activation='relu'),\n",
        "    keras.layers.Dense(10, activation='softmax')\n",
        "])\n",
        "```\n",
        "\n",
        "\n",
        "\n"
      ],
      "metadata": {
        "id": "VKzTmiPiLWqR"
      }
    }
  ],
  "metadata": {
    "colab": {
      "provenance": [],
      "include_colab_link": true
    },
    "gpuClass": "standard",
    "kernelspec": {
      "display_name": "Python 3",
      "name": "python3"
    }
  },
  "nbformat": 4,
  "nbformat_minor": 0
}