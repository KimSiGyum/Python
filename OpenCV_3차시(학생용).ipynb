{
  "cells": [
    {
      "cell_type": "markdown",
      "metadata": {
        "id": "view-in-github",
        "colab_type": "text"
      },
      "source": [
        "<a href=\"https://colab.research.google.com/github/KimSiGyum/Python/blob/main/OpenCV_3%EC%B0%A8%EC%8B%9C(%ED%95%99%EC%83%9D%EC%9A%A9).ipynb\" target=\"_parent\"><img src=\"https://colab.research.google.com/assets/colab-badge.svg\" alt=\"Open In Colab\"/></a>"
      ]
    },
    {
      "cell_type": "markdown",
      "id": "e3526963-dbe1-4381-be0a-911bf7f408fa",
      "metadata": {
        "id": "e3526963-dbe1-4381-be0a-911bf7f408fa"
      },
      "source": [
        "# **OpenCV (Open Source Computer Vision Library)**"
      ]
    },
    {
      "cell_type": "markdown",
      "id": "1d210395-8a6e-4d5f-8d93-2c93910996eb",
      "metadata": {
        "id": "1d210395-8a6e-4d5f-8d93-2c93910996eb"
      },
      "source": [
        "※ [OpenCV](https://opencv.org/about/) <br>\n",
        "※ [OpenCV-Python 튜토리얼](https://docs.opencv.org/4.x/d6/d00/tutorial_py_root.html)"
      ]
    },
    {
      "cell_type": "markdown",
      "id": "01b78f88-5c77-4589-bba5-9783dfe15342",
      "metadata": {
        "id": "01b78f88-5c77-4589-bba5-9783dfe15342"
      },
      "source": [
        "## **Ch6. 기하학적 변환**\n",
        "---\n",
        "※ 튜토리얼 > Image Processing in OpenCV > [Geometric Transformations of Images](https://docs.opencv.org/4.x/da/d6e/tutorial_py_geometric_transformations.html)\n",
        "- 이미지를 구성하는 픽셀의 위치를 변환하는 것\n",
        "- 위치 이동, 크기 변환, 회전, 왜곡 등<br>  (Translation, Rotation, Scaling, Shearing, Reflection, Affine Transformation, Perspective Transformation ...)"
      ]
    },
    {
      "cell_type": "markdown",
      "id": "6fcf275e-4bb7-4457-b3f6-eccc8efa4319",
      "metadata": {
        "id": "6fcf275e-4bb7-4457-b3f6-eccc8efa4319"
      },
      "source": [
        "**▶ 크기 변환(scaling)**\n",
        "- **<span style='background-color:#ffcc00'>resize()</span>** : 지정 크기 또는 지정 비율에 따라 이미지 크기 변환하기\n",
        "- 참고 : [resize() 살펴보기](https://docs.opencv.org/4.x/da/d54/group__imgproc__transform.html#ga47a974309e9102f5f08231edc7e7529d)\n",
        "\n",
        ">resize(src, dst, dsize, fx=0, fy=0, interpolation=INTER_LINEAR)<br>\n",
        ">resize(src, dst, dsize)<br>\n",
        ">resize(src, dst, dsize=None, fx, fy)"
      ]
    },
    {
      "cell_type": "code",
      "execution_count": null,
      "id": "ddc0e05c",
      "metadata": {
        "id": "ddc0e05c"
      },
      "outputs": [],
      "source": [
        "# 패키지 가져오기\n",
        "import numpy as np\n",
        "import cv2"
      ]
    },
    {
      "cell_type": "code",
      "execution_count": null,
      "id": "74cc9221",
      "metadata": {
        "id": "74cc9221",
        "outputId": "f2c43cff-3f7e-410d-c2a1-6eeeb1db4a6e"
      },
      "outputs": [
        {
          "name": "stdout",
          "output_type": "stream",
          "text": [
            "원본 이미지의 크기는 가로 738, 세로 541이다.\n"
          ]
        }
      ],
      "source": [
        "# 이미지 읽어오기\n",
        "img = cv2.imread('card.png')\n",
        "print(f'원본 이미지의 크기는 가로 {}, 세로 {}이다.')"
      ]
    },
    {
      "cell_type": "code",
      "execution_count": null,
      "id": "2b2b0f54",
      "metadata": {
        "id": "2b2b0f54"
      },
      "outputs": [],
      "source": [
        "# 이미지를 특정 사이즈로 변환하기 (가로 200, 세로 100)\n",
        "small= cv2.resize(img, (200, 100))\n",
        "\n",
        "cv2.imshow('img', img)\n",
        "cv2.imshow('small', small)\n",
        "\n",
        "cv2.waitKey(0)\n",
        "cv2.destroyAllWindows()"
      ]
    },
    {
      "cell_type": "code",
      "execution_count": null,
      "id": "ec561b9c",
      "metadata": {
        "id": "ec561b9c"
      },
      "outputs": [],
      "source": [
        "# 이미지를 특정 사이즈로 변환하기 (가로 1000, 세로 500)\n",
        "large =\n",
        "\n",
        "cv2.imshow('img', img)\n",
        "cv2.imshow('large', large)\n",
        "\n",
        "cv2.waitKey(0)\n",
        "cv2.destroyAllWindows()"
      ]
    },
    {
      "cell_type": "code",
      "execution_count": null,
      "id": "222a3d23",
      "metadata": {
        "id": "222a3d23"
      },
      "outputs": [],
      "source": [
        "# 이미지를 비율에 맞춰 확대/축소하기 (가로 세로 0.5배)\n",
        "small= cv2.resize(img, None, fx = 0.5, fy = 0.5)\n",
        "\n",
        "cv2.imshow('img', img)\n",
        "cv2.imshow('small', small)\n",
        "\n",
        "cv2.waitKey(0)\n",
        "cv2.destroyAllWindows()"
      ]
    },
    {
      "cell_type": "code",
      "execution_count": null,
      "id": "faf8ae37",
      "metadata": {
        "id": "faf8ae37"
      },
      "outputs": [],
      "source": [
        "# 이미지를 비율에 맞춰 확대/축소하기 (가로 세로 3배)\n",
        "large =\n",
        "\n",
        "cv2.imshow('img', img)\n",
        "cv2.imshow('large', large)\n",
        "\n",
        "cv2.waitKey(0)\n",
        "cv2.destroyAllWindows()"
      ]
    },
    {
      "cell_type": "markdown",
      "id": "845e848f-02ca-4107-9b5a-481af22e9f16",
      "metadata": {
        "id": "845e848f-02ca-4107-9b5a-481af22e9f16"
      },
      "source": [
        "**<span style='background-color:#0000ff; color:#ffffff'>▶ 연습해보기 : 이미지의 크기를 변환하여 저장하기</span>**"
      ]
    },
    {
      "cell_type": "markdown",
      "id": "03d7a459-e9d8-49d4-9e9e-e7437ce1afb5",
      "metadata": {
        "id": "03d7a459-e9d8-49d4-9e9e-e7437ce1afb5"
      },
      "source": [
        "이미지의 크기를 세로만 2배로 키워 'resize.png'로 저장해보자."
      ]
    },
    {
      "cell_type": "code",
      "execution_count": null,
      "id": "274901b3-f64e-4fc4-93cd-1fad0311b7ad",
      "metadata": {
        "id": "274901b3-f64e-4fc4-93cd-1fad0311b7ad",
        "outputId": "b464193a-6647-4fa3-d10d-c5e88916875d"
      },
      "outputs": [
        {
          "data": {
            "text/plain": [
              "True"
            ]
          },
          "execution_count": 12,
          "metadata": {},
          "output_type": "execute_result"
        }
      ],
      "source": [
        "import cv2\n",
        "import numpy as np\n",
        "\n",
        "img = cv2.imread('card.png')\n",
        "\n",
        "# 이미지 크기를 변환하여 저장하기"
      ]
    },
    {
      "cell_type": "markdown",
      "id": "8953a018-9e7f-4463-81aa-8f1bafe79915",
      "metadata": {
        "id": "8953a018-9e7f-4463-81aa-8f1bafe79915"
      },
      "source": [
        "**▶ 투시(원근) 변환(perspective transformation)**\n",
        "- **<span style='background-color:#ffcc00'>getPerspectiveTransform()</span>** : 투시 변환 행렬 구하기<br>\n",
        "4개의 점의 이동 관계를 이용해 투시 변환 행렬을 구함\n",
        "- **<span style='background-color:#ffcc00'>warpPerspective()</span>** : 투시 변환 수행하기<br>\n",
        "투시 변환 행렬(3X3)과 원본 픽셀의 위치(좌표)를 이용해 픽셀의 새로운 위치를 구함"
      ]
    },
    {
      "cell_type": "code",
      "execution_count": null,
      "id": "e4218b55-2434-440e-bd4b-b2eb7dde39bd",
      "metadata": {
        "id": "e4218b55-2434-440e-bd4b-b2eb7dde39bd"
      },
      "outputs": [],
      "source": [
        "import numpy as np\n",
        "import cv2\n",
        "\n",
        "img = cv2.imread('card.png')\n",
        "\n",
        "w, h = (350, 190)\n",
        "center = [[238, 149], [600, 320], [473, 520], [97, 329]]\n",
        "\n",
        "# 투시 변환 작업\n",
        "src = np.array(, dtype = np.float32) # 원본 4개 점의 좌표\n",
        "dst = np.array(, dtype = np.float32) # 변환 후 4개 점의 좌표\n",
        "\n",
        "# (1)\n",
        "\n",
        "# (2)\n",
        "result =\n",
        "\n",
        "cv2.imshow('img', img)\n",
        "cv2.imshow('result', result)\n",
        "cv2.waitKey(0)\n",
        "cv2.destroyAllWindows()"
      ]
    }
  ],
  "metadata": {
    "kernelspec": {
      "display_name": "Python 3 (ipykernel)",
      "language": "python",
      "name": "python3"
    },
    "language_info": {
      "codemirror_mode": {
        "name": "ipython",
        "version": 3
      },
      "file_extension": ".py",
      "mimetype": "text/x-python",
      "name": "python",
      "nbconvert_exporter": "python",
      "pygments_lexer": "ipython3",
      "version": "3.10.9"
    },
    "colab": {
      "provenance": [],
      "include_colab_link": true
    }
  },
  "nbformat": 4,
  "nbformat_minor": 5
}