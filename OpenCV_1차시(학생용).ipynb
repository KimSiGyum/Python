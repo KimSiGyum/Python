{
  "cells": [
    {
      "cell_type": "markdown",
      "metadata": {
        "id": "view-in-github",
        "colab_type": "text"
      },
      "source": [
        "<a href=\"https://colab.research.google.com/github/KimSiGyum/Python/blob/main/OpenCV_1%EC%B0%A8%EC%8B%9C(%ED%95%99%EC%83%9D%EC%9A%A9).ipynb\" target=\"_parent\"><img src=\"https://colab.research.google.com/assets/colab-badge.svg\" alt=\"Open In Colab\"/></a>"
      ]
    },
    {
      "cell_type": "markdown",
      "id": "e3526963-dbe1-4381-be0a-911bf7f408fa",
      "metadata": {
        "id": "e3526963-dbe1-4381-be0a-911bf7f408fa"
      },
      "source": [
        "# **OpenCV (Open Source Computer Vision Library)**\n",
        "-  컴퓨터 비전을 위한 라이브러리로 컴퓨터 비전 및 머신러닝과 관련된 다수의 알고리즘의 지원한다.\n",
        "- OpenCV-Python은 본래 C/C++로 개발된 OpenCV를 파이썬 코드에서 사용할 수 있도록 API를 지원하는 라이브러리이다.\n",
        "- OpenCV-Python은 파이썬 패키지 인스톨러로 아래와 같이 설치한다.\n",
        "\n",
        ">```python\n",
        "pip install opencv-python\n",
        "```"
      ]
    },
    {
      "cell_type": "markdown",
      "id": "1d210395-8a6e-4d5f-8d93-2c93910996eb",
      "metadata": {
        "id": "1d210395-8a6e-4d5f-8d93-2c93910996eb"
      },
      "source": [
        "※ [OpenCV](https://opencv.org/about/) <br>\n",
        "※ [OpenCV-Python 튜토리얼](https://docs.opencv.org/4.x/d6/d00/tutorial_py_root.html)"
      ]
    },
    {
      "cell_type": "markdown",
      "id": "01b78f88-5c77-4589-bba5-9783dfe15342",
      "metadata": {
        "id": "01b78f88-5c77-4589-bba5-9783dfe15342"
      },
      "source": [
        "## **Ch0. 패키지 임포트**\n",
        "---"
      ]
    },
    {
      "cell_type": "code",
      "execution_count": null,
      "id": "e79e017a-6f8e-4de5-a0c3-25ff852455f3",
      "metadata": {
        "id": "e79e017a-6f8e-4de5-a0c3-25ff852455f3"
      },
      "outputs": [],
      "source": [
        "import cv2"
      ]
    },
    {
      "cell_type": "code",
      "execution_count": null,
      "id": "3bf88164-2a80-439c-8031-321f7a5536d5",
      "metadata": {
        "id": "3bf88164-2a80-439c-8031-321f7a5536d5"
      },
      "outputs": [],
      "source": [
        "print(cv2.__version__) # OpenCV 설치 버전 확인하기"
      ]
    },
    {
      "cell_type": "markdown",
      "id": "317ef1a2",
      "metadata": {
        "id": "317ef1a2"
      },
      "source": [
        "## **Ch1. 이미지 가져오기**\n",
        "---\n",
        "※ 튜토리얼 > Introduction to OpenCV > [Getting Started with Images](https://docs.opencv.org/4.x/db/deb/tutorial_display_image.html)"
      ]
    },
    {
      "cell_type": "markdown",
      "id": "6fcf275e-4bb7-4457-b3f6-eccc8efa4319",
      "metadata": {
        "id": "6fcf275e-4bb7-4457-b3f6-eccc8efa4319"
      },
      "source": [
        "- **<span style='background-color:#ffcc00'>imread()</span>** : 이미지를 읽어오기\n",
        "- **<span style='background-color:#ffcc00'>imshow()</span>** : 이미지 지정된 창에 띄우기\n",
        "- **<span style='background-color:#ffcc00'>imwrite()</span>** : 이미지 저장하기"
      ]
    },
    {
      "cell_type": "code",
      "execution_count": null,
      "id": "c6fc989a-2d15-494c-aba5-7d5a0297f091",
      "metadata": {
        "id": "c6fc989a-2d15-494c-aba5-7d5a0297f091"
      },
      "outputs": [],
      "source": [
        "img ="
      ]
    },
    {
      "cell_type": "code",
      "execution_count": null,
      "id": "61d91413",
      "metadata": {
        "id": "61d91413"
      },
      "outputs": [],
      "source": []
    },
    {
      "cell_type": "code",
      "execution_count": null,
      "id": "255209d6-742f-43f3-a69b-8a18384032be",
      "metadata": {
        "id": "255209d6-742f-43f3-a69b-8a18384032be"
      },
      "outputs": [],
      "source": []
    },
    {
      "cell_type": "markdown",
      "id": "845e848f-02ca-4107-9b5a-481af22e9f16",
      "metadata": {
        "id": "845e848f-02ca-4107-9b5a-481af22e9f16"
      },
      "source": [
        "**<span style='background-color:#0000ff; color:#ffffff'>▶ 자세히 알아보기 : imread(), waitKey(), destroyAllWindows()</span>**"
      ]
    },
    {
      "cell_type": "markdown",
      "id": "4f420e3c-b629-4e29-a813-c164d74f2ed2",
      "metadata": {
        "id": "4f420e3c-b629-4e29-a813-c164d74f2ed2"
      },
      "source": [
        "▶ imread() [flags](https://docs.opencv.org/4.x/d8/d6a/group__imgcodecs__flags.html#gga61d9b0126a3e57d9277ac48327799c80af660544735200cbe942eea09232eb822)에 대해 알아보자."
      ]
    },
    {
      "cell_type": "code",
      "execution_count": null,
      "id": "ce5ddfe4-5cf4-4dd4-962d-cb14aa661d8c",
      "metadata": {
        "id": "ce5ddfe4-5cf4-4dd4-962d-cb14aa661d8c"
      },
      "outputs": [],
      "source": [
        "img = cv2.imread('card.png', )\n",
        "print(img.shape)\n",
        "cv2.imshow('colored', img)\n",
        "cv2.waitKey(0)\n",
        "cv2.destroyAllWindows()"
      ]
    },
    {
      "cell_type": "code",
      "execution_count": null,
      "id": "db4a934d-217c-487d-bb2d-cf394c23998a",
      "metadata": {
        "id": "db4a934d-217c-487d-bb2d-cf394c23998a"
      },
      "outputs": [],
      "source": [
        "img = cv2.imread('card.png', )\n",
        "print(img.shape)\n",
        "cv2.imshow('unchanged', img)\n",
        "cv2.waitKey(0)\n",
        "cv2.destroyAllWindows()"
      ]
    },
    {
      "cell_type": "code",
      "execution_count": null,
      "id": "aeea3f7c-a7fe-45f5-a8dc-298a21e7e479",
      "metadata": {
        "id": "aeea3f7c-a7fe-45f5-a8dc-298a21e7e479"
      },
      "outputs": [],
      "source": [
        "img = cv2.imread('card.png', )\n",
        "print(img.shape)\n",
        "cv2.imshow('grayscale', img)\n",
        "cv2.waitKey(0)\n",
        "cv2.destroyAllWindows()"
      ]
    },
    {
      "cell_type": "code",
      "execution_count": null,
      "id": "a9458a8d-691a-4f14-8543-7fcbf2d36d7b",
      "metadata": {
        "id": "a9458a8d-691a-4f14-8543-7fcbf2d36d7b"
      },
      "outputs": [],
      "source": [
        "print('IMREAD_COLOR :', cv2.IMREAD_COLOR)\n",
        "print('IMREAD_UNCHANGED :', cv2.IMREAD_UNCHANGED)\n",
        "print('IMREAD_GRAYSCALE :', cv2.IMREAD_GRAYSCALE)"
      ]
    },
    {
      "cell_type": "markdown",
      "id": "c99a48af-f641-4d33-a008-1085bd6df6e6",
      "metadata": {
        "id": "c99a48af-f641-4d33-a008-1085bd6df6e6"
      },
      "source": [
        "▶ imshow()를 호출할 때 함께 사용하는 waitKey(), destroyAllWindows()에 대해 알아보자."
      ]
    },
    {
      "cell_type": "code",
      "execution_count": null,
      "id": "18d7eb81-4c88-4bbf-ae0b-94bce0e3dc37",
      "metadata": {
        "id": "18d7eb81-4c88-4bbf-ae0b-94bce0e3dc37"
      },
      "outputs": [],
      "source": [
        "cv2.imshow('window title', img)\n",
        "cv2.waitKey(1000)\n",
        "cv2.destroyAllWindows()"
      ]
    },
    {
      "cell_type": "code",
      "execution_count": null,
      "id": "41f792bf-266b-4ae2-99a0-67c19194735c",
      "metadata": {
        "id": "41f792bf-266b-4ae2-99a0-67c19194735c"
      },
      "outputs": [],
      "source": [
        "cv2.imshow('window title', img)\n",
        "key = cv2.waitKey(5000)\n",
        "cv2.destroyAllWindows()\n",
        "print(key)"
      ]
    },
    {
      "cell_type": "markdown",
      "id": "1471386c",
      "metadata": {
        "id": "1471386c"
      },
      "source": [
        "## **Ch2. 도형 그리기**\n",
        "---\n",
        "※ 튜토리얼 > Gui Features in OpenCV > [Drawing Functions in OpenCV](https://docs.opencv.org/4.x/dc/da5/tutorial_py_drawing_functions.html)"
      ]
    },
    {
      "cell_type": "markdown",
      "id": "e9e7be54-7617-42f1-8a55-44c9351c01ae",
      "metadata": {
        "id": "e9e7be54-7617-42f1-8a55-44c9351c01ae"
      },
      "source": [
        "- **<span style='background-color:#ffcc00'>circle()</span>** : 원 그리기\n",
        "- **<span style='background-color:#ffcc00'>line()</span>** : 선 그리기\n",
        "- **<span style='background-color:#ffcc00'>rectangle()</span>** : 사각형 그리기\n",
        "- **<span style='background-color:#ffcc00'>putText()</span>** : 글자 그리기"
      ]
    },
    {
      "cell_type": "code",
      "execution_count": null,
      "id": "34a423ef",
      "metadata": {
        "id": "34a423ef"
      },
      "outputs": [],
      "source": [
        "# 설명을 듣고 코드의 모든 라인에 주석을 달아보자\n",
        "img = cv2.imread('card.png')\n",
        "h, w, _ = img.shape\n",
        "cv2.circle(img, (w//2, h//2), 250, (255, 0, 0), 5)\n",
        "cv2.imshow('Drawing Circle', img)\n",
        "cv2.waitKey(0)\n",
        "cv2.destroyAllWindows()"
      ]
    },
    {
      "cell_type": "markdown",
      "id": "31a054fb-f59e-4552-8915-cf2c2a09d808",
      "metadata": {
        "id": "31a054fb-f59e-4552-8915-cf2c2a09d808"
      },
      "source": [
        "**<span style='background-color:#0000ff; color:#ffffff'>▶ 연습해보기 : 원, 선, 글자 그리기</span>**<br>"
      ]
    },
    {
      "cell_type": "markdown",
      "id": "b388e455-3958-47ea-b90d-5968f63eabe2",
      "metadata": {
        "id": "b388e455-3958-47ea-b90d-5968f63eabe2"
      },
      "source": [
        "튜토리얼을 참고하여 아래와 같이 도형을 그려보자.\n",
        "- 카드 꼭지점에 반지름 15, 속이 채워진 파란색 원 4개 그리기\n",
        "- 파란색 원의 중점을 잇는 두께 5짜리 초록색 직선 4개 그리기\n",
        "- 크기 3, 두께 5, 폰트 Hershey_simplex, 빨간색 글씨로 가로 0, 세로 520 위치에 CreditCard 텍스트 추가"
      ]
    },
    {
      "cell_type": "markdown",
      "id": "ab250a30-59c1-4e2b-bab1-39b2921629fe",
      "metadata": {
        "id": "ab250a30-59c1-4e2b-bab1-39b2921629fe"
      },
      "source": [
        "![DrawingExercise.PNG](DrawingExercise.PNG)"
      ]
    },
    {
      "cell_type": "code",
      "execution_count": null,
      "id": "e44fbfd4-b40e-4995-99ec-1278163f250b",
      "metadata": {
        "id": "e44fbfd4-b40e-4995-99ec-1278163f250b"
      },
      "outputs": [],
      "source": [
        "import cv2\n",
        "\n",
        "img = cv2.imread('card.png')\n",
        "\n",
        "center = [[238, 149], [600, 320], [473, 520], [97, 329]]\n",
        "\n",
        "# 원 그리기\n",
        "\n",
        "# 직선 그리기\n",
        "\n",
        "# 글자 그리기\n",
        "\n",
        "cv2.imshow('Drawing Exercise', img)\n",
        "cv2.waitKey(0)\n",
        "cv2.destroyAllWindows()"
      ]
    }
  ],
  "metadata": {
    "kernelspec": {
      "display_name": "Python 3 (ipykernel)",
      "language": "python",
      "name": "python3"
    },
    "language_info": {
      "codemirror_mode": {
        "name": "ipython",
        "version": 3
      },
      "file_extension": ".py",
      "mimetype": "text/x-python",
      "name": "python",
      "nbconvert_exporter": "python",
      "pygments_lexer": "ipython3",
      "version": "3.11.7"
    },
    "colab": {
      "provenance": [],
      "include_colab_link": true
    }
  },
  "nbformat": 4,
  "nbformat_minor": 5
}