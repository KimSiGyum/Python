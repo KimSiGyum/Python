{
  "nbformat": 4,
  "nbformat_minor": 0,
  "metadata": {
    "colab": {
      "provenance": [],
      "authorship_tag": "ABX9TyNlXp/ZDlJ7mhDHn/BJ6izi",
      "include_colab_link": true
    },
    "kernelspec": {
      "name": "python3",
      "display_name": "Python 3"
    },
    "language_info": {
      "name": "python"
    }
  },
  "cells": [
    {
      "cell_type": "markdown",
      "metadata": {
        "id": "view-in-github",
        "colab_type": "text"
      },
      "source": [
        "<a href=\"https://colab.research.google.com/github/KimSiGyum/Python/blob/main/%EB%A7%88%EC%9D%B4%ED%81%AC%EB%A1%9C%ED%94%84%EB%A1%9C%EC%84%B8%EC%84%9C20306_ipynb%EC%9D%98_%EC%82%AC%EB%B3%B8.ipynb\" target=\"_parent\"><img src=\"https://colab.research.google.com/assets/colab-badge.svg\" alt=\"Open In Colab\"/></a>"
      ]
    },
    {
      "cell_type": "code",
      "execution_count": null,
      "metadata": {
        "colab": {
          "base_uri": "https://localhost:8080/"
        },
        "id": "wfIwotrDzVna",
        "outputId": "774dcaa3-18d4-4ace-f0e0-7f250fc04117"
      },
      "outputs": [
        {
          "output_type": "stream",
          "name": "stdout",
          "text": [
            "2\n"
          ]
        }
      ],
      "source": [
        "#예제1 : 변수 a에 숫자 2를 할당하고, 출력\n",
        "a = 2\n",
        "print(a)"
      ]
    },
    {
      "cell_type": "code",
      "source": [
        "#예제2 : 변수 b에 문자 'micro'를 할당하고, 출력\n",
        "b = 'micro'\n",
        "print(b)"
      ],
      "metadata": {
        "colab": {
          "base_uri": "https://localhost:8080/"
        },
        "id": "27fj9Fqz0i1X",
        "outputId": "ba0dbfba-7ec0-4dd4-ddf0-9516bea2dbfb"
      },
      "execution_count": null,
      "outputs": [
        {
          "output_type": "stream",
          "name": "stdout",
          "text": [
            "micro\n"
          ]
        }
      ]
    },
    {
      "cell_type": "code",
      "source": [
        "#예약어 확인하기\n",
        "import keyword\n",
        "print(keyword.kwlist)"
      ],
      "metadata": {
        "colab": {
          "base_uri": "https://localhost:8080/"
        },
        "id": "RwGwbhBF0uvz",
        "outputId": "f299793f-b18f-452b-ca2f-dc23f3a81cb9"
      },
      "execution_count": null,
      "outputs": [
        {
          "output_type": "stream",
          "name": "stdout",
          "text": [
            "['False', 'None', 'True', 'and', 'as', 'assert', 'async', 'await', 'break', 'class', 'continue', 'def', 'del', 'elif', 'else', 'except', 'finally', 'for', 'from', 'global', 'if', 'import', 'in', 'is', 'lambda', 'nonlocal', 'not', 'or', 'pass', 'raise', 'return', 'try', 'while', 'with', 'yield']\n"
          ]
        }
      ]
    },
    {
      "cell_type": "code",
      "source": [
        "True = 3\n",
        "print(True)"
      ],
      "metadata": {
        "colab": {
          "base_uri": "https://localhost:8080/",
          "height": 147
        },
        "id": "iI7ToUPF1KiW",
        "outputId": "2a10014b-16f4-40a8-e84b-a43b8603f81d"
      },
      "execution_count": null,
      "outputs": [
        {
          "output_type": "error",
          "ename": "SyntaxError",
          "evalue": "ignored",
          "traceback": [
            "\u001b[0;36m  File \u001b[0;32m\"<ipython-input-6-c76382b9c56a>\"\u001b[0;36m, line \u001b[0;32m1\u001b[0m\n\u001b[0;31m    True = 3\u001b[0m\n\u001b[0m    ^\u001b[0m\n\u001b[0;31mSyntaxError\u001b[0m\u001b[0;31m:\u001b[0m cannot assign to True\n"
          ]
        }
      ]
    },
    {
      "cell_type": "code",
      "source": [
        "#예제3 : 변수 a에 문자 'pro'를 할당하고, 자료형 출력\n",
        "a = 'pro'\n",
        "print(type(a))\n"
      ],
      "metadata": {
        "colab": {
          "base_uri": "https://localhost:8080/"
        },
        "id": "-YDChJrv1Kkz",
        "outputId": "b90b4a78-7360-4fb5-f145-2d7327c2432c"
      },
      "execution_count": null,
      "outputs": [
        {
          "output_type": "stream",
          "name": "stdout",
          "text": [
            "<class 'str'>\n"
          ]
        }
      ]
    },
    {
      "cell_type": "code",
      "source": [
        "#예제4 : 변수 b에 숫자 24를 할당하고, 자료형 출력\n",
        "b = 24\n",
        "print(type(b))"
      ],
      "metadata": {
        "colab": {
          "base_uri": "https://localhost:8080/"
        },
        "id": "bNMVgJMF1Km7",
        "outputId": "f798b61a-0fde-4212-9704-73cb9fa174b8"
      },
      "execution_count": null,
      "outputs": [
        {
          "output_type": "stream",
          "name": "stdout",
          "text": [
            "<class 'int'>\n"
          ]
        }
      ]
    },
    {
      "cell_type": "code",
      "source": [
        "#예제5 : 리스트 변수 만들어보기\n",
        "import random\n",
        "dice = [1,2,3,4,5,6]\n",
        "print(dice)\n",
        "print(random.choice(dice))"
      ],
      "metadata": {
        "colab": {
          "base_uri": "https://localhost:8080/"
        },
        "id": "9l4MUbVI1Kpb",
        "outputId": "b860de94-611f-4cfe-99de-23be7824b275"
      },
      "execution_count": null,
      "outputs": [
        {
          "output_type": "stream",
          "name": "stdout",
          "text": [
            "[1, 2, 3, 4, 5, 6]\n",
            "4\n"
          ]
        }
      ]
    },
    {
      "cell_type": "code",
      "source": [
        "#예제6 : 튜플 변수를 이용한 동전(앞면, 뒷면) 던지기\n",
        "import random\n",
        "coin = ('앞면', '뒷면')\n",
        "print(random.choice(coin))"
      ],
      "metadata": {
        "colab": {
          "base_uri": "https://localhost:8080/"
        },
        "id": "DuYZC41p1KsD",
        "outputId": "958aca85-554c-484d-a4c2-625150f1acfd"
      },
      "execution_count": null,
      "outputs": [
        {
          "output_type": "stream",
          "name": "stdout",
          "text": [
            "뒷면\n"
          ]
        }
      ]
    },
    {
      "cell_type": "code",
      "source": [
        "#예제7 : 주사위 랜덤으로 3이 나오면 '당첨', 아니면 '꽝' 출력\n",
        "import random\n",
        "dice = [1,2,3,4,5,6]\n",
        "a = random.choice(dice)\n",
        "\n",
        "if a == 3:\n",
        "    print('당첨')\n",
        "else:\n",
        "    print('꽝')"
      ],
      "metadata": {
        "colab": {
          "base_uri": "https://localhost:8080/"
        },
        "id": "SVjGSoNg4MkN",
        "outputId": "7b717ad5-3d4e-4813-882d-2f3a63633607"
      },
      "execution_count": null,
      "outputs": [
        {
          "output_type": "stream",
          "name": "stdout",
          "text": [
            "꽝\n"
          ]
        }
      ]
    },
    {
      "cell_type": "code",
      "source": [
        "#예제8\n",
        "import random\n",
        "coin = ['앞면', '뒷면']\n",
        "a = random.choice(coin)\n",
        "\n",
        "if a == '뒷면':\n",
        "    print('앞면입니다.')\n",
        "else:\n",
        "    print('뒷면입니다.')"
      ],
      "metadata": {
        "colab": {
          "base_uri": "https://localhost:8080/"
        },
        "id": "tkQmBAQA4MpL",
        "outputId": "e4aea11c-70e6-4e7a-9cea-f2a7a4957215"
      },
      "execution_count": null,
      "outputs": [
        {
          "output_type": "stream",
          "name": "stdout",
          "text": [
            "앞면입니다.\n"
          ]
        }
      ]
    },
    {
      "cell_type": "code",
      "source": [
        "#예제9\n",
        "import random\n",
        "table = [1,2,3,4,5,6]\n",
        "a = random.choice(table)\n",
        "\n",
        "if a == 1:\n",
        "    print('1번 테이블로 이동합니다.')\n",
        "elif a == 2:\n",
        "    print('2번 테이블로 이동합니다.')\n",
        "elif a == 3:\n",
        "    print('3번 테이블로 이동합니다.')\n",
        "elif a == 4:\n",
        "    print('4번 테이블로 이동합니다.')\n",
        "elif a == 5:\n",
        "    print('5번 테이블로 이동합니다.')\n",
        "else:\n",
        "    print('6번 테이블로 이동합니다.')"
      ],
      "metadata": {
        "colab": {
          "base_uri": "https://localhost:8080/"
        },
        "id": "RFaIptr94MrL",
        "outputId": "1906db9f-5be0-4d3f-d8cf-e25fa5114b00"
      },
      "execution_count": null,
      "outputs": [
        {
          "output_type": "stream",
          "name": "stdout",
          "text": [
            "5번 테이블로 이동합니다.\n"
          ]
        }
      ]
    },
    {
      "cell_type": "code",
      "source": [
        "#예제10\n",
        "import random\n",
        "dice = [1,2,3,4,5,6]\n",
        "a = random.choice(dice)\n",
        "if a in (1,3,5):\n",
        "    print('홀수입니다.')\n",
        "else:\n",
        "    print('짝수입니다.')"
      ],
      "metadata": {
        "colab": {
          "base_uri": "https://localhost:8080/"
        },
        "id": "K69HIMbp4MuL",
        "outputId": "c5c507b7-2e00-4716-ffb0-ef6a4d9dec8c"
      },
      "execution_count": null,
      "outputs": [
        {
          "output_type": "stream",
          "name": "stdout",
          "text": [
            "홀수입니다.\n"
          ]
        }
      ]
    },
    {
      "cell_type": "code",
      "source": [
        "#예제11\n",
        "a = range(10)\n",
        "print(list(a))\n",
        "b = range(4,7)\n",
        "print(list(b))\n",
        "c = range(10,1,-1)\n",
        "print(list(c))\n",
        "score = [90,85,100,80]\n",
        "for a in score:\n",
        "    print('시험 점수는', a, '입니다.')"
      ],
      "metadata": {
        "colab": {
          "base_uri": "https://localhost:8080/"
        },
        "id": "6q6cHbKf4Mvz",
        "outputId": "26b0cdef-a4c3-466b-8b3b-7575d6dde071"
      },
      "execution_count": null,
      "outputs": [
        {
          "output_type": "stream",
          "name": "stdout",
          "text": [
            "[0, 1, 2, 3, 4, 5, 6, 7, 8, 9]\n",
            "[4, 5, 6]\n",
            "[10, 9, 8, 7, 6, 5, 4, 3, 2]\n",
            "시험 점수는 90 입니다.\n",
            "시험 점수는 85 입니다.\n",
            "시험 점수는 100 입니다.\n",
            "시험 점수는 80 입니다.\n"
          ]
        }
      ]
    },
    {
      "cell_type": "code",
      "source": [
        "#예제12\n",
        "import random\n",
        "coin = ['앞면', '뒷면']\n",
        "\n",
        "for i in range(10):\n",
        "    a = random.choice(coin)\n",
        "    print(a)"
      ],
      "metadata": {
        "colab": {
          "base_uri": "https://localhost:8080/"
        },
        "id": "vLVHs3L34Myr",
        "outputId": "bebfff51-05e4-4da3-c9a5-88d32867563f"
      },
      "execution_count": null,
      "outputs": [
        {
          "output_type": "stream",
          "name": "stdout",
          "text": [
            "뒷면\n",
            "뒷면\n",
            "뒷면\n",
            "앞면\n",
            "뒷면\n",
            "앞면\n",
            "뒷면\n",
            "뒷면\n",
            "앞면\n",
            "앞면\n"
          ]
        }
      ]
    },
    {
      "cell_type": "code",
      "source": [
        "#예제13\n",
        "import random\n",
        "coin = ['앞면', '뒷면']\n",
        "cnt = 0\n",
        "\n",
        "for i in range(11):\n",
        "    a = random.choice(coin)\n",
        "    if a == '앞면':\n",
        "        cnt = cnt + 1\n",
        "print(cnt)"
      ],
      "metadata": {
        "colab": {
          "base_uri": "https://localhost:8080/"
        },
        "id": "_adE9ejA4M2j",
        "outputId": "bcb64869-b500-4d93-c15f-fe95f4ca0920"
      },
      "execution_count": null,
      "outputs": [
        {
          "output_type": "stream",
          "name": "stdout",
          "text": [
            "6\n"
          ]
        }
      ]
    },
    {
      "cell_type": "code",
      "source": [
        "#예제14\n",
        "import random\n",
        "dice = [1,2,3,4,5,6]\n",
        "cnt1, cnt2, cnt3, cnt4, cnt5, cnt6 = 0,0,0,0,0,0\n",
        "\n",
        "for i in range(1, 100001):\n",
        "    a = random.choice(dice)\n",
        "    if a == 1:\n",
        "        cnt1 = cnt1 + 1\n",
        "    elif a == 2:\n",
        "        cnt2 = cnt2 + 1\n",
        "    elif a == 3:\n",
        "        cnt3 = cnt3 + 1\n",
        "    elif a == 4:\n",
        "        cnt4 = cnt4 + 1\n",
        "    elif a == 5:\n",
        "        cnt5 = cnt5 + 1\n",
        "    else:\n",
        "        cnt6 = cnt6 + 1\n",
        "print('주사위의 눈1이 나올 확률은?', cnt1/100000)\n",
        "print('주사위의 눈2이 나올 확률은?', cnt2/100000)\n",
        "print('주사위의 눈3이 나올 확률은?', cnt3/100000)\n",
        "print('주사위의 눈4이 나올 확률은?', cnt4/100000)\n",
        "print('주사위의 눈5이 나올 확률은?', cnt5/100000)\n",
        "print('주사위의 눈6이 나올 확률은?', cnt6/100000)"
      ],
      "metadata": {
        "colab": {
          "base_uri": "https://localhost:8080/"
        },
        "id": "fSM0KVVT4M5b",
        "outputId": "293e4df0-4b65-48c8-dbc7-ae06ad446e48"
      },
      "execution_count": null,
      "outputs": [
        {
          "output_type": "stream",
          "name": "stdout",
          "text": [
            "주사위의 눈1이 나올 확률은? 0.16622\n",
            "주사위의 눈2이 나올 확률은? 0.16717\n",
            "주사위의 눈3이 나올 확률은? 0.16748\n",
            "주사위의 눈4이 나올 확률은? 0.16774\n",
            "주사위의 눈5이 나올 확률은? 0.16486\n",
            "주사위의 눈6이 나올 확률은? 0.16653\n"
          ]
        }
      ]
    },
    {
      "cell_type": "code",
      "source": [
        "#예제15\n",
        "for i in range(1, 11):\n",
        "    if i in (5,9):\n",
        "        continue\n",
        "    print(i, '는 청소하기')\n"
      ],
      "metadata": {
        "colab": {
          "base_uri": "https://localhost:8080/"
        },
        "id": "4TIFKEjd4M8D",
        "outputId": "ea3860b2-52db-49ae-c6d7-e36b4533f7d5"
      },
      "execution_count": null,
      "outputs": [
        {
          "output_type": "stream",
          "name": "stdout",
          "text": [
            "1 는 청소하기\n",
            "2 는 청소하기\n",
            "3 는 청소하기\n",
            "4 는 청소하기\n",
            "6 는 청소하기\n",
            "7 는 청소하기\n",
            "8 는 청소하기\n",
            "10 는 청소하기\n"
          ]
        }
      ]
    },
    {
      "cell_type": "code",
      "source": [
        "#예제16\n",
        "import random\n",
        "coin = ['앞면', '뒷면']\n",
        "\n",
        "for i in range(5):\n",
        "    a = random.choice(coin)\n",
        "    print(a)\n",
        "    if a == '앞면':\n",
        "        break\n"
      ],
      "metadata": {
        "colab": {
          "base_uri": "https://localhost:8080/"
        },
        "id": "dgnjbDWd4M-s",
        "outputId": "1271ab95-d372-4b40-9898-2c3f3cef2b74"
      },
      "execution_count": null,
      "outputs": [
        {
          "output_type": "stream",
          "name": "stdout",
          "text": [
            "앞면\n"
          ]
        }
      ]
    },
    {
      "cell_type": "code",
      "source": [
        "#예제17\n",
        "a = int(input('숫자 첫 번째 '))\n",
        "b = int(input('숫자 두 번째 '))\n",
        "for i in range(min(a,b), 0, -1):\n",
        "    if a % i == 0 and b % i == 0:\n",
        "        break\n",
        "print('최대공약수는', i, '입니다.')"
      ],
      "metadata": {
        "colab": {
          "base_uri": "https://localhost:8080/"
        },
        "id": "_5nAo_Bc4NBE",
        "outputId": "3f54d4cd-9c70-4e93-bc1b-83cb60c7458c"
      },
      "execution_count": null,
      "outputs": [
        {
          "output_type": "stream",
          "name": "stdout",
          "text": [
            "숫자 첫 번째 24\n",
            "숫자 두 번째 16\n",
            "최대공약수는 8 입니다.\n"
          ]
        }
      ]
    },
    {
      "cell_type": "code",
      "source": [
        "#예제18\n",
        "for a in range(1,10):\n",
        "    print('2 x', a,'=', a*2)"
      ],
      "metadata": {
        "colab": {
          "base_uri": "https://localhost:8080/"
        },
        "id": "rjULbdkB4NDs",
        "outputId": "d9c9f0c5-15ea-4c83-86ce-9ce543b27224"
      },
      "execution_count": null,
      "outputs": [
        {
          "output_type": "stream",
          "name": "stdout",
          "text": [
            "2 x 1 = 2\n",
            "2 x 2 = 4\n",
            "2 x 3 = 6\n",
            "2 x 4 = 8\n",
            "2 x 5 = 10\n",
            "2 x 6 = 12\n",
            "2 x 7 = 14\n",
            "2 x 8 = 16\n",
            "2 x 9 = 18\n"
          ]
        }
      ]
    },
    {
      "cell_type": "code",
      "source": [
        "#예제19\n",
        "for j in range(1,10):\n",
        "    for k in range(1,10):\n",
        "        print(j, 'x', k, '=', j*k)"
      ],
      "metadata": {
        "colab": {
          "base_uri": "https://localhost:8080/"
        },
        "id": "RN10_M111LDL",
        "outputId": "dde5df89-773c-45df-ace4-66e4e7920827"
      },
      "execution_count": null,
      "outputs": [
        {
          "output_type": "stream",
          "name": "stdout",
          "text": [
            "1 x 1 = 1\n",
            "1 x 2 = 2\n",
            "1 x 3 = 3\n",
            "1 x 4 = 4\n",
            "1 x 5 = 5\n",
            "1 x 6 = 6\n",
            "1 x 7 = 7\n",
            "1 x 8 = 8\n",
            "1 x 9 = 9\n",
            "2 x 1 = 2\n",
            "2 x 2 = 4\n",
            "2 x 3 = 6\n",
            "2 x 4 = 8\n",
            "2 x 5 = 10\n",
            "2 x 6 = 12\n",
            "2 x 7 = 14\n",
            "2 x 8 = 16\n",
            "2 x 9 = 18\n",
            "3 x 1 = 3\n",
            "3 x 2 = 6\n",
            "3 x 3 = 9\n",
            "3 x 4 = 12\n",
            "3 x 5 = 15\n",
            "3 x 6 = 18\n",
            "3 x 7 = 21\n",
            "3 x 8 = 24\n",
            "3 x 9 = 27\n",
            "4 x 1 = 4\n",
            "4 x 2 = 8\n",
            "4 x 3 = 12\n",
            "4 x 4 = 16\n",
            "4 x 5 = 20\n",
            "4 x 6 = 24\n",
            "4 x 7 = 28\n",
            "4 x 8 = 32\n",
            "4 x 9 = 36\n",
            "5 x 1 = 5\n",
            "5 x 2 = 10\n",
            "5 x 3 = 15\n",
            "5 x 4 = 20\n",
            "5 x 5 = 25\n",
            "5 x 6 = 30\n",
            "5 x 7 = 35\n",
            "5 x 8 = 40\n",
            "5 x 9 = 45\n",
            "6 x 1 = 6\n",
            "6 x 2 = 12\n",
            "6 x 3 = 18\n",
            "6 x 4 = 24\n",
            "6 x 5 = 30\n",
            "6 x 6 = 36\n",
            "6 x 7 = 42\n",
            "6 x 8 = 48\n",
            "6 x 9 = 54\n",
            "7 x 1 = 7\n",
            "7 x 2 = 14\n",
            "7 x 3 = 21\n",
            "7 x 4 = 28\n",
            "7 x 5 = 35\n",
            "7 x 6 = 42\n",
            "7 x 7 = 49\n",
            "7 x 8 = 56\n",
            "7 x 9 = 63\n",
            "8 x 1 = 8\n",
            "8 x 2 = 16\n",
            "8 x 3 = 24\n",
            "8 x 4 = 32\n",
            "8 x 5 = 40\n",
            "8 x 6 = 48\n",
            "8 x 7 = 56\n",
            "8 x 8 = 64\n",
            "8 x 9 = 72\n",
            "9 x 1 = 9\n",
            "9 x 2 = 18\n",
            "9 x 3 = 27\n",
            "9 x 4 = 36\n",
            "9 x 5 = 45\n",
            "9 x 6 = 54\n",
            "9 x 7 = 63\n",
            "9 x 8 = 72\n",
            "9 x 9 = 81\n"
          ]
        }
      ]
    },
    {
      "cell_type": "code",
      "source": [
        "#예제20\n",
        "i = 1\n",
        "while i < 10:\n",
        "    j = 1\n",
        "    while j < 10:\n",
        "        print(i, 'x', j, '=', i*j)\n",
        "        j = j + 1\n",
        "    i = i + 1"
      ],
      "metadata": {
        "colab": {
          "base_uri": "https://localhost:8080/"
        },
        "id": "Eqf4LU021LFT",
        "outputId": "1fb92e73-63a0-4ac8-d14e-59ed33301826"
      },
      "execution_count": null,
      "outputs": [
        {
          "output_type": "stream",
          "name": "stdout",
          "text": [
            "1 x 1 = 1\n",
            "1 x 2 = 2\n",
            "1 x 3 = 3\n",
            "1 x 4 = 4\n",
            "1 x 5 = 5\n",
            "1 x 6 = 6\n",
            "1 x 7 = 7\n",
            "1 x 8 = 8\n",
            "1 x 9 = 9\n",
            "2 x 1 = 2\n",
            "2 x 2 = 4\n",
            "2 x 3 = 6\n",
            "2 x 4 = 8\n",
            "2 x 5 = 10\n",
            "2 x 6 = 12\n",
            "2 x 7 = 14\n",
            "2 x 8 = 16\n",
            "2 x 9 = 18\n",
            "3 x 1 = 3\n",
            "3 x 2 = 6\n",
            "3 x 3 = 9\n",
            "3 x 4 = 12\n",
            "3 x 5 = 15\n",
            "3 x 6 = 18\n",
            "3 x 7 = 21\n",
            "3 x 8 = 24\n",
            "3 x 9 = 27\n",
            "4 x 1 = 4\n",
            "4 x 2 = 8\n",
            "4 x 3 = 12\n",
            "4 x 4 = 16\n",
            "4 x 5 = 20\n",
            "4 x 6 = 24\n",
            "4 x 7 = 28\n",
            "4 x 8 = 32\n",
            "4 x 9 = 36\n",
            "5 x 1 = 5\n",
            "5 x 2 = 10\n",
            "5 x 3 = 15\n",
            "5 x 4 = 20\n",
            "5 x 5 = 25\n",
            "5 x 6 = 30\n",
            "5 x 7 = 35\n",
            "5 x 8 = 40\n",
            "5 x 9 = 45\n",
            "6 x 1 = 6\n",
            "6 x 2 = 12\n",
            "6 x 3 = 18\n",
            "6 x 4 = 24\n",
            "6 x 5 = 30\n",
            "6 x 6 = 36\n",
            "6 x 7 = 42\n",
            "6 x 8 = 48\n",
            "6 x 9 = 54\n",
            "7 x 1 = 7\n",
            "7 x 2 = 14\n",
            "7 x 3 = 21\n",
            "7 x 4 = 28\n",
            "7 x 5 = 35\n",
            "7 x 6 = 42\n",
            "7 x 7 = 49\n",
            "7 x 8 = 56\n",
            "7 x 9 = 63\n",
            "8 x 1 = 8\n",
            "8 x 2 = 16\n",
            "8 x 3 = 24\n",
            "8 x 4 = 32\n",
            "8 x 5 = 40\n",
            "8 x 6 = 48\n",
            "8 x 7 = 56\n",
            "8 x 8 = 64\n",
            "8 x 9 = 72\n",
            "9 x 1 = 9\n",
            "9 x 2 = 18\n",
            "9 x 3 = 27\n",
            "9 x 4 = 36\n",
            "9 x 5 = 45\n",
            "9 x 6 = 54\n",
            "9 x 7 = 63\n",
            "9 x 8 = 72\n",
            "9 x 9 = 81\n"
          ]
        }
      ]
    },
    {
      "cell_type": "code",
      "source": [
        "#예제21\n",
        "a = '서울로봇고등학교'\n",
        "print(a)\n",
        "print(a[0:2])\n",
        "print(a[2:4])\n",
        "print(a[4:8])"
      ],
      "metadata": {
        "colab": {
          "base_uri": "https://localhost:8080/"
        },
        "id": "8v1SNTqqFY4T",
        "outputId": "46af9507-4edf-43b3-b1aa-7deeb8701fcf"
      },
      "execution_count": null,
      "outputs": [
        {
          "output_type": "stream",
          "name": "stdout",
          "text": [
            "서울로봇고등학교\n",
            "서울\n",
            "로봇\n",
            "고등학교\n"
          ]
        }
      ]
    },
    {
      "cell_type": "code",
      "source": [
        "#예제22\n",
        "a = '한가지만 한다.딱 하나'\n",
        "print(a[8:])\n",
        "print(a[-4:])"
      ],
      "metadata": {
        "colab": {
          "base_uri": "https://localhost:8080/"
        },
        "id": "LUAPrzB_FY6r",
        "outputId": "34776f7b-e58e-4f83-f7a2-31d4e5503087"
      },
      "execution_count": null,
      "outputs": [
        {
          "output_type": "stream",
          "name": "stdout",
          "text": [
            "딱 하나\n",
            "딱 하나\n"
          ]
        }
      ]
    },
    {
      "cell_type": "code",
      "source": [
        "#예제23\n",
        "a = '기상 후 1시간을 얼마나 의미 있게 보내느냐에 따라 그날 하루가 결정됩니다.'\n",
        "print(a.find('의미'))\n",
        "print(a.index('의미'))\n",
        "print(a.count('의미'))\n",
        "print(a.find('습관'))\n"
      ],
      "metadata": {
        "colab": {
          "base_uri": "https://localhost:8080/"
        },
        "id": "r1F7zvH3FY8z",
        "outputId": "ef373324-700d-4e89-8632-b1faf7d3c1d6"
      },
      "execution_count": null,
      "outputs": [
        {
          "output_type": "stream",
          "name": "stdout",
          "text": [
            "14\n",
            "14\n",
            "1\n",
            "-1\n"
          ]
        }
      ]
    },
    {
      "cell_type": "code",
      "source": [
        "#예제24\n",
        "a = 'smith'.upper()\n",
        "b = 'SMITH'.lower()\n",
        "c = 'smith'.title()\n",
        "print(a)\n",
        "print(b)\n",
        "print(c)"
      ],
      "metadata": {
        "colab": {
          "base_uri": "https://localhost:8080/"
        },
        "id": "S4BHKdxQFY_M",
        "outputId": "3eb17da2-0d81-4309-bf3d-c953c91712d3"
      },
      "execution_count": null,
      "outputs": [
        {
          "output_type": "stream",
          "name": "stdout",
          "text": [
            "SMITH\n",
            "smith\n",
            "Smith\n"
          ]
        }
      ]
    },
    {
      "cell_type": "code",
      "source": [
        "#예제25\n",
        "a = ['Future', 'fUture', 'today', 'fuTure', 'futuRe']\n",
        "cnt = 0\n",
        "for k in a:\n",
        "    if k.lower() == 'future':\n",
        "        cnt = cnt + 1\n",
        "print(cnt)"
      ],
      "metadata": {
        "colab": {
          "base_uri": "https://localhost:8080/"
        },
        "id": "zWUJhKcAFZBb",
        "outputId": "be874817-a91e-4ef7-f975-f00eedae5a49"
      },
      "execution_count": null,
      "outputs": [
        {
          "output_type": "stream",
          "name": "stdout",
          "text": [
            "4\n"
          ]
        }
      ]
    },
    {
      "cell_type": "code",
      "source": [
        "#예제26\n",
        "jobs = open()\n",
        "data = jobs.read()\n",
        "data2 = data.split()\n",
        "cnt = 0\n",
        "for j in data2:\n",
        "    if j.lower() == 'today':\n",
        "        cnt = cnt + 1\n",
        "print(cnt)"
      ],
      "metadata": {
        "colab": {
          "base_uri": "https://localhost:8080/",
          "height": 258
        },
        "id": "JTnALLNtFZDu",
        "outputId": "b8688567-5bd1-44d0-be50-dd66525a12d0"
      },
      "execution_count": null,
      "outputs": [
        {
          "output_type": "error",
          "ename": "TypeError",
          "evalue": "ignored",
          "traceback": [
            "\u001b[0;31m---------------------------------------------------------------------------\u001b[0m",
            "\u001b[0;31mTypeError\u001b[0m                                 Traceback (most recent call last)",
            "\u001b[0;32m<ipython-input-37-e671b97dbab5>\u001b[0m in \u001b[0;36m<cell line: 2>\u001b[0;34m()\u001b[0m\n\u001b[1;32m      1\u001b[0m \u001b[0;31m#예제26\u001b[0m\u001b[0;34m\u001b[0m\u001b[0;34m\u001b[0m\u001b[0m\n\u001b[0;32m----> 2\u001b[0;31m \u001b[0mjobs\u001b[0m \u001b[0;34m=\u001b[0m \u001b[0mopen\u001b[0m\u001b[0;34m(\u001b[0m\u001b[0;34m)\u001b[0m\u001b[0;34m\u001b[0m\u001b[0;34m\u001b[0m\u001b[0m\n\u001b[0m\u001b[1;32m      3\u001b[0m \u001b[0mdata\u001b[0m \u001b[0;34m=\u001b[0m \u001b[0mjobs\u001b[0m\u001b[0;34m.\u001b[0m\u001b[0mread\u001b[0m\u001b[0;34m(\u001b[0m\u001b[0;34m)\u001b[0m\u001b[0;34m\u001b[0m\u001b[0;34m\u001b[0m\u001b[0m\n\u001b[1;32m      4\u001b[0m \u001b[0mdata2\u001b[0m \u001b[0;34m=\u001b[0m \u001b[0mdata\u001b[0m\u001b[0;34m.\u001b[0m\u001b[0msplit\u001b[0m\u001b[0;34m(\u001b[0m\u001b[0;34m)\u001b[0m\u001b[0;34m\u001b[0m\u001b[0;34m\u001b[0m\u001b[0m\n\u001b[1;32m      5\u001b[0m \u001b[0mcnt\u001b[0m \u001b[0;34m=\u001b[0m \u001b[0;36m0\u001b[0m\u001b[0;34m\u001b[0m\u001b[0;34m\u001b[0m\u001b[0m\n",
            "\u001b[0;31mTypeError\u001b[0m: open() missing required argument 'file' (pos 1)"
          ]
        }
      ]
    },
    {
      "cell_type": "code",
      "source": [
        "#예제27\n",
        "a = ['서', '울', '로', '봇', '고', '2', '학', '년', '힘', '내']\n",
        "\n",
        "print(a[2:8])\n",
        "print(a[0:2])\n",
        "print(a[-2:])"
      ],
      "metadata": {
        "id": "mbFNA0qlFZF-",
        "outputId": "af7e399c-92fa-4b5c-d522-d19b419b14f4",
        "colab": {
          "base_uri": "https://localhost:8080/"
        }
      },
      "execution_count": null,
      "outputs": [
        {
          "output_type": "stream",
          "name": "stdout",
          "text": [
            "['로', '봇', '고', '2', '학', '년']\n",
            "['서', '울']\n",
            "['힘', '내']\n"
          ]
        }
      ]
    },
    {
      "cell_type": "code",
      "source": [
        "#예제28\n",
        "print(''.join(a))\n",
        "print(','.join(a))"
      ],
      "metadata": {
        "id": "EMEgcV2NFZIM",
        "outputId": "a07ac4ac-65f6-4686-8aa6-61b77567422e",
        "colab": {
          "base_uri": "https://localhost:8080/"
        }
      },
      "execution_count": null,
      "outputs": [
        {
          "output_type": "stream",
          "name": "stdout",
          "text": [
            "서울로봇고2학년힘내\n",
            "서,울,로,봇,고,2,학,년,힘,내\n"
          ]
        }
      ]
    },
    {
      "cell_type": "code",
      "source": [
        "#예제29\n",
        "dice = [1,2,3,4]\n",
        "dice.append(6)\n",
        "print(dice)\n",
        "dice.insert(4, 5)\n",
        "print(dice)\n",
        "abc = [7,8,9,10]\n",
        "dice.extend(abc)\n",
        "print(dice)\n",
        "dice.remove(7)\n",
        "print(dice)\n",
        "del dice[6]\n",
        "print(dice)\n",
        "print(len(dice))\n",
        "print(sum(dice))\n",
        "dice.clear()"
      ],
      "metadata": {
        "id": "Yc-zl-po6mpV",
        "outputId": "8192728a-9afd-4cc0-fdc9-454acf7b70f6",
        "colab": {
          "base_uri": "https://localhost:8080/"
        }
      },
      "execution_count": null,
      "outputs": [
        {
          "output_type": "stream",
          "name": "stdout",
          "text": [
            "[1, 2, 3, 4, 6]\n",
            "[1, 2, 3, 4, 5, 6]\n",
            "[1, 2, 3, 4, 5, 6, 7, 8, 9, 10]\n",
            "[1, 2, 3, 4, 5, 6, 8, 9, 10]\n",
            "[1, 2, 3, 4, 5, 6, 9, 10]\n",
            "8\n",
            "40\n"
          ]
        }
      ]
    },
    {
      "cell_type": "code",
      "source": [
        "#예제30\n",
        "weight = [72,81,90,78,84,65]\n",
        "result = ['정상', '과체중', '비만', '정상', '과체중', '정상']\n",
        "\n",
        "for j in zip(weight,result):\n",
        "    print(j)\n",
        "list(zip(weight,result))"
      ],
      "metadata": {
        "id": "IrodjIOH6mrj",
        "outputId": "960d69e0-6862-47fa-b2c0-65722bb37c53",
        "colab": {
          "base_uri": "https://localhost:8080/"
        }
      },
      "execution_count": null,
      "outputs": [
        {
          "output_type": "stream",
          "name": "stdout",
          "text": [
            "(72, '정상')\n",
            "(81, '과체중')\n",
            "(90, '비만')\n",
            "(78, '정상')\n",
            "(84, '과체중')\n",
            "(65, '정상')\n"
          ]
        },
        {
          "output_type": "execute_result",
          "data": {
            "text/plain": [
              "[(72, '정상'), (81, '과체중'), (90, '비만'), (78, '정상'), (84, '과체중'), (65, '정상')]"
            ]
          },
          "metadata": {},
          "execution_count": 15
        }
      ]
    },
    {
      "cell_type": "code",
      "source": [
        "#예제31\n",
        "iam = {'학교' : '서울로봇고', '학번' : '20306', '이름' : '김시겸'}\n",
        "print(iam['이름'])\n",
        "iam['취미'] = '음악듣기'\n",
        "print(iam)\n",
        "del iam['학교']\n",
        "iam"
      ],
      "metadata": {
        "id": "WzxdI1526mt7",
        "outputId": "c18a996d-c4e6-40ad-f0d7-9ea47055aec2",
        "colab": {
          "base_uri": "https://localhost:8080/"
        }
      },
      "execution_count": null,
      "outputs": [
        {
          "output_type": "stream",
          "name": "stdout",
          "text": [
            "김시겸\n",
            "{'학교': '서울로봇고', '학번': '20306', '이름': '김시겸', '취미': '음악듣기'}\n"
          ]
        },
        {
          "output_type": "execute_result",
          "data": {
            "text/plain": [
              "{'학번': '20306', '이름': '김시겸', '취미': '음악듣기'}"
            ]
          },
          "metadata": {},
          "execution_count": 16
        }
      ]
    },
    {
      "cell_type": "code",
      "source": [
        "#예제32\n",
        "unit = 1000\n",
        "def price():\n",
        "    global unit\n",
        "    unit += 500\n",
        "    vat = unit * 0.1\n",
        "    return unit+vat\n",
        "print(price())\n",
        "print(unit)"
      ],
      "metadata": {
        "id": "Op7d_Lgb6mwT",
        "outputId": "d0f7ee1b-27d1-4ac9-f9de-2a88d3c2114d",
        "colab": {
          "base_uri": "https://localhost:8080/"
        }
      },
      "execution_count": null,
      "outputs": [
        {
          "output_type": "stream",
          "name": "stdout",
          "text": [
            "1650.0\n",
            "1500\n"
          ]
        }
      ]
    },
    {
      "cell_type": "code",
      "source": [
        "#예제33\n",
        "def sub(a,b):\n",
        "    if a > b:\n",
        "        return a-b\n",
        "    else:\n",
        "        return b-a\n",
        "print(sub(3,5))\n",
        "print(sub(5,3))"
      ],
      "metadata": {
        "id": "5x53WJXb6myb",
        "outputId": "355b5709-817d-40ff-8c13-2d774e5e33bc",
        "colab": {
          "base_uri": "https://localhost:8080/"
        }
      },
      "execution_count": null,
      "outputs": [
        {
          "output_type": "stream",
          "name": "stdout",
          "text": [
            "2\n",
            "2\n"
          ]
        }
      ]
    },
    {
      "cell_type": "code",
      "source": [
        "#예제34,35\n",
        "weight = [72,81,90,78,84,65]\n",
        "def exam(x):\n",
        "    if x >= 80:\n",
        "        return x\n",
        "    else:\n",
        "        return\n",
        "result = list(map(exam, weight))\n",
        "print(result)\n",
        "\n",
        "result = list(filter(exam, weight))\n",
        "print(result)"
      ],
      "metadata": {
        "id": "NMBXcQzL6m0s",
        "outputId": "eb447440-b05e-4b71-a10a-b9061b3b470d",
        "colab": {
          "base_uri": "https://localhost:8080/"
        }
      },
      "execution_count": null,
      "outputs": [
        {
          "output_type": "stream",
          "name": "stdout",
          "text": [
            "[None, 81, 90, None, 84, None]\n",
            "[81, 90, 84]\n"
          ]
        }
      ]
    },
    {
      "cell_type": "code",
      "source": [
        "#예제36\n",
        "weight = [72,81,90,78,84,65]\n",
        "result = []\n",
        "\n",
        "for i in weight:\n",
        "    if i >= 90:\n",
        "        result.append('비만')\n",
        "    elif i >= 80:\n",
        "        result.append('과체중')\n",
        "    else:\n",
        "        result.append('정상')\n",
        "\n",
        "list(zip(weight, result))\n",
        "\n",
        "\n"
      ],
      "metadata": {
        "id": "O5uWtePj6m2z",
        "outputId": "86eb6417-9c1e-4854-defe-22cfd8bf8c1c",
        "colab": {
          "base_uri": "https://localhost:8080/"
        }
      },
      "execution_count": null,
      "outputs": [
        {
          "output_type": "execute_result",
          "data": {
            "text/plain": [
              "[(72, '정상'), (81, '과체중'), (90, '비만'), (78, '정상'), (84, '과체중'), (65, '정상')]"
            ]
          },
          "metadata": {},
          "execution_count": 22
        }
      ]
    },
    {
      "cell_type": "code",
      "source": [],
      "metadata": {
        "id": "mWINuO4A6m5E"
      },
      "execution_count": null,
      "outputs": []
    }
  ]
}