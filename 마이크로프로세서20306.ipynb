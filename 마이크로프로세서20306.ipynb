{
  "nbformat": 4,
  "nbformat_minor": 0,
  "metadata": {
    "colab": {
      "provenance": [],
      "authorship_tag": "ABX9TyPUo3jOoG5nh51z5mzbvpHq",
      "include_colab_link": true
    },
    "kernelspec": {
      "name": "python3",
      "display_name": "Python 3"
    },
    "language_info": {
      "name": "python"
    }
  },
  "cells": [
    {
      "cell_type": "markdown",
      "metadata": {
        "id": "view-in-github",
        "colab_type": "text"
      },
      "source": [
        "<a href=\"https://colab.research.google.com/github/KimSiGyum/Python/blob/main/%EB%A7%88%EC%9D%B4%ED%81%AC%EB%A1%9C%ED%94%84%EB%A1%9C%EC%84%B8%EC%84%9C20306.ipynb\" target=\"_parent\"><img src=\"https://colab.research.google.com/assets/colab-badge.svg\" alt=\"Open In Colab\"/></a>"
      ]
    },
    {
      "cell_type": "code",
      "execution_count": null,
      "metadata": {
        "colab": {
          "base_uri": "https://localhost:8080/"
        },
        "id": "wfIwotrDzVna",
        "outputId": "774dcaa3-18d4-4ace-f0e0-7f250fc04117"
      },
      "outputs": [
        {
          "output_type": "stream",
          "name": "stdout",
          "text": [
            "2\n"
          ]
        }
      ],
      "source": [
        "#예제1 : 변수 a에 숫자 2를 할당하고, 출력\n",
        "a = 2\n",
        "print(a)"
      ]
    },
    {
      "cell_type": "code",
      "source": [
        "#예제2 : 변수 b에 문자 'micro'를 할당하고, 출력\n",
        "b = 'micro'\n",
        "print(b)"
      ],
      "metadata": {
        "colab": {
          "base_uri": "https://localhost:8080/"
        },
        "id": "27fj9Fqz0i1X",
        "outputId": "ba0dbfba-7ec0-4dd4-ddf0-9516bea2dbfb"
      },
      "execution_count": null,
      "outputs": [
        {
          "output_type": "stream",
          "name": "stdout",
          "text": [
            "micro\n"
          ]
        }
      ]
    },
    {
      "cell_type": "code",
      "source": [
        "#예약어 확인하기\n",
        "import keyword\n",
        "print(keyword.kwlist)"
      ],
      "metadata": {
        "colab": {
          "base_uri": "https://localhost:8080/"
        },
        "id": "RwGwbhBF0uvz",
        "outputId": "f299793f-b18f-452b-ca2f-dc23f3a81cb9"
      },
      "execution_count": null,
      "outputs": [
        {
          "output_type": "stream",
          "name": "stdout",
          "text": [
            "['False', 'None', 'True', 'and', 'as', 'assert', 'async', 'await', 'break', 'class', 'continue', 'def', 'del', 'elif', 'else', 'except', 'finally', 'for', 'from', 'global', 'if', 'import', 'in', 'is', 'lambda', 'nonlocal', 'not', 'or', 'pass', 'raise', 'return', 'try', 'while', 'with', 'yield']\n"
          ]
        }
      ]
    },
    {
      "cell_type": "code",
      "source": [
        "True = 3\n",
        "print(True)"
      ],
      "metadata": {
        "colab": {
          "base_uri": "https://localhost:8080/",
          "height": 147
        },
        "id": "iI7ToUPF1KiW",
        "outputId": "2a10014b-16f4-40a8-e84b-a43b8603f81d"
      },
      "execution_count": null,
      "outputs": [
        {
          "output_type": "error",
          "ename": "SyntaxError",
          "evalue": "ignored",
          "traceback": [
            "\u001b[0;36m  File \u001b[0;32m\"<ipython-input-6-c76382b9c56a>\"\u001b[0;36m, line \u001b[0;32m1\u001b[0m\n\u001b[0;31m    True = 3\u001b[0m\n\u001b[0m    ^\u001b[0m\n\u001b[0;31mSyntaxError\u001b[0m\u001b[0;31m:\u001b[0m cannot assign to True\n"
          ]
        }
      ]
    },
    {
      "cell_type": "code",
      "source": [
        "#예제3 : 변수 a에 문자 'pro'를 할당하고, 자료형 출력\n",
        "a = 'pro'\n",
        "print(type(a))\n"
      ],
      "metadata": {
        "colab": {
          "base_uri": "https://localhost:8080/"
        },
        "id": "-YDChJrv1Kkz",
        "outputId": "b90b4a78-7360-4fb5-f145-2d7327c2432c"
      },
      "execution_count": null,
      "outputs": [
        {
          "output_type": "stream",
          "name": "stdout",
          "text": [
            "<class 'str'>\n"
          ]
        }
      ]
    },
    {
      "cell_type": "code",
      "source": [
        "#예제4 : 변수 b에 숫자 24를 할당하고, 자료형 출력\n",
        "b = 24\n",
        "print(type(b))"
      ],
      "metadata": {
        "colab": {
          "base_uri": "https://localhost:8080/"
        },
        "id": "bNMVgJMF1Km7",
        "outputId": "f798b61a-0fde-4212-9704-73cb9fa174b8"
      },
      "execution_count": null,
      "outputs": [
        {
          "output_type": "stream",
          "name": "stdout",
          "text": [
            "<class 'int'>\n"
          ]
        }
      ]
    },
    {
      "cell_type": "code",
      "source": [
        "#예제5 : 리스트 변수 만들어보기\n",
        "import random\n",
        "dice = [1,2,3,4,5,6]\n",
        "print(dice)\n",
        "print(random.choice(dice))"
      ],
      "metadata": {
        "colab": {
          "base_uri": "https://localhost:8080/"
        },
        "id": "9l4MUbVI1Kpb",
        "outputId": "b860de94-611f-4cfe-99de-23be7824b275"
      },
      "execution_count": null,
      "outputs": [
        {
          "output_type": "stream",
          "name": "stdout",
          "text": [
            "[1, 2, 3, 4, 5, 6]\n",
            "4\n"
          ]
        }
      ]
    },
    {
      "cell_type": "code",
      "source": [
        "#예제6 : 튜플 변수를 이용한 동전(앞면, 뒷면) 던지기\n",
        "import random\n",
        "coin = ('앞면', '뒷면')\n",
        "print(random.choice(coin))"
      ],
      "metadata": {
        "colab": {
          "base_uri": "https://localhost:8080/"
        },
        "id": "DuYZC41p1KsD",
        "outputId": "958aca85-554c-484d-a4c2-625150f1acfd"
      },
      "execution_count": null,
      "outputs": [
        {
          "output_type": "stream",
          "name": "stdout",
          "text": [
            "뒷면\n"
          ]
        }
      ]
    },
    {
      "cell_type": "code",
      "source": [
        "#예제7 : 주사위 랜덤으로 3이 나오면 '당첨', 아니면 '꽝' 출력\n",
        "import random\n",
        "dice = [1,2,3,4,5,6]\n",
        "a = random.choice(dice)\n",
        "\n",
        "if a == 3:\n",
        "    print('당첨')\n",
        "else:\n",
        "    print('꽝')"
      ],
      "metadata": {
        "colab": {
          "base_uri": "https://localhost:8080/"
        },
        "id": "SVjGSoNg4MkN",
        "outputId": "7b717ad5-3d4e-4813-882d-2f3a63633607"
      },
      "execution_count": null,
      "outputs": [
        {
          "output_type": "stream",
          "name": "stdout",
          "text": [
            "꽝\n"
          ]
        }
      ]
    },
    {
      "cell_type": "code",
      "source": [
        "#예제8\n",
        "import random\n",
        "coin = ['앞면', '뒷면']\n",
        "a = random.choice(coin)\n",
        "\n",
        "if a == '뒷면':\n",
        "    print('앞면입니다.')\n",
        "else:\n",
        "    print('뒷면입니다.')"
      ],
      "metadata": {
        "colab": {
          "base_uri": "https://localhost:8080/"
        },
        "id": "tkQmBAQA4MpL",
        "outputId": "e4aea11c-70e6-4e7a-9cea-f2a7a4957215"
      },
      "execution_count": null,
      "outputs": [
        {
          "output_type": "stream",
          "name": "stdout",
          "text": [
            "앞면입니다.\n"
          ]
        }
      ]
    },
    {
      "cell_type": "code",
      "source": [
        "#예제9\n",
        "import random\n",
        "table = [1,2,3,4,5,6]\n",
        "a = random.choice(table)\n",
        "\n",
        "if a == 1:\n",
        "    print('1번 테이블로 이동합니다.')\n",
        "elif a == 2:\n",
        "    print('2번 테이블로 이동합니다.')\n",
        "elif a == 3:\n",
        "    print('3번 테이블로 이동합니다.')\n",
        "elif a == 4:\n",
        "    print('4번 테이블로 이동합니다.')\n",
        "elif a == 5:\n",
        "    print('5번 테이블로 이동합니다.')\n",
        "else:\n",
        "    print('6번 테이블로 이동합니다.')"
      ],
      "metadata": {
        "colab": {
          "base_uri": "https://localhost:8080/"
        },
        "id": "RFaIptr94MrL",
        "outputId": "1906db9f-5be0-4d3f-d8cf-e25fa5114b00"
      },
      "execution_count": null,
      "outputs": [
        {
          "output_type": "stream",
          "name": "stdout",
          "text": [
            "5번 테이블로 이동합니다.\n"
          ]
        }
      ]
    },
    {
      "cell_type": "code",
      "source": [
        "#예제10\n",
        "import random\n",
        "dice = [1,2,3,4,5,6]\n",
        "a = random.choice(dice)\n",
        "if a in (1,3,5):\n",
        "    print('홀수입니다.')\n",
        "else:\n",
        "    print('짝수입니다.')"
      ],
      "metadata": {
        "colab": {
          "base_uri": "https://localhost:8080/"
        },
        "id": "K69HIMbp4MuL",
        "outputId": "c5c507b7-2e00-4716-ffb0-ef6a4d9dec8c"
      },
      "execution_count": null,
      "outputs": [
        {
          "output_type": "stream",
          "name": "stdout",
          "text": [
            "홀수입니다.\n"
          ]
        }
      ]
    },
    {
      "cell_type": "code",
      "source": [
        "#예제11\n",
        "a = range(10)\n",
        "print(list(a))\n",
        "b = range(4,7)\n",
        "print(list(b))\n",
        "c = range(10,1,-1)\n",
        "print(list(c))\n",
        "score = [90,85,100,80]\n",
        "for a in score:\n",
        "    print('시험 점수는', a, '입니다.')"
      ],
      "metadata": {
        "colab": {
          "base_uri": "https://localhost:8080/"
        },
        "id": "6q6cHbKf4Mvz",
        "outputId": "26b0cdef-a4c3-466b-8b3b-7575d6dde071"
      },
      "execution_count": null,
      "outputs": [
        {
          "output_type": "stream",
          "name": "stdout",
          "text": [
            "[0, 1, 2, 3, 4, 5, 6, 7, 8, 9]\n",
            "[4, 5, 6]\n",
            "[10, 9, 8, 7, 6, 5, 4, 3, 2]\n",
            "시험 점수는 90 입니다.\n",
            "시험 점수는 85 입니다.\n",
            "시험 점수는 100 입니다.\n",
            "시험 점수는 80 입니다.\n"
          ]
        }
      ]
    },
    {
      "cell_type": "code",
      "source": [
        "#예제12\n",
        "import random\n",
        "coin = ['앞면', '뒷면']\n",
        "\n",
        "for i in range(10):\n",
        "    a = random.choice(coin)\n",
        "    print(a)"
      ],
      "metadata": {
        "colab": {
          "base_uri": "https://localhost:8080/"
        },
        "id": "vLVHs3L34Myr",
        "outputId": "bebfff51-05e4-4da3-c9a5-88d32867563f"
      },
      "execution_count": null,
      "outputs": [
        {
          "output_type": "stream",
          "name": "stdout",
          "text": [
            "뒷면\n",
            "뒷면\n",
            "뒷면\n",
            "앞면\n",
            "뒷면\n",
            "앞면\n",
            "뒷면\n",
            "뒷면\n",
            "앞면\n",
            "앞면\n"
          ]
        }
      ]
    },
    {
      "cell_type": "code",
      "source": [
        "#예제13\n",
        "import random\n",
        "coin = ['앞면', '뒷면']\n",
        "cnt = 0\n",
        "\n",
        "for i in range(11):\n",
        "    a = random.choice(coin)\n",
        "    if a == '앞면':\n",
        "        cnt = cnt + 1\n",
        "print(cnt)"
      ],
      "metadata": {
        "colab": {
          "base_uri": "https://localhost:8080/"
        },
        "id": "_adE9ejA4M2j",
        "outputId": "bcb64869-b500-4d93-c15f-fe95f4ca0920"
      },
      "execution_count": null,
      "outputs": [
        {
          "output_type": "stream",
          "name": "stdout",
          "text": [
            "6\n"
          ]
        }
      ]
    },
    {
      "cell_type": "code",
      "source": [
        "#예제14\n",
        "import random\n",
        "dice = [1,2,3,4,5,6]\n",
        "cnt1, cnt2, cnt3, cnt4, cnt5, cnt6 = 0,0,0,0,0,0\n",
        "\n",
        "for i in range(1, 100001):\n",
        "    a = random.choice(dice)\n",
        "    if a == 1:\n",
        "        cnt1 = cnt1 + 1\n",
        "    elif a == 2:\n",
        "        cnt2 = cnt2 + 1\n",
        "    elif a == 3:\n",
        "        cnt3 = cnt3 + 1\n",
        "    elif a == 4:\n",
        "        cnt4 = cnt4 + 1\n",
        "    elif a == 5:\n",
        "        cnt5 = cnt5 + 1\n",
        "    else:\n",
        "        cnt6 = cnt6 + 1\n",
        "print('주사위의 눈1이 나올 확률은?', cnt1/100000)\n",
        "print('주사위의 눈2이 나올 확률은?', cnt2/100000)\n",
        "print('주사위의 눈3이 나올 확률은?', cnt3/100000)\n",
        "print('주사위의 눈4이 나올 확률은?', cnt4/100000)\n",
        "print('주사위의 눈5이 나올 확률은?', cnt5/100000)\n",
        "print('주사위의 눈6이 나올 확률은?', cnt6/100000)"
      ],
      "metadata": {
        "colab": {
          "base_uri": "https://localhost:8080/"
        },
        "id": "fSM0KVVT4M5b",
        "outputId": "293e4df0-4b65-48c8-dbc7-ae06ad446e48"
      },
      "execution_count": null,
      "outputs": [
        {
          "output_type": "stream",
          "name": "stdout",
          "text": [
            "주사위의 눈1이 나올 확률은? 0.16622\n",
            "주사위의 눈2이 나올 확률은? 0.16717\n",
            "주사위의 눈3이 나올 확률은? 0.16748\n",
            "주사위의 눈4이 나올 확률은? 0.16774\n",
            "주사위의 눈5이 나올 확률은? 0.16486\n",
            "주사위의 눈6이 나올 확률은? 0.16653\n"
          ]
        }
      ]
    },
    {
      "cell_type": "code",
      "source": [
        "#예제15\n",
        "for i in range(1, 11):\n",
        "    if i in (5,9):\n",
        "        continue\n",
        "    print(i, '는 청소하기')\n"
      ],
      "metadata": {
        "colab": {
          "base_uri": "https://localhost:8080/"
        },
        "id": "4TIFKEjd4M8D",
        "outputId": "ea3860b2-52db-49ae-c6d7-e36b4533f7d5"
      },
      "execution_count": null,
      "outputs": [
        {
          "output_type": "stream",
          "name": "stdout",
          "text": [
            "1 는 청소하기\n",
            "2 는 청소하기\n",
            "3 는 청소하기\n",
            "4 는 청소하기\n",
            "6 는 청소하기\n",
            "7 는 청소하기\n",
            "8 는 청소하기\n",
            "10 는 청소하기\n"
          ]
        }
      ]
    },
    {
      "cell_type": "code",
      "source": [
        "#예제16\n",
        "import random\n",
        "coin = ['앞면', '뒷면']\n",
        "\n",
        "for i in range(5):\n",
        "    a = random.choice(coin)\n",
        "    print(a)\n",
        "    if a == '앞면':\n",
        "        break\n"
      ],
      "metadata": {
        "colab": {
          "base_uri": "https://localhost:8080/"
        },
        "id": "dgnjbDWd4M-s",
        "outputId": "1271ab95-d372-4b40-9898-2c3f3cef2b74"
      },
      "execution_count": null,
      "outputs": [
        {
          "output_type": "stream",
          "name": "stdout",
          "text": [
            "앞면\n"
          ]
        }
      ]
    },
    {
      "cell_type": "code",
      "source": [
        "#예제17\n",
        "a = int(input('숫자 첫 번째 '))\n",
        "b = int(input('숫자 두 번째 '))\n",
        "for i in range(min(a,b), 0, -1):\n",
        "    if a % i == 0 and b % i == 0:\n",
        "        break\n",
        "print('최대공약수는', i, '입니다.')"
      ],
      "metadata": {
        "colab": {
          "base_uri": "https://localhost:8080/"
        },
        "id": "_5nAo_Bc4NBE",
        "outputId": "3f54d4cd-9c70-4e93-bc1b-83cb60c7458c"
      },
      "execution_count": null,
      "outputs": [
        {
          "output_type": "stream",
          "name": "stdout",
          "text": [
            "숫자 첫 번째 24\n",
            "숫자 두 번째 16\n",
            "최대공약수는 8 입니다.\n"
          ]
        }
      ]
    },
    {
      "cell_type": "code",
      "source": [
        "#예제18\n",
        "for a in range(1,10):\n",
        "    print('2 x', a,'=', a*2)"
      ],
      "metadata": {
        "colab": {
          "base_uri": "https://localhost:8080/"
        },
        "id": "rjULbdkB4NDs",
        "outputId": "d9c9f0c5-15ea-4c83-86ce-9ce543b27224"
      },
      "execution_count": null,
      "outputs": [
        {
          "output_type": "stream",
          "name": "stdout",
          "text": [
            "2 x 1 = 2\n",
            "2 x 2 = 4\n",
            "2 x 3 = 6\n",
            "2 x 4 = 8\n",
            "2 x 5 = 10\n",
            "2 x 6 = 12\n",
            "2 x 7 = 14\n",
            "2 x 8 = 16\n",
            "2 x 9 = 18\n"
          ]
        }
      ]
    },
    {
      "cell_type": "code",
      "source": [
        "#예제19\n",
        "for j in range(1,10):\n",
        "    for k in range(1,10):\n",
        "        print(j, 'x', k, '=', j*k)"
      ],
      "metadata": {
        "colab": {
          "base_uri": "https://localhost:8080/"
        },
        "id": "RN10_M111LDL",
        "outputId": "dde5df89-773c-45df-ace4-66e4e7920827"
      },
      "execution_count": null,
      "outputs": [
        {
          "output_type": "stream",
          "name": "stdout",
          "text": [
            "1 x 1 = 1\n",
            "1 x 2 = 2\n",
            "1 x 3 = 3\n",
            "1 x 4 = 4\n",
            "1 x 5 = 5\n",
            "1 x 6 = 6\n",
            "1 x 7 = 7\n",
            "1 x 8 = 8\n",
            "1 x 9 = 9\n",
            "2 x 1 = 2\n",
            "2 x 2 = 4\n",
            "2 x 3 = 6\n",
            "2 x 4 = 8\n",
            "2 x 5 = 10\n",
            "2 x 6 = 12\n",
            "2 x 7 = 14\n",
            "2 x 8 = 16\n",
            "2 x 9 = 18\n",
            "3 x 1 = 3\n",
            "3 x 2 = 6\n",
            "3 x 3 = 9\n",
            "3 x 4 = 12\n",
            "3 x 5 = 15\n",
            "3 x 6 = 18\n",
            "3 x 7 = 21\n",
            "3 x 8 = 24\n",
            "3 x 9 = 27\n",
            "4 x 1 = 4\n",
            "4 x 2 = 8\n",
            "4 x 3 = 12\n",
            "4 x 4 = 16\n",
            "4 x 5 = 20\n",
            "4 x 6 = 24\n",
            "4 x 7 = 28\n",
            "4 x 8 = 32\n",
            "4 x 9 = 36\n",
            "5 x 1 = 5\n",
            "5 x 2 = 10\n",
            "5 x 3 = 15\n",
            "5 x 4 = 20\n",
            "5 x 5 = 25\n",
            "5 x 6 = 30\n",
            "5 x 7 = 35\n",
            "5 x 8 = 40\n",
            "5 x 9 = 45\n",
            "6 x 1 = 6\n",
            "6 x 2 = 12\n",
            "6 x 3 = 18\n",
            "6 x 4 = 24\n",
            "6 x 5 = 30\n",
            "6 x 6 = 36\n",
            "6 x 7 = 42\n",
            "6 x 8 = 48\n",
            "6 x 9 = 54\n",
            "7 x 1 = 7\n",
            "7 x 2 = 14\n",
            "7 x 3 = 21\n",
            "7 x 4 = 28\n",
            "7 x 5 = 35\n",
            "7 x 6 = 42\n",
            "7 x 7 = 49\n",
            "7 x 8 = 56\n",
            "7 x 9 = 63\n",
            "8 x 1 = 8\n",
            "8 x 2 = 16\n",
            "8 x 3 = 24\n",
            "8 x 4 = 32\n",
            "8 x 5 = 40\n",
            "8 x 6 = 48\n",
            "8 x 7 = 56\n",
            "8 x 8 = 64\n",
            "8 x 9 = 72\n",
            "9 x 1 = 9\n",
            "9 x 2 = 18\n",
            "9 x 3 = 27\n",
            "9 x 4 = 36\n",
            "9 x 5 = 45\n",
            "9 x 6 = 54\n",
            "9 x 7 = 63\n",
            "9 x 8 = 72\n",
            "9 x 9 = 81\n"
          ]
        }
      ]
    },
    {
      "cell_type": "code",
      "source": [
        "#예제20\n",
        "i = 1\n",
        "while i < 10:\n",
        "    j = 1\n",
        "    while j < 10:\n",
        "        print(i, 'x', j, '=', i*j)\n",
        "        j = j + 1\n",
        "    i = i + 1"
      ],
      "metadata": {
        "colab": {
          "base_uri": "https://localhost:8080/"
        },
        "id": "Eqf4LU021LFT",
        "outputId": "1fb92e73-63a0-4ac8-d14e-59ed33301826"
      },
      "execution_count": null,
      "outputs": [
        {
          "output_type": "stream",
          "name": "stdout",
          "text": [
            "1 x 1 = 1\n",
            "1 x 2 = 2\n",
            "1 x 3 = 3\n",
            "1 x 4 = 4\n",
            "1 x 5 = 5\n",
            "1 x 6 = 6\n",
            "1 x 7 = 7\n",
            "1 x 8 = 8\n",
            "1 x 9 = 9\n",
            "2 x 1 = 2\n",
            "2 x 2 = 4\n",
            "2 x 3 = 6\n",
            "2 x 4 = 8\n",
            "2 x 5 = 10\n",
            "2 x 6 = 12\n",
            "2 x 7 = 14\n",
            "2 x 8 = 16\n",
            "2 x 9 = 18\n",
            "3 x 1 = 3\n",
            "3 x 2 = 6\n",
            "3 x 3 = 9\n",
            "3 x 4 = 12\n",
            "3 x 5 = 15\n",
            "3 x 6 = 18\n",
            "3 x 7 = 21\n",
            "3 x 8 = 24\n",
            "3 x 9 = 27\n",
            "4 x 1 = 4\n",
            "4 x 2 = 8\n",
            "4 x 3 = 12\n",
            "4 x 4 = 16\n",
            "4 x 5 = 20\n",
            "4 x 6 = 24\n",
            "4 x 7 = 28\n",
            "4 x 8 = 32\n",
            "4 x 9 = 36\n",
            "5 x 1 = 5\n",
            "5 x 2 = 10\n",
            "5 x 3 = 15\n",
            "5 x 4 = 20\n",
            "5 x 5 = 25\n",
            "5 x 6 = 30\n",
            "5 x 7 = 35\n",
            "5 x 8 = 40\n",
            "5 x 9 = 45\n",
            "6 x 1 = 6\n",
            "6 x 2 = 12\n",
            "6 x 3 = 18\n",
            "6 x 4 = 24\n",
            "6 x 5 = 30\n",
            "6 x 6 = 36\n",
            "6 x 7 = 42\n",
            "6 x 8 = 48\n",
            "6 x 9 = 54\n",
            "7 x 1 = 7\n",
            "7 x 2 = 14\n",
            "7 x 3 = 21\n",
            "7 x 4 = 28\n",
            "7 x 5 = 35\n",
            "7 x 6 = 42\n",
            "7 x 7 = 49\n",
            "7 x 8 = 56\n",
            "7 x 9 = 63\n",
            "8 x 1 = 8\n",
            "8 x 2 = 16\n",
            "8 x 3 = 24\n",
            "8 x 4 = 32\n",
            "8 x 5 = 40\n",
            "8 x 6 = 48\n",
            "8 x 7 = 56\n",
            "8 x 8 = 64\n",
            "8 x 9 = 72\n",
            "9 x 1 = 9\n",
            "9 x 2 = 18\n",
            "9 x 3 = 27\n",
            "9 x 4 = 36\n",
            "9 x 5 = 45\n",
            "9 x 6 = 54\n",
            "9 x 7 = 63\n",
            "9 x 8 = 72\n",
            "9 x 9 = 81\n"
          ]
        }
      ]
    },
    {
      "cell_type": "code",
      "source": [
        "#예제21\n",
        "a = '서울로봇고등학교'\n",
        "print(a)\n",
        "print(a[0:2])\n",
        "print(a[2:4])\n",
        "print(a[4:8])"
      ],
      "metadata": {
        "colab": {
          "base_uri": "https://localhost:8080/"
        },
        "id": "8v1SNTqqFY4T",
        "outputId": "46af9507-4edf-43b3-b1aa-7deeb8701fcf"
      },
      "execution_count": null,
      "outputs": [
        {
          "output_type": "stream",
          "name": "stdout",
          "text": [
            "서울로봇고등학교\n",
            "서울\n",
            "로봇\n",
            "고등학교\n"
          ]
        }
      ]
    },
    {
      "cell_type": "code",
      "source": [
        "#예제22\n",
        "a = '한가지만 한다.딱 하나'\n",
        "print(a[8:])\n",
        "print(a[-4:])"
      ],
      "metadata": {
        "colab": {
          "base_uri": "https://localhost:8080/"
        },
        "id": "LUAPrzB_FY6r",
        "outputId": "34776f7b-e58e-4f83-f7a2-31d4e5503087"
      },
      "execution_count": null,
      "outputs": [
        {
          "output_type": "stream",
          "name": "stdout",
          "text": [
            "딱 하나\n",
            "딱 하나\n"
          ]
        }
      ]
    },
    {
      "cell_type": "code",
      "source": [
        "#예제23\n",
        "a = '기상 후 1시간을 얼마나 의미 있게 보내느냐에 따라 그날 하루가 결정됩니다.'\n",
        "print(a.find('의미'))\n",
        "print(a.index('의미'))\n",
        "print(a.count('의미'))\n",
        "print(a.find('습관'))\n"
      ],
      "metadata": {
        "colab": {
          "base_uri": "https://localhost:8080/"
        },
        "id": "r1F7zvH3FY8z",
        "outputId": "ef373324-700d-4e89-8632-b1faf7d3c1d6"
      },
      "execution_count": null,
      "outputs": [
        {
          "output_type": "stream",
          "name": "stdout",
          "text": [
            "14\n",
            "14\n",
            "1\n",
            "-1\n"
          ]
        }
      ]
    },
    {
      "cell_type": "code",
      "source": [
        "#예제24\n",
        "a = 'smith'.upper()\n",
        "b = 'SMITH'.lower()\n",
        "c = 'smith'.title()\n",
        "print(a)\n",
        "print(b)\n",
        "print(c)"
      ],
      "metadata": {
        "colab": {
          "base_uri": "https://localhost:8080/"
        },
        "id": "S4BHKdxQFY_M",
        "outputId": "3eb17da2-0d81-4309-bf3d-c953c91712d3"
      },
      "execution_count": null,
      "outputs": [
        {
          "output_type": "stream",
          "name": "stdout",
          "text": [
            "SMITH\n",
            "smith\n",
            "Smith\n"
          ]
        }
      ]
    },
    {
      "cell_type": "code",
      "source": [
        "#예제25\n",
        "a = ['Future', 'fUture', 'today', 'fuTure', 'futuRe']\n",
        "cnt = 0\n",
        "for k in a:\n",
        "    if k.lower() == 'future':\n",
        "        cnt = cnt + 1\n",
        "print(cnt)"
      ],
      "metadata": {
        "colab": {
          "base_uri": "https://localhost:8080/"
        },
        "id": "zWUJhKcAFZBb",
        "outputId": "be874817-a91e-4ef7-f975-f00eedae5a49"
      },
      "execution_count": null,
      "outputs": [
        {
          "output_type": "stream",
          "name": "stdout",
          "text": [
            "4\n"
          ]
        }
      ]
    },
    {
      "cell_type": "code",
      "source": [
        "#예제26\n",
        "jobs = open()\n",
        "data = jobs.read()\n",
        "data2 = data.split()\n",
        "cnt = 0\n",
        "for j in data2:\n",
        "    if j.lower() == 'today':\n",
        "        cnt = cnt + 1\n",
        "print(cnt)"
      ],
      "metadata": {
        "colab": {
          "base_uri": "https://localhost:8080/",
          "height": 258
        },
        "id": "JTnALLNtFZDu",
        "outputId": "b8688567-5bd1-44d0-be50-dd66525a12d0"
      },
      "execution_count": null,
      "outputs": [
        {
          "output_type": "error",
          "ename": "TypeError",
          "evalue": "ignored",
          "traceback": [
            "\u001b[0;31m---------------------------------------------------------------------------\u001b[0m",
            "\u001b[0;31mTypeError\u001b[0m                                 Traceback (most recent call last)",
            "\u001b[0;32m<ipython-input-37-e671b97dbab5>\u001b[0m in \u001b[0;36m<cell line: 2>\u001b[0;34m()\u001b[0m\n\u001b[1;32m      1\u001b[0m \u001b[0;31m#예제26\u001b[0m\u001b[0;34m\u001b[0m\u001b[0;34m\u001b[0m\u001b[0m\n\u001b[0;32m----> 2\u001b[0;31m \u001b[0mjobs\u001b[0m \u001b[0;34m=\u001b[0m \u001b[0mopen\u001b[0m\u001b[0;34m(\u001b[0m\u001b[0;34m)\u001b[0m\u001b[0;34m\u001b[0m\u001b[0;34m\u001b[0m\u001b[0m\n\u001b[0m\u001b[1;32m      3\u001b[0m \u001b[0mdata\u001b[0m \u001b[0;34m=\u001b[0m \u001b[0mjobs\u001b[0m\u001b[0;34m.\u001b[0m\u001b[0mread\u001b[0m\u001b[0;34m(\u001b[0m\u001b[0;34m)\u001b[0m\u001b[0;34m\u001b[0m\u001b[0;34m\u001b[0m\u001b[0m\n\u001b[1;32m      4\u001b[0m \u001b[0mdata2\u001b[0m \u001b[0;34m=\u001b[0m \u001b[0mdata\u001b[0m\u001b[0;34m.\u001b[0m\u001b[0msplit\u001b[0m\u001b[0;34m(\u001b[0m\u001b[0;34m)\u001b[0m\u001b[0;34m\u001b[0m\u001b[0;34m\u001b[0m\u001b[0m\n\u001b[1;32m      5\u001b[0m \u001b[0mcnt\u001b[0m \u001b[0;34m=\u001b[0m \u001b[0;36m0\u001b[0m\u001b[0;34m\u001b[0m\u001b[0;34m\u001b[0m\u001b[0m\n",
            "\u001b[0;31mTypeError\u001b[0m: open() missing required argument 'file' (pos 1)"
          ]
        }
      ]
    },
    {
      "cell_type": "code",
      "source": [],
      "metadata": {
        "id": "mbFNA0qlFZF-"
      },
      "execution_count": null,
      "outputs": []
    },
    {
      "cell_type": "code",
      "source": [],
      "metadata": {
        "id": "EMEgcV2NFZIM"
      },
      "execution_count": null,
      "outputs": []
    }
  ]
}