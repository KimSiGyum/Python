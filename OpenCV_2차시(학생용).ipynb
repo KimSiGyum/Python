{
  "cells": [
    {
      "cell_type": "markdown",
      "metadata": {
        "id": "view-in-github",
        "colab_type": "text"
      },
      "source": [
        "<a href=\"https://colab.research.google.com/github/KimSiGyum/Python/blob/main/OpenCV_2%EC%B0%A8%EC%8B%9C(%ED%95%99%EC%83%9D%EC%9A%A9).ipynb\" target=\"_parent\"><img src=\"https://colab.research.google.com/assets/colab-badge.svg\" alt=\"Open In Colab\"/></a>"
      ]
    },
    {
      "cell_type": "markdown",
      "id": "e3526963-dbe1-4381-be0a-911bf7f408fa",
      "metadata": {
        "id": "e3526963-dbe1-4381-be0a-911bf7f408fa"
      },
      "source": [
        "# **OpenCV (Open Source Computer Vision Library)**"
      ]
    },
    {
      "cell_type": "markdown",
      "id": "1d210395-8a6e-4d5f-8d93-2c93910996eb",
      "metadata": {
        "id": "1d210395-8a6e-4d5f-8d93-2c93910996eb"
      },
      "source": [
        "※ [OpenCV](https://opencv.org/about/) <br>\n",
        "※ [OpenCV-Python 튜토리얼](https://docs.opencv.org/4.x/d6/d00/tutorial_py_root.html)"
      ]
    },
    {
      "cell_type": "markdown",
      "id": "01b78f88-5c77-4589-bba5-9783dfe15342",
      "metadata": {
        "id": "01b78f88-5c77-4589-bba5-9783dfe15342"
      },
      "source": [
        "## **Ch4. 마우스 이벤트 처리**\n",
        "---\n",
        "※ 튜토리얼 > Introduction to OpenCV > [Mouse as a Paint-Brush](https://docs.opencv.org/4.x/db/d5b/tutorial_py_mouse_handling.html)"
      ]
    },
    {
      "cell_type": "markdown",
      "id": "6fcf275e-4bb7-4457-b3f6-eccc8efa4319",
      "metadata": {
        "id": "6fcf275e-4bb7-4457-b3f6-eccc8efa4319"
      },
      "source": [
        "- **<span style='background-color:#ffcc00'>setMouseCallback()</span>** : 지정된 창에 마우스 핸들러 설정하기\n",
        "- 참고 : [마우스 이벤트 종류](https://docs.opencv.org/4.x/d0/d90/group__highgui__window__flags.html#ga927593befdddc7e7013602bca9b079b0)\n",
        "- 참고 : [아스키코드표](https://img1.daumcdn.net/thumb/R1280x0/?scode=mtistory2&fname=https%3A%2F%2Fblog.kakaocdn.net%2Fdn%2FqOPNt%2FbtrAdcY26CF%2FKsn1qKzUqEaCql1Cbk6GG0%2Fimg.png)"
      ]
    },
    {
      "cell_type": "code",
      "execution_count": null,
      "id": "05a4fdfe-db01-464e-aae6-24369024aa8d",
      "metadata": {
        "id": "05a4fdfe-db01-464e-aae6-24369024aa8d"
      },
      "outputs": [],
      "source": [
        "import cv2\n",
        "import numpy as np\n",
        "\n",
        "# 마우스 콜백 함수 정의\n",
        "def draw_circle(event, x, y, flags, param):\n",
        "    if event == cv2.EVENT_LBUTTONDBLCLK:\n",
        "        cv2.circle(img, (x, y), 100, (255, 0, 0), -1)\n",
        "\n",
        "# 새 창을 생성하고 마우스 핸들러 설정\n",
        "img = np.zeros((512, 512, 3), np.uint8) # 세로 512, 가로 512 크기의 검정색 이미지 생성\n",
        "cv2.namedWindow('Draw Circle') # 이름이 Draw Circle인 새 창 생성\n",
        "cv2.setMouseCallback('Draw Circle', draw_circle) # Draw Circle 창에서 마우스 이벤트 발생시 draw_circle 함수(콜백 함수) 호출\n",
        "\n",
        "while True:\n",
        "    cv2.imshow('Draw Circle', img) # 이미지를 \"갱신\"하여 새 창에 출력\n",
        "    if cv2.waitKey(20) & 0xFF == 27: # 입력된 키를 확인하여 ESC라면 루프를 벗어남\n",
        "        break\n",
        "cv2.destroyAllWindows() # 모든 창 닫기"
      ]
    },
    {
      "cell_type": "markdown",
      "id": "845e848f-02ca-4107-9b5a-481af22e9f16",
      "metadata": {
        "id": "845e848f-02ca-4107-9b5a-481af22e9f16"
      },
      "source": [
        "**<span style='background-color:#0000ff; color:#ffffff'>▶ 연습해보기 : 마우스 이벤트 처리하기</span>**"
      ]
    },
    {
      "cell_type": "markdown",
      "id": "03d7a459-e9d8-49d4-9e9e-e7437ce1afb5",
      "metadata": {
        "id": "03d7a459-e9d8-49d4-9e9e-e7437ce1afb5"
      },
      "source": [
        "위 코드를 참고하여 아래와 같이 마우스 이벤트를 추가해보자.\n",
        "- 마우스 왼쪽버튼을 더블클릭하면 원, 오른쪽버튼을 더블클릭하면 정사각형 그리기\n",
        "- 정사각형의 한 변의 길이는 100px, 색상은 주황색 R(255) G(95) B(0)\n",
        "- 콜백 함수 이름은 draw_figure()"
      ]
    },
    {
      "cell_type": "code",
      "execution_count": null,
      "id": "274901b3-f64e-4fc4-93cd-1fad0311b7ad",
      "metadata": {
        "id": "274901b3-f64e-4fc4-93cd-1fad0311b7ad"
      },
      "outputs": [],
      "source": [
        "import cv2\n",
        "import numpy as np\n",
        "\n",
        "# 마우스 콜백 함수 정의\n",
        "def draw_figure(event, x, y, flags, param):\n",
        "    if event == cv2.EVENT_LBUTTONDBLCLK:\n",
        "        cv2.circle(img, (x, y), 100, (255, 0, 0), -1)\n",
        "    elif event == cv2.EVENT_RBUTTONDBLCLK:\n",
        "        cv2.rectangle(img, (x, y), (x+100, y+100), (0, 95, 255), -1)\n",
        "\n",
        "# 새 창을 생성하고 마우스 핸들러 설정\n",
        "img = np.zeros((512, 512, 3), np.uint8) # 세로 512, 가로 512 크기의 검정색 이미지 생성\n",
        "cv2.namedWindow('Draw Circle') # 이름이 Draw Circle인 새 창 생성\n",
        "cv2.setMouseCallback('Draw Circle', draw_figure) # Draw Circle 창에서 마우스 이벤트 발생시 draw_circle 함수(콜백 함수) 호출\n",
        "\n",
        "# 새 창 띄우기\n",
        "while True: # 무한 루프\n",
        "    cv2.imshow('Draw Circle', img) # 검정색 이미지를 새 창에 출력\n",
        "    if cv2.waitKey(20) & 0xFF == 27: # 입력된 키를 확인하여 ESC라면 루프를 벗어남\n",
        "        break\n",
        "cv2.destroyAllWindows() # 모든 창 닫기"
      ]
    },
    {
      "cell_type": "markdown",
      "id": "66369418",
      "metadata": {
        "id": "66369418"
      },
      "source": [
        "**<span style='background-color:#ff0000; color:#ffffff'>▶ 도전과제 : 마우스 이벤트 처리하기</span>**"
      ]
    },
    {
      "cell_type": "markdown",
      "id": "260ee905",
      "metadata": {
        "id": "260ee905"
      },
      "source": [
        "아래와 같은 코드를 작성해보자.\n",
        "- 가로 600 세로 400 흰 바탕의 새 창 Click Here 생성\n",
        "- 생성된 창에서 마우스 왼쪽 버튼을 클릭할 때마다,\n",
        "    - 실행결과로 클릭한 지점의 좌표와 누적된 클릭 횟수를 출력\n",
        "    - 생성된 창에는 클릭한 위치에 숫자를 그림 (폰트: cv2.FONT_HERSHEY_SIMPLEX, 크기: 2, 두께: 3, 색상: 마젠타)\n",
        "- 키보드 아무 키나 누르면 창이 닫히며 종료"
      ]
    },
    {
      "cell_type": "code",
      "execution_count": null,
      "id": "b8f31ee4",
      "metadata": {
        "id": "b8f31ee4"
      },
      "outputs": [],
      "source": [
        "import cv2\n",
        "import numpy as np\n",
        "\n",
        "# 마우스 콜백 함수 정의\n",
        "def count_clicks(event, x, y, flags, param):\n",
        "    global cnt\n",
        "    if event == cv2.EVENT_LBUTTONDOWN:\n",
        "        cnt += 1\n",
        "        print(f\"{cnt}번째 클릭: 마우스 왼쪽 버튼을 ({x}, {y})좌표에서 클릭함.\" )\n",
        "        cv2.putText(img, str(cnt), (x, y), cv2.FONT_HERSHEY_SIMPLEX, 2, (255, 0, 255), 3)\n",
        "    cv2.imshow('Click Here', img)\n",
        "\n",
        "# 새 창을 띄우고 마우스 핸들러 설정\n",
        "cnt = 0\n",
        "img = np.ones((400, 600, 3), np.uint8) * 255\n",
        "cv2.imshow('Click Here', img)\n",
        "cv2.setMouseCallback('Click Here', count_clicks)\n",
        "cv2.waitKey(0)\n",
        "cv2.destroyAllWindows()"
      ]
    },
    {
      "cell_type": "markdown",
      "id": "1471386c",
      "metadata": {
        "id": "1471386c"
      },
      "source": [
        "## **Ch5. 트랙바 이용하기**\n",
        "---\n",
        "※ 튜토리얼 > Gui Features in OpenCV > [Trackbar as the Color Palette](https://docs.opencv.org/4.x/d9/dc8/tutorial_py_trackbar.html)"
      ]
    },
    {
      "cell_type": "markdown",
      "id": "8953a018-9e7f-4463-81aa-8f1bafe79915",
      "metadata": {
        "id": "8953a018-9e7f-4463-81aa-8f1bafe79915"
      },
      "source": [
        "- **<span style='background-color:#ffcc00'>createTrackbar()</span>** : 지정된 창에 트랙바 생성\n",
        "- **<span style='background-color:#ffcc00'>getTrackbarPos()</span>** : 트랙바 값 가져오기\n",
        "- 참고 : ord() : 문자의 유니코드를 반환하는 함수"
      ]
    },
    {
      "cell_type": "code",
      "execution_count": null,
      "id": "e4218b55-2434-440e-bd4b-b2eb7dde39bd",
      "metadata": {
        "id": "e4218b55-2434-440e-bd4b-b2eb7dde39bd"
      },
      "outputs": [],
      "source": [
        "import cv2\n",
        "import numpy as np\n",
        "\n",
        "# 트랙바 콜백 함수 정의\n",
        "def set_value(pos):\n",
        "    pass\n",
        "\n",
        "# 새 창을 생성하고 트랙바 생성\n",
        "img = np.zeros((512, 512, 3), np.uint8) # ------- 설명 추가\n",
        "cv2.namedWindow('Trackbar Example') # ------- 설명 추가\n",
        "cv2.createTrackbar('Value', 'Trackbar Example', 40, 80, set_value) # ------- 설명 추가\n",
        "\n",
        "while True: # 무한 루프\n",
        "    cv2.imshow('Trackbar Example', img) # ------- 설명 추가\n",
        "    key = cv2.waitKey(20) & 0xFF # ------- 설명 추가\n",
        "    if key == ord('t'): # ------- 설명 추가\n",
        "        val = cv2.getTrackbarPos('Value', 'Trackbar Example') # ------- 설명 추가\n",
        "        print('Current Trackbar Value :', val) # ------- 설명 추가\n",
        "    elif key == ord('q'): # ------- 설명 추가\n",
        "        break # ------- 설명 추가\n",
        "cv2.destroyAllWindows() # 모든 창 닫기"
      ]
    },
    {
      "cell_type": "markdown",
      "id": "8c01fc26-84cc-4f59-9243-a7ad6c57b59f",
      "metadata": {
        "id": "8c01fc26-84cc-4f59-9243-a7ad6c57b59f"
      },
      "source": [
        "**<span style='background-color:#0000ff; color:#ffffff'>▶ 연습해보기 : 트랙바 값을 마우스 이벤트 핸들러에서 사용하기</span>**"
      ]
    },
    {
      "cell_type": "markdown",
      "id": "3be1318c-a0d7-45d6-be1b-0ba302e91caa",
      "metadata": {
        "id": "3be1318c-a0d7-45d6-be1b-0ba302e91caa"
      },
      "source": [
        "위 코드를 참고하여 아래와 같은 코드를 완성해보자.\n",
        "- 트랙바를 이용해 원의 반지름 값을 설정 (초기값=50, 최대값=100)\n",
        "- 마우스 왼쪽 버튼을 더블클릭하면 그 자리를 중점으로 하는 파란색 원 그리기 (원의 반지름은 트랙바로 정한 값)\n",
        "- 키보드 q를 누르면 모든 창 닫고 종료"
      ]
    },
    {
      "cell_type": "code",
      "execution_count": null,
      "id": "0effa075-a2f5-45d5-b813-cc8420ed7dd0",
      "metadata": {
        "id": "0effa075-a2f5-45d5-b813-cc8420ed7dd0"
      },
      "outputs": [],
      "source": [
        "import cv2\n",
        "import numpy as np\n",
        "\n",
        "# (1) 트랙바 콜백 함수 정의\n",
        "def set_radius\n",
        "\n",
        "# (2) 마우스 콜백 함수 정의\n",
        "def draw_circle\n",
        "\n",
        "# 새 창을 생성하고 트랙바와 마우스 핸들러 설정\n",
        "img = # (3) 세로 512, 가로 512 크기의 검정색 배경 이미지 생성\n",
        "# (4) 새 창 Draw Circle 생성\n",
        "# (5) Draw Circle 창에 트랙바 Radius 생성\n",
        "# (6) Draw Circle 창에 마우스 핸들러 바인딩\n",
        "\n",
        "while True: # 무한 루프\n",
        "    cv2.imshow('Draw Circle', img)\n",
        "    # (7) 키 값을 테스트하여 알파벳 q가 입력되면 종료\n",
        "\n",
        "cv2.destroyAllWindows() # 모든 창 닫기"
      ]
    },
    {
      "cell_type": "markdown",
      "id": "18c3dced",
      "metadata": {
        "id": "18c3dced"
      },
      "source": [
        "**<span style='background-color:#ff0000; color:#ffffff'>▶ 도전과제 : 트랙바 이용하기</span>**"
      ]
    },
    {
      "cell_type": "markdown",
      "id": "28817997-0b76-46e7-a811-361c98007347",
      "metadata": {
        "id": "28817997-0b76-46e7-a811-361c98007347"
      },
      "source": [
        "아래와 같은 코드를 작성해보자.\n",
        "- 가로 300 세로 100 흰 바탕의 새 창 Brighten 생성\n",
        "- 생성된 창에 초기값 0, 최대값 255인 트랙바 Gray 생성\n",
        "- 트랙바를 조정하면 콜백 함수(set_brightness)가 호출되며 위치 값에 따라 배경 색의 명도가 변화 (0:검정 --- 255:흰색)\n",
        "- 키보드 아무 키나 누르면 창이 닫히며 종료"
      ]
    },
    {
      "cell_type": "code",
      "execution_count": null,
      "id": "32e99d59",
      "metadata": {
        "id": "32e99d59"
      },
      "outputs": [],
      "source": [
        "import cv2\n",
        "import numpy as np\n",
        "\n",
        "# 트랙바 콜백 함수 정의\n",
        "\n",
        "# 새 창을 생성하고 트랙바와 마우스 핸들러 설정\n",
        "\n",
        "\n",
        "\n",
        "cv2.waitKey(0)\n",
        "cv2.destroyAllWindows()"
      ]
    },
    {
      "cell_type": "markdown",
      "id": "a36a44c0-207d-41b3-a60b-b7128dfdb7ab",
      "metadata": {
        "id": "a36a44c0-207d-41b3-a60b-b7128dfdb7ab"
      },
      "source": [
        "**<span style='background-color:#ffff00; color:#000000'>문제1</span>** 이미지에서 클릭한 4개의 포인트를 리스트에 저장하기"
      ]
    },
    {
      "cell_type": "code",
      "execution_count": null,
      "id": "6118d933-3f51-489d-80b6-7b962c61e5d6",
      "metadata": {
        "id": "6118d933-3f51-489d-80b6-7b962c61e5d6"
      },
      "outputs": [],
      "source": [
        "import numpy as np\n",
        "import cv2 as cv\n",
        "\n",
        "drawing = False                   # 마우스가 클릭되면 True 로 바뀜.\n",
        "mode = True                       # 키보드'm'을 누르면 바뀜. True면 사각형, False면 커브그리기.\n",
        "ix,iy = -1,-1\n",
        "\n",
        "# mouse callback function\n",
        "def draw_circle(event,x,y,flags,param):\n",
        " global ix,iy,drawing,mode\n",
        " if event == cv.EVENT_LBUTTONDOWN:\n",
        "     drawing = True\n",
        "     ix,iy = x,y\n",
        " elif event == cv.EVENT_MOUSEMOVE:\n",
        "     if drawing == True:\n",
        "         if mode == True:\n",
        "             cv.rectangle(img,(ix,iy),(x,y),(0,255,0),-1)\n",
        "         else:\n",
        "             cv.circle(img,(x,y),5,(0,0,255),-1)\n",
        " elif event == cv.EVENT_LBUTTONUP:\n",
        "        drawing = False\n",
        "        if mode == True:\n",
        "                 cv.rectangle(img,(ix,iy),(x,y),(0,255,0),-1)\n",
        "        else:\n",
        "                 cv.circle(img,(x,y),5,(0,0,255),-1)"
      ]
    },
    {
      "cell_type": "code",
      "execution_count": null,
      "id": "24cb642f-0a01-4e99-810b-559017b46e52",
      "metadata": {
        "id": "24cb642f-0a01-4e99-810b-559017b46e52"
      },
      "outputs": [],
      "source": [
        "import numpy as np\n",
        "\n",
        "point_list = []\n",
        "img = cv2.imread('card.png')\n",
        "\n",
        "def get_points(event,x,y,flags,param):\n",
        "    if event == cv2.EVENT_LBUTTONDOWN:\n",
        "        point_list.append([x, y])\n",
        "        cv2.circle(img, (x,y), 13, (0,0,255), cv2.FILLED)\n",
        "    cv2.imshow('img', img)\n",
        "\n",
        "cv.namedWindow('img')\n",
        "cv.imshow('img',img)\n",
        "\n",
        "cv.setMouseCallback('img',get_points)\n",
        "cv.waitKey(0)\n",
        "cv.destroyAllWindows()"
      ]
    }
  ],
  "metadata": {
    "kernelspec": {
      "display_name": "Python 3 (ipykernel)",
      "language": "python",
      "name": "python3"
    },
    "language_info": {
      "codemirror_mode": {
        "name": "ipython",
        "version": 3
      },
      "file_extension": ".py",
      "mimetype": "text/x-python",
      "name": "python",
      "nbconvert_exporter": "python",
      "pygments_lexer": "ipython3",
      "version": "3.11.7"
    },
    "colab": {
      "provenance": [],
      "include_colab_link": true
    }
  },
  "nbformat": 4,
  "nbformat_minor": 5
}