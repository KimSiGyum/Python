{
  "nbformat": 4,
  "nbformat_minor": 0,
  "metadata": {
    "colab": {
      "provenance": [],
      "include_colab_link": true
    },
    "kernelspec": {
      "name": "python3",
      "display_name": "Python 3"
    },
    "language_info": {
      "name": "python"
    }
  },
  "cells": [
    {
      "cell_type": "markdown",
      "metadata": {
        "id": "view-in-github",
        "colab_type": "text"
      },
      "source": [
        "<a href=\"https://colab.research.google.com/github/KimSiGyum/Python/blob/main/3O4O5_%EA%B9%80%EC%8B%9C%EA%B2%B8_%ED%8C%8C%EC%9D%B4%EC%8D%AC_%EB%B3%B5%EC%8A%B5(%ED%95%99%EC%83%9D).ipynb\" target=\"_parent\"><img src=\"https://colab.research.google.com/assets/colab-badge.svg\" alt=\"Open In Colab\"/></a>"
      ]
    },
    {
      "cell_type": "markdown",
      "source": [
        "## **Python 입출력**"
      ],
      "metadata": {
        "id": "efDr700992i1"
      }
    },
    {
      "cell_type": "markdown",
      "source": [
        "📌 input 함수를 이용해 사용자가 입력한 문자열을 변수에 저장한다."
      ],
      "metadata": {
        "id": "NEyH2LCVbVi8"
      }
    },
    {
      "cell_type": "code",
      "execution_count": null,
      "metadata": {
        "id": "qSnkGoZg90Cu",
        "colab": {
          "base_uri": "https://localhost:8080/"
        },
        "outputId": "e53384e9-cadf-4785-a355-b1cdaf4a26bf"
      },
      "outputs": [
        {
          "name": "stdout",
          "output_type": "stream",
          "text": [
            "밑변의 길이를 입력하세요 :7\n",
            "높이의 길이를 입력하세요 :13\n"
          ]
        }
      ],
      "source": [
        "w = int(input(\"밑변의 길이를 입력하세요 :\"))\n",
        "h = int(input(\"높이의 길이를 입력하세요 :\"))"
      ]
    },
    {
      "cell_type": "markdown",
      "source": [
        "📌 print 함수를 이용해 문자열이나 변수를 출력한다."
      ],
      "metadata": {
        "id": "TC1k9L2Gb59k"
      }
    },
    {
      "cell_type": "code",
      "source": [
        "print(\"밑변 :\", w)\n",
        "print(\"높이 :\", h)"
      ],
      "metadata": {
        "id": "zx1p0s6s_mk6",
        "colab": {
          "base_uri": "https://localhost:8080/"
        },
        "outputId": "0ef4bb00-aaa5-40e7-cc84-88c60df8c0ed"
      },
      "execution_count": null,
      "outputs": [
        {
          "output_type": "stream",
          "name": "stdout",
          "text": [
            "밑변 : 7\n",
            "높이 : 13\n"
          ]
        }
      ]
    },
    {
      "cell_type": "code",
      "source": [
        "a = int(w) * int(h) /2\n",
        "print(\"삼각형의 넓이 :\", a)\n"
      ],
      "metadata": {
        "id": "ogGTG2mQ_8pN",
        "colab": {
          "base_uri": "https://localhost:8080/"
        },
        "outputId": "b6796916-96f2-4422-f90a-32085cd8978a"
      },
      "execution_count": null,
      "outputs": [
        {
          "output_type": "stream",
          "name": "stdout",
          "text": [
            "삼각형의 넓이 : 45.5\n"
          ]
        }
      ]
    },
    {
      "cell_type": "markdown",
      "source": [
        "> f스트링을 이용하면 변수를 쉽게 출력할 수 있다."
      ],
      "metadata": {
        "id": "qKpQmaEScdcl"
      }
    },
    {
      "cell_type": "code",
      "source": [
        "print(f\"밑변이 {w}, 높이가 {h}인 삼각형의 넓이는 {a}이다.\")"
      ],
      "metadata": {
        "id": "NJK2-AuBA7vp",
        "colab": {
          "base_uri": "https://localhost:8080/"
        },
        "outputId": "fd515304-950c-42ba-9a20-f8c903150d4e"
      },
      "execution_count": null,
      "outputs": [
        {
          "output_type": "stream",
          "name": "stdout",
          "text": [
            "밑변이 7, 높이가 13인 삼각형의 넓이는 45.5이다.\n"
          ]
        }
      ]
    },
    {
      "cell_type": "markdown",
      "source": [
        "> %서식문자를 이용해 출력 값을 포매팅할 수 있다."
      ],
      "metadata": {
        "id": "xqNjeJVqdAmo"
      }
    },
    {
      "cell_type": "code",
      "source": [
        "print(\"밑변이 %d, 높이가 %d인 삼각형의 넓이는 %.1f이다.\"%(w,h,a))"
      ],
      "metadata": {
        "id": "ItnQo4VIBN2M",
        "colab": {
          "base_uri": "https://localhost:8080/"
        },
        "outputId": "89b00786-a628-459b-ce43-22625b9bdb47"
      },
      "execution_count": null,
      "outputs": [
        {
          "output_type": "stream",
          "name": "stdout",
          "text": [
            "밑변이 7, 높이가 13인 삼각형의 넓이는 45.5이다.\n"
          ]
        }
      ]
    },
    {
      "cell_type": "markdown",
      "source": [
        "## **Python 제어문**"
      ],
      "metadata": {
        "id": "znkZTcvGHtzx"
      }
    },
    {
      "cell_type": "markdown",
      "source": [
        "📌 if 구문으로 \"조건\"에 따라 실행의 흐름이 달라지게 할 수 있다."
      ],
      "metadata": {
        "id": "0QgvOqW9dK5v"
      }
    },
    {
      "cell_type": "code",
      "source": [
        "score = int(input(\"점수 입력 : \"))\n",
        "if score >= 90:\n",
        "    grade = \"A\"\n",
        "elif score >= 80:\n",
        "    grade = \"B\"\n",
        "elif score >= 70:\n",
        "    grade = \"C\"\n",
        "elif score >= 60:\n",
        "    grade= \"D\"\n",
        "else:\n",
        "    grade = \"E\"\n",
        "print(grade)"
      ],
      "metadata": {
        "id": "wN7QMuD_TvDb",
        "colab": {
          "base_uri": "https://localhost:8080/"
        },
        "outputId": "debfb1bc-9143-4bd5-a110-f3b1088fd22f"
      },
      "execution_count": null,
      "outputs": [
        {
          "output_type": "stream",
          "name": "stdout",
          "text": [
            "점수 입력 : 85\n",
            "B\n"
          ]
        }
      ]
    },
    {
      "cell_type": "markdown",
      "source": [
        "📌 for 루프와 range 함수를 이용하면 시작값, 종료값, 증감값을 지정해 범위 내에서 반복할 수 있다."
      ],
      "metadata": {
        "id": "li7EJz97dc96"
      }
    },
    {
      "cell_type": "code",
      "source": [
        "for i in range(1, 10, 2):\n",
        "    print(i)"
      ],
      "metadata": {
        "id": "lL5zVnYdUcHS",
        "colab": {
          "base_uri": "https://localhost:8080/"
        },
        "outputId": "4a5d9e84-342e-4662-bb26-2ac0c069feda"
      },
      "execution_count": null,
      "outputs": [
        {
          "output_type": "stream",
          "name": "stdout",
          "text": [
            "1\n",
            "3\n",
            "5\n",
            "7\n",
            "9\n"
          ]
        }
      ]
    },
    {
      "cell_type": "markdown",
      "source": [
        "📌 for 루프와 range 함수를 이용하면 정해진 횟수만큼 반복할 수 있다."
      ],
      "metadata": {
        "id": "RkeJPRnweLTw"
      }
    },
    {
      "cell_type": "code",
      "source": [
        "for i in range(5):\n",
        "    print(\"hello\")"
      ],
      "metadata": {
        "id": "lRi1sjhqU5Pq",
        "colab": {
          "base_uri": "https://localhost:8080/"
        },
        "outputId": "a260291d-9368-4070-b183-acce17765977"
      },
      "execution_count": null,
      "outputs": [
        {
          "output_type": "stream",
          "name": "stdout",
          "text": [
            "hello\n",
            "hello\n",
            "hello\n",
            "hello\n",
            "hello\n"
          ]
        }
      ]
    },
    {
      "cell_type": "markdown",
      "source": [
        "📌 while 루프를 이용하면 종료조건을 만족할 때까지 반복할 수 있다.\n",
        "> 필요에 따라 무한루프를 활용할 수 있다.<br>\n",
        "무한루프를 활용할 경우 종료를 위해 break를 함께 사용해야 한다."
      ],
      "metadata": {
        "id": "yMJZvtx_ef5S"
      }
    },
    {
      "cell_type": "code",
      "source": [
        "while 1:\n",
        "  pw = input('패스워드 입력 : ')\n",
        "  if pw == 'Pa$$w0rd':\n",
        "    break"
      ],
      "metadata": {
        "id": "P_Xxgu3TU_5O",
        "colab": {
          "base_uri": "https://localhost:8080/"
        },
        "outputId": "04851c96-6889-4664-aba1-bd03f5901b17"
      },
      "execution_count": null,
      "outputs": [
        {
          "name": "stdout",
          "output_type": "stream",
          "text": [
            "패스워드 입력 : a\n",
            "패스워드 입력 : Pa$$wOrd\n",
            "패스워드 입력 : Pa$$w0rd\n"
          ]
        }
      ]
    },
    {
      "cell_type": "markdown",
      "source": [
        "## **Python 함수**"
      ],
      "metadata": {
        "id": "f3qcw2CrHY1_"
      }
    },
    {
      "cell_type": "markdown",
      "source": [
        "📌 def 키워드로 함수를 정의할 수 있다.\n",
        "> 함수는 필요에 따라 입력으로 <u>매개변수(parameter)</u>를 받을 수 있으며 출력으로 결과값을 <u>반환(return)</u>할 수 있다.<br>\n",
        "한 번 정의된 함수는 이후 언제든 호출하여 반복적으로 사용할 수 있다."
      ],
      "metadata": {
        "id": "g2v74oH7fTi0"
      }
    },
    {
      "cell_type": "code",
      "source": [
        "# 함수의 정의\n",
        "def funct(a, b, c):\n",
        "  result = a + b - c\n",
        "  return result"
      ],
      "metadata": {
        "id": "1eVxBYQrVgK7"
      },
      "execution_count": null,
      "outputs": []
    },
    {
      "cell_type": "code",
      "source": [
        "# 함수의 호출\n",
        "val = funct(1, 2, 3)\n",
        "print(val)"
      ],
      "metadata": {
        "id": "7xuxqcy5XCOg",
        "colab": {
          "base_uri": "https://localhost:8080/"
        },
        "outputId": "0b6d13dd-161e-4888-ea5b-af70abdb0548"
      },
      "execution_count": null,
      "outputs": [
        {
          "output_type": "stream",
          "name": "stdout",
          "text": [
            "0\n"
          ]
        }
      ]
    },
    {
      "cell_type": "code",
      "source": [
        "# 함수의 호출 (키워드 매개변수 활용)\n",
        "val = funct(c = 1, b = 2, a = 3)\n",
        "print(val)"
      ],
      "metadata": {
        "id": "f9dprrDFWjnY",
        "colab": {
          "base_uri": "https://localhost:8080/"
        },
        "outputId": "6c5562fd-5fb5-4188-eb82-ef91ef508dda"
      },
      "execution_count": null,
      "outputs": [
        {
          "output_type": "stream",
          "name": "stdout",
          "text": [
            "4\n"
          ]
        }
      ]
    },
    {
      "cell_type": "markdown",
      "source": [
        "📌 함수 사용시 변수의 적용 범위에 주의해야 한다."
      ],
      "metadata": {
        "id": "qUKDq1NVg6Dh"
      }
    },
    {
      "cell_type": "markdown",
      "source": [
        "> 함수 내에 선언된 지역변수(local variable)는 함수 밖에서 사용할 수 없다."
      ],
      "metadata": {
        "id": "SEf-76bEhC2t"
      }
    },
    {
      "cell_type": "code",
      "source": [
        "def funct():\n",
        "  num = input('숫자 입력 : ')\n",
        "\n",
        "funct()\n",
        "print(f'입력한 숫자는 {num}입니다.')"
      ],
      "metadata": {
        "id": "1l7cIVj8XSkE",
        "colab": {
          "base_uri": "https://localhost:8080/",
          "height": 202
        },
        "outputId": "89f963d8-cfa7-4415-95c5-e74e4e634677"
      },
      "execution_count": null,
      "outputs": [
        {
          "name": "stdout",
          "output_type": "stream",
          "text": [
            "숫자 입력 : 83\n"
          ]
        },
        {
          "output_type": "error",
          "ename": "NameError",
          "evalue": "name 'num' is not defined",
          "traceback": [
            "\u001b[0;31m---------------------------------------------------------------------------\u001b[0m",
            "\u001b[0;31mNameError\u001b[0m                                 Traceback (most recent call last)",
            "\u001b[0;32m<ipython-input-11-6659815592b1>\u001b[0m in \u001b[0;36m<cell line: 5>\u001b[0;34m()\u001b[0m\n\u001b[1;32m      3\u001b[0m \u001b[0;34m\u001b[0m\u001b[0m\n\u001b[1;32m      4\u001b[0m \u001b[0mfunct\u001b[0m\u001b[0;34m(\u001b[0m\u001b[0;34m)\u001b[0m\u001b[0;34m\u001b[0m\u001b[0;34m\u001b[0m\u001b[0m\n\u001b[0;32m----> 5\u001b[0;31m \u001b[0mprint\u001b[0m\u001b[0;34m(\u001b[0m\u001b[0;34mf'입력한 숫자는 {num}입니다.'\u001b[0m\u001b[0;34m)\u001b[0m\u001b[0;34m\u001b[0m\u001b[0;34m\u001b[0m\u001b[0m\n\u001b[0m",
            "\u001b[0;31mNameError\u001b[0m: name 'num' is not defined"
          ]
        }
      ]
    },
    {
      "cell_type": "code",
      "source": [
        "def funct():\n",
        "  num = input('숫자 입력 : ')\n",
        "  return num\n",
        "\n",
        "num = funct()\n",
        "print(f'입력한 숫자는 {num}입니다.')"
      ],
      "metadata": {
        "id": "LszONLeEYODJ",
        "colab": {
          "base_uri": "https://localhost:8080/"
        },
        "outputId": "15d138c1-df03-4c8a-df82-efbeefabb3b4"
      },
      "execution_count": null,
      "outputs": [
        {
          "output_type": "stream",
          "name": "stdout",
          "text": [
            "숫자 입력 : 83\n",
            "입력한 숫자는 83입니다.\n"
          ]
        }
      ]
    },
    {
      "cell_type": "markdown",
      "source": [
        "> 전역변수(global variable)는 함수 내에서 사용할 수 있지만, 함수 내에서 전역변수의 값을 수정하려면 반드시 global 키워드를 이용해야 한다."
      ],
      "metadata": {
        "id": "mkojxYBAhLxd"
      }
    },
    {
      "cell_type": "code",
      "source": [
        "def funct():\n",
        "  num += 5\n",
        "  return num\n",
        "\n",
        "num = 100\n",
        "res = funct()\n",
        "print(res)"
      ],
      "metadata": {
        "id": "xQPjZNjgYVsO",
        "colab": {
          "base_uri": "https://localhost:8080/",
          "height": 331
        },
        "outputId": "2103e591-388f-4875-ad51-6c404ee71859"
      },
      "execution_count": null,
      "outputs": [
        {
          "output_type": "error",
          "ename": "UnboundLocalError",
          "evalue": "local variable 'num' referenced before assignment",
          "traceback": [
            "\u001b[0;31m---------------------------------------------------------------------------\u001b[0m",
            "\u001b[0;31mUnboundLocalError\u001b[0m                         Traceback (most recent call last)",
            "\u001b[0;32m<ipython-input-13-a71a78098ca0>\u001b[0m in \u001b[0;36m<cell line: 6>\u001b[0;34m()\u001b[0m\n\u001b[1;32m      4\u001b[0m \u001b[0;34m\u001b[0m\u001b[0m\n\u001b[1;32m      5\u001b[0m \u001b[0mnum\u001b[0m \u001b[0;34m=\u001b[0m \u001b[0;36m100\u001b[0m\u001b[0;34m\u001b[0m\u001b[0;34m\u001b[0m\u001b[0m\n\u001b[0;32m----> 6\u001b[0;31m \u001b[0mres\u001b[0m \u001b[0;34m=\u001b[0m \u001b[0mfunct\u001b[0m\u001b[0;34m(\u001b[0m\u001b[0;34m)\u001b[0m\u001b[0;34m\u001b[0m\u001b[0;34m\u001b[0m\u001b[0m\n\u001b[0m\u001b[1;32m      7\u001b[0m \u001b[0mprint\u001b[0m\u001b[0;34m(\u001b[0m\u001b[0mres\u001b[0m\u001b[0;34m)\u001b[0m\u001b[0;34m\u001b[0m\u001b[0;34m\u001b[0m\u001b[0m\n",
            "\u001b[0;32m<ipython-input-13-a71a78098ca0>\u001b[0m in \u001b[0;36mfunct\u001b[0;34m()\u001b[0m\n\u001b[1;32m      1\u001b[0m \u001b[0;32mdef\u001b[0m \u001b[0mfunct\u001b[0m\u001b[0;34m(\u001b[0m\u001b[0;34m)\u001b[0m\u001b[0;34m:\u001b[0m\u001b[0;34m\u001b[0m\u001b[0;34m\u001b[0m\u001b[0m\n\u001b[0;32m----> 2\u001b[0;31m   \u001b[0mnum\u001b[0m \u001b[0;34m+=\u001b[0m \u001b[0;36m5\u001b[0m\u001b[0;34m\u001b[0m\u001b[0;34m\u001b[0m\u001b[0m\n\u001b[0m\u001b[1;32m      3\u001b[0m   \u001b[0;32mreturn\u001b[0m \u001b[0mnum\u001b[0m\u001b[0;34m\u001b[0m\u001b[0;34m\u001b[0m\u001b[0m\n\u001b[1;32m      4\u001b[0m \u001b[0;34m\u001b[0m\u001b[0m\n\u001b[1;32m      5\u001b[0m \u001b[0mnum\u001b[0m \u001b[0;34m=\u001b[0m \u001b[0;36m100\u001b[0m\u001b[0;34m\u001b[0m\u001b[0;34m\u001b[0m\u001b[0m\n",
            "\u001b[0;31mUnboundLocalError\u001b[0m: local variable 'num' referenced before assignment"
          ]
        }
      ]
    },
    {
      "cell_type": "code",
      "source": [
        "def funct():\n",
        "  global num\n",
        "  num += 5\n",
        "  return num\n",
        "\n",
        "num = 100\n",
        "res = funct()\n",
        "print(res)"
      ],
      "metadata": {
        "id": "FkITKfluYqUH",
        "colab": {
          "base_uri": "https://localhost:8080/"
        },
        "outputId": "dcb98abf-f7f6-46f9-dcfa-c061bc90fd1b"
      },
      "execution_count": null,
      "outputs": [
        {
          "output_type": "stream",
          "name": "stdout",
          "text": [
            "105\n"
          ]
        }
      ]
    },
    {
      "cell_type": "markdown",
      "source": [
        "## **Python 라이브러리 활용**"
      ],
      "metadata": {
        "id": "U7d7KY81Hkr8"
      }
    },
    {
      "cell_type": "markdown",
      "source": [
        "📌 import를 이용해 다양한 외부 모듈을 가져와 사용할 수 있다.\n",
        "> 모듈 안에 있는 무언가(변수, 객체, 함수 등)에 접근하려면 점(.)을 이용한다. <br>모듈(.py) < 패키지 < 라이브러리"
      ],
      "metadata": {
        "id": "X0ryzD1ehxiM"
      }
    },
    {
      "cell_type": "code",
      "source": [
        "import random\n",
        "random.randint(1, 10)"
      ],
      "metadata": {
        "id": "5BA9CIUHZsUW",
        "colab": {
          "base_uri": "https://localhost:8080/"
        },
        "outputId": "45d0f23a-acf0-4ce0-c8c7-0d7eb9522bfe"
      },
      "execution_count": null,
      "outputs": [
        {
          "output_type": "execute_result",
          "data": {
            "text/plain": [
              "9"
            ]
          },
          "metadata": {},
          "execution_count": 15
        }
      ]
    },
    {
      "cell_type": "code",
      "source": [
        "import matplotlib.pyplot as plt\n",
        "plt.plot([1, 2, 3], [2, 4, 6], marker='o', linestyle=':')\n",
        "plt.show()"
      ],
      "metadata": {
        "id": "_3XadIWtaGaE",
        "colab": {
          "base_uri": "https://localhost:8080/",
          "height": 430
        },
        "outputId": "906864d7-83a3-4986-b765-1e3f485d2df8"
      },
      "execution_count": null,
      "outputs": [
        {
          "output_type": "display_data",
          "data": {
            "text/plain": [
              "<Figure size 640x480 with 1 Axes>"
            ],
            "image/png": "[encoded data removed]"
          },
          "metadata": {}
        }
      ]
    },
    {
      "cell_type": "markdown",
      "source": [
        "## **Python 자료구조**"
      ],
      "metadata": {
        "id": "Mok9cUfjB_sD"
      }
    },
    {
      "cell_type": "markdown",
      "source": [
        "#### **▶ 리스트(List)**\n"
      ],
      "metadata": {
        "id": "psAPoLfHF_g6"
      }
    },
    {
      "cell_type": "code",
      "source": [
        "colors = ['빨강', '초록', '파랑']\n",
        "colors"
      ],
      "metadata": {
        "colab": {
          "base_uri": "https://localhost:8080/"
        },
        "id": "NP0LKeTwCLy3",
        "outputId": "4f7bdbdb-4510-4ea3-c1df-55eab3e1a1fc"
      },
      "execution_count": null,
      "outputs": [
        {
          "output_type": "execute_result",
          "data": {
            "text/plain": [
              "['빨강', '초록', '파랑']"
            ]
          },
          "metadata": {},
          "execution_count": 2
        }
      ]
    },
    {
      "cell_type": "markdown",
      "source": [
        "##### **리스트와 인덱스**"
      ],
      "metadata": {
        "id": "f_K3aHohG54b"
      }
    },
    {
      "cell_type": "markdown",
      "source": [
        "📌 인덱스를 이용해 리스트 개별 요소에 접근할 수 있다."
      ],
      "metadata": {
        "id": "z6WUOITcl8cv"
      }
    },
    {
      "cell_type": "code",
      "source": [
        "# 인덱스로 요소 읽어오기\n",
        "colors[0]"
      ],
      "metadata": {
        "colab": {
          "base_uri": "https://localhost:8080/",
          "height": 35
        },
        "id": "CpKaCVXOEysl",
        "outputId": "7ce112d1-bbb7-4565-f1f1-085f7dbeb796"
      },
      "execution_count": null,
      "outputs": [
        {
          "output_type": "execute_result",
          "data": {
            "text/plain": [
              "'빨강'"
            ],
            "application/vnd.google.colaboratory.intrinsic+json": {
              "type": "string"
            }
          },
          "metadata": {},
          "execution_count": 59
        }
      ]
    },
    {
      "cell_type": "code",
      "source": [
        "# 음수 인덱스로 요소 읽어오기\n",
        "colors[-1]"
      ],
      "metadata": {
        "colab": {
          "base_uri": "https://localhost:8080/",
          "height": 35
        },
        "id": "Y8Lv02y0E0vX",
        "outputId": "46b7ebe9-b65a-457b-b293-794b3067d375"
      },
      "execution_count": null,
      "outputs": [
        {
          "output_type": "execute_result",
          "data": {
            "text/plain": [
              "'파랑'"
            ],
            "application/vnd.google.colaboratory.intrinsic+json": {
              "type": "string"
            }
          },
          "metadata": {},
          "execution_count": 61
        }
      ]
    },
    {
      "cell_type": "code",
      "source": [
        "# 인덱스 슬라이싱으로 리스트의 일부 읽어오기\n",
        "colors[0:2]"
      ],
      "metadata": {
        "colab": {
          "base_uri": "https://localhost:8080/"
        },
        "id": "s7Sxo6W-E2yf",
        "outputId": "2b97b288-f257-489b-85f5-137d60624935"
      },
      "execution_count": null,
      "outputs": [
        {
          "output_type": "execute_result",
          "data": {
            "text/plain": [
              "['빨강', '초록']"
            ]
          },
          "metadata": {},
          "execution_count": 63
        }
      ]
    },
    {
      "cell_type": "code",
      "source": [
        "# 인덱스로 요소에 새로운 값 덮어쓰기\n",
        "\n",
        "colors[0] = 'red'\n",
        "colors"
      ],
      "metadata": {
        "colab": {
          "base_uri": "https://localhost:8080/"
        },
        "id": "B4cQud2VKFCq",
        "outputId": "50a659e8-beea-425a-d4b8-3d7325704635"
      },
      "execution_count": null,
      "outputs": [
        {
          "output_type": "execute_result",
          "data": {
            "text/plain": [
              "['red', '초록', '파랑']"
            ]
          },
          "metadata": {},
          "execution_count": 65
        }
      ]
    },
    {
      "cell_type": "markdown",
      "source": [
        "##### **리스트와 반복문**"
      ],
      "metadata": {
        "id": "ypoMb6P6HC1H"
      }
    },
    {
      "cell_type": "markdown",
      "source": [
        "📌 for 루프에서 인덱스를 증가시키며 리스트의 모든 요소에 접근할 수 있다."
      ],
      "metadata": {
        "id": "RQ-RDfJnnHwP"
      }
    },
    {
      "cell_type": "code",
      "source": [
        "# 인덱스 이용\n",
        "for i in range(len(colors)):\n",
        "    print(colors[i])"
      ],
      "metadata": {
        "id": "gdLjgw-mJ1m5",
        "colab": {
          "base_uri": "https://localhost:8080/"
        },
        "outputId": "1615f4e1-bc5c-43e9-deb9-c49853105519"
      },
      "execution_count": null,
      "outputs": [
        {
          "output_type": "stream",
          "name": "stdout",
          "text": [
            "빨강\n",
            "초록\n",
            "파랑\n"
          ]
        }
      ]
    },
    {
      "cell_type": "markdown",
      "source": [
        "📌 for 루프를 이용해 리스트의 모든 요소에 순차적으로 접근할 수 있다."
      ],
      "metadata": {
        "id": "wt3z4U9xmoDv"
      }
    },
    {
      "cell_type": "code",
      "source": [
        "# 더 편리한 방법\n",
        "for i in colors:\n",
        "    print(i)"
      ],
      "metadata": {
        "id": "6HEjMeRIE_Gb",
        "colab": {
          "base_uri": "https://localhost:8080/"
        },
        "outputId": "f01af48b-c553-44bb-b1d6-0c48573ba277"
      },
      "execution_count": null,
      "outputs": [
        {
          "output_type": "stream",
          "name": "stdout",
          "text": [
            "red\n",
            "초록\n",
            "파랑\n"
          ]
        }
      ]
    },
    {
      "cell_type": "markdown",
      "source": [
        "##### **리스트 메서드 append()**\n",
        "\n"
      ],
      "metadata": {
        "id": "mZyskze3HMSe"
      }
    },
    {
      "cell_type": "code",
      "source": [
        "colors.append(\"노랑\")\n",
        "colors"
      ],
      "metadata": {
        "id": "VLxMSKjCHLgl",
        "colab": {
          "base_uri": "https://localhost:8080/"
        },
        "outputId": "8d7f9e20-adbe-4898-a39a-bf201eec84d9"
      },
      "execution_count": null,
      "outputs": [
        {
          "output_type": "execute_result",
          "data": {
            "text/plain": [
              "['빨강', '초록', '파랑', '노랑']"
            ]
          },
          "metadata": {},
          "execution_count": 4
        }
      ]
    },
    {
      "cell_type": "markdown",
      "source": [
        "##### **리스트 메서드 pop()**\n",
        "\n"
      ],
      "metadata": {
        "id": "mHfpliUxJCOr"
      }
    },
    {
      "cell_type": "code",
      "source": [
        "color = colors.pop()"
      ],
      "metadata": {
        "id": "r10q7Y0zIWL_"
      },
      "execution_count": null,
      "outputs": []
    },
    {
      "cell_type": "code",
      "source": [
        "colors"
      ],
      "metadata": {
        "id": "PMSBF71qIfu0",
        "colab": {
          "base_uri": "https://localhost:8080/"
        },
        "outputId": "e60f8027-bba5-4cb6-b903-2acdef0e5894"
      },
      "execution_count": null,
      "outputs": [
        {
          "output_type": "execute_result",
          "data": {
            "text/plain": [
              "['빨강', '초록', '파랑']"
            ]
          },
          "metadata": {},
          "execution_count": 6
        }
      ]
    },
    {
      "cell_type": "code",
      "source": [
        "color"
      ],
      "metadata": {
        "id": "n2o8qhVxIc8P",
        "colab": {
          "base_uri": "https://localhost:8080/",
          "height": 35
        },
        "outputId": "957578ba-ba5f-4299-fc2f-cd3185574163"
      },
      "execution_count": null,
      "outputs": [
        {
          "output_type": "execute_result",
          "data": {
            "text/plain": [
              "'노랑'"
            ],
            "application/vnd.google.colaboratory.intrinsic+json": {
              "type": "string"
            }
          },
          "metadata": {},
          "execution_count": 7
        }
      ]
    },
    {
      "cell_type": "markdown",
      "source": [
        "#### **▶ 튜플(Tuple)**\n"
      ],
      "metadata": {
        "id": "4xci98-6GgLB"
      }
    },
    {
      "cell_type": "code",
      "source": [
        "colors = ('빨강', '초록', '파랑') # 괄호 생략 가능\n",
        "colors"
      ],
      "metadata": {
        "id": "kyI62cSSEONU",
        "colab": {
          "base_uri": "https://localhost:8080/"
        },
        "outputId": "04aedfe2-dba1-4894-96a7-025dc056784e"
      },
      "execution_count": null,
      "outputs": [
        {
          "output_type": "execute_result",
          "data": {
            "text/plain": [
              "('빨강', '초록', '파랑')"
            ]
          },
          "metadata": {},
          "execution_count": 1
        }
      ]
    },
    {
      "cell_type": "markdown",
      "source": [
        "##### **튜플과 리스트**"
      ],
      "metadata": {
        "id": "KmjJSi-fKuOx"
      }
    },
    {
      "cell_type": "markdown",
      "source": [
        "📌 튜플은 값을 변경할 수 없는 리스트이다."
      ],
      "metadata": {
        "id": "K_Dkd1FtAr0K"
      }
    },
    {
      "cell_type": "code",
      "source": [
        "colors[0]"
      ],
      "metadata": {
        "id": "b5bgj4E7K5PT",
        "colab": {
          "base_uri": "https://localhost:8080/",
          "height": 35
        },
        "outputId": "f1181879-c9f9-4959-8f79-c0d33c81e63b"
      },
      "execution_count": null,
      "outputs": [
        {
          "output_type": "execute_result",
          "data": {
            "text/plain": [
              "'빨강'"
            ],
            "application/vnd.google.colaboratory.intrinsic+json": {
              "type": "string"
            }
          },
          "metadata": {},
          "execution_count": 80
        }
      ]
    },
    {
      "cell_type": "code",
      "source": [
        "colors[-1]"
      ],
      "metadata": {
        "id": "onOrWkb9K9vm",
        "colab": {
          "base_uri": "https://localhost:8080/",
          "height": 35
        },
        "outputId": "b70f297b-046c-4483-c4ec-0f88c3ec9fc3"
      },
      "execution_count": null,
      "outputs": [
        {
          "output_type": "execute_result",
          "data": {
            "text/plain": [
              "'파랑'"
            ],
            "application/vnd.google.colaboratory.intrinsic+json": {
              "type": "string"
            }
          },
          "metadata": {},
          "execution_count": 81
        }
      ]
    },
    {
      "cell_type": "code",
      "source": [
        "colors[0:2]"
      ],
      "metadata": {
        "id": "TpIbrrT7K621",
        "colab": {
          "base_uri": "https://localhost:8080/"
        },
        "outputId": "f279b4a8-8126-49f8-a359-c10157312ed6"
      },
      "execution_count": null,
      "outputs": [
        {
          "output_type": "execute_result",
          "data": {
            "text/plain": [
              "('빨강', '초록')"
            ]
          },
          "metadata": {},
          "execution_count": 82
        }
      ]
    },
    {
      "cell_type": "code",
      "source": [
        "colors[0] = 'red'"
      ],
      "metadata": {
        "id": "esgqdbbhKyLO",
        "colab": {
          "base_uri": "https://localhost:8080/",
          "height": 147
        },
        "outputId": "ba31728a-54ae-49f3-ff43-245504958a47"
      },
      "execution_count": null,
      "outputs": [
        {
          "output_type": "error",
          "ename": "TypeError",
          "evalue": "'tuple' object does not support item assignment",
          "traceback": [
            "\u001b[0;31m---------------------------------------------------------------------------\u001b[0m",
            "\u001b[0;31mTypeError\u001b[0m                                 Traceback (most recent call last)",
            "\u001b[0;32m<ipython-input-83-7e65cc95def8>\u001b[0m in \u001b[0;36m<cell line: 1>\u001b[0;34m()\u001b[0m\n\u001b[0;32m----> 1\u001b[0;31m \u001b[0mcolors\u001b[0m\u001b[0;34m[\u001b[0m\u001b[0;36m0\u001b[0m\u001b[0;34m]\u001b[0m \u001b[0;34m=\u001b[0m \u001b[0;34m'red'\u001b[0m\u001b[0;34m\u001b[0m\u001b[0;34m\u001b[0m\u001b[0m\n\u001b[0m",
            "\u001b[0;31mTypeError\u001b[0m: 'tuple' object does not support item assignment"
          ]
        }
      ]
    },
    {
      "cell_type": "markdown",
      "source": [
        "📌 list(), tuple() 함수를 이용해 튜플을 리스트로, 리스트를 튜플로 변환할 수 있다."
      ],
      "metadata": {
        "id": "hOBdhmUKA1se"
      }
    },
    {
      "cell_type": "code",
      "source": [
        "li = list(colors)\n",
        "li"
      ],
      "metadata": {
        "id": "k2Dl8Rg4Lj0K",
        "colab": {
          "base_uri": "https://localhost:8080/"
        },
        "outputId": "3f642390-2e15-4d97-a5c3-014ea9c9b70d"
      },
      "execution_count": null,
      "outputs": [
        {
          "output_type": "execute_result",
          "data": {
            "text/plain": [
              "['빨강', '초록', '파랑']"
            ]
          },
          "metadata": {},
          "execution_count": 85
        }
      ]
    },
    {
      "cell_type": "code",
      "source": [
        "tu = tuple(li)\n",
        "tu"
      ],
      "metadata": {
        "id": "BmMSMlEpLprC",
        "colab": {
          "base_uri": "https://localhost:8080/"
        },
        "outputId": "7c6f0738-a07c-4d53-e515-4362e7868b60"
      },
      "execution_count": null,
      "outputs": [
        {
          "output_type": "execute_result",
          "data": {
            "text/plain": [
              "('빨강', '초록', '파랑')"
            ]
          },
          "metadata": {},
          "execution_count": 86
        }
      ]
    },
    {
      "cell_type": "markdown",
      "source": [
        "##### **튜플의 활용**"
      ],
      "metadata": {
        "id": "xbYLAnYxLRhJ"
      }
    },
    {
      "cell_type": "markdown",
      "source": [
        "📌 튜플을 이용해 여러 변수에 한꺼번에 값을 대입할 수 있다."
      ],
      "metadata": {
        "id": "RtZhDLZTBBcJ"
      }
    },
    {
      "cell_type": "code",
      "source": [
        "r, g, b = colors"
      ],
      "metadata": {
        "id": "y1tsqnPTLaOc"
      },
      "execution_count": null,
      "outputs": []
    },
    {
      "cell_type": "code",
      "source": [
        "def arithmetic(a, b):\n",
        "  add = a + b\n",
        "  sub = a - b\n",
        "  mul = a * b\n",
        "  return add, sub, mul\n",
        "\n",
        "a,b,c = arithmetic(5, 7)\n",
        "print(f\"두 수의 합은 {a}, 차는 {b}, 곱은 {c}이다.\")"
      ],
      "metadata": {
        "colab": {
          "base_uri": "https://localhost:8080/"
        },
        "id": "lepdKI9GLF08",
        "outputId": "3c5f2195-d6d8-4224-c254-1c722b509754"
      },
      "execution_count": null,
      "outputs": [
        {
          "output_type": "stream",
          "name": "stdout",
          "text": [
            "두 수의 합은 12, 차는 -2, 곱은 35이다.\n"
          ]
        }
      ]
    },
    {
      "cell_type": "markdown",
      "source": [
        "#### **▶ 딕셔너리(Dictionary)**\n"
      ],
      "metadata": {
        "id": "odH9i_2AGrAt"
      }
    },
    {
      "cell_type": "markdown",
      "source": [
        "📌 딕셔너리는 키(key)와 값(value)의 쌍을 요소로 가진다."
      ],
      "metadata": {
        "id": "5xC4CWgRBvpI"
      }
    },
    {
      "cell_type": "code",
      "source": [
        "colors = {'r':'빨강', 'g':'초록', 'b':'파랑'}\n",
        "colors"
      ],
      "metadata": {
        "id": "XP8Ra0nZEpPY",
        "colab": {
          "base_uri": "https://localhost:8080/"
        },
        "outputId": "cf821ced-635f-4b68-b440-996a911efc0f"
      },
      "execution_count": null,
      "outputs": [
        {
          "output_type": "execute_result",
          "data": {
            "text/plain": [
              "{'r': '빨강', 'g': '초록', 'b': '파랑'}"
            ]
          },
          "metadata": {},
          "execution_count": 1
        }
      ]
    },
    {
      "cell_type": "markdown",
      "source": [
        "📌 값(value)은 중복된 값을 가질 수 있지만, 키(key)는 중복된 값을 가질 수 없다."
      ],
      "metadata": {
        "id": "vWEoh0BGB6et"
      }
    },
    {
      "cell_type": "code",
      "source": [
        "words = {'yummy':'맛있다', 'delicious':'맛있다'}\n",
        "words"
      ],
      "metadata": {
        "id": "5eJdQXt2Qi4U",
        "colab": {
          "base_uri": "https://localhost:8080/"
        },
        "outputId": "c8d010f9-36a7-42b5-d312-3b3d1c8ee194"
      },
      "execution_count": null,
      "outputs": [
        {
          "output_type": "execute_result",
          "data": {
            "text/plain": [
              "{'yummy': '맛있다', 'delicious': '맛있다'}"
            ]
          },
          "metadata": {},
          "execution_count": 99
        }
      ]
    },
    {
      "cell_type": "code",
      "source": [
        "seasons = {'s':'봄', 's':'여름', 'f':'가을', 'w':'겨울'}\n",
        "seasons"
      ],
      "metadata": {
        "id": "G3PiFuU3QOJH",
        "colab": {
          "base_uri": "https://localhost:8080/"
        },
        "outputId": "bcafbc8c-ad49-45f8-c8c6-70d13912c0d8"
      },
      "execution_count": null,
      "outputs": [
        {
          "output_type": "execute_result",
          "data": {
            "text/plain": [
              "{'s': '여름', 'f': '가을', 'w': '겨울'}"
            ]
          },
          "metadata": {},
          "execution_count": 100
        }
      ]
    },
    {
      "cell_type": "markdown",
      "source": [
        "##### **딕셔너리의 키(key)와 값(value)**"
      ],
      "metadata": {
        "id": "vEctL42fRe8f"
      }
    },
    {
      "cell_type": "markdown",
      "source": [
        "📌 키(key)를 이용해 값을 읽어올 수 있다."
      ],
      "metadata": {
        "id": "-FKheWtfCPSS"
      }
    },
    {
      "cell_type": "code",
      "source": [
        "colors['r']"
      ],
      "metadata": {
        "colab": {
          "base_uri": "https://localhost:8080/",
          "height": 35
        },
        "outputId": "00625dd4-ee2c-4679-a27b-45b9746334f2",
        "id": "Jf7jHzNdRe8g"
      },
      "execution_count": null,
      "outputs": [
        {
          "output_type": "execute_result",
          "data": {
            "text/plain": [
              "'빨강'"
            ],
            "application/vnd.google.colaboratory.intrinsic+json": {
              "type": "string"
            }
          },
          "metadata": {},
          "execution_count": 101
        }
      ]
    },
    {
      "cell_type": "code",
      "source": [
        "colors['r'] = 'red'\n",
        "colors"
      ],
      "metadata": {
        "colab": {
          "base_uri": "https://localhost:8080/"
        },
        "outputId": "9f81e7ae-2cb3-407e-ae31-18353b0aa13c",
        "id": "aOJk473MRe8h"
      },
      "execution_count": null,
      "outputs": [
        {
          "output_type": "execute_result",
          "data": {
            "text/plain": [
              "{'r': 'red', 'g': '초록', 'b': '파랑'}"
            ]
          },
          "metadata": {},
          "execution_count": 102
        }
      ]
    },
    {
      "cell_type": "code",
      "source": [
        "# 딕셔너리 항목 추가\n",
        "colors['y'] = '노랑'\n",
        "colors"
      ],
      "metadata": {
        "colab": {
          "base_uri": "https://localhost:8080/"
        },
        "outputId": "bb3ac68c-11c8-4363-d32c-e8c00eb2848a",
        "id": "6XSfv7wrRe8h"
      },
      "execution_count": null,
      "outputs": [
        {
          "output_type": "execute_result",
          "data": {
            "text/plain": [
              "{'r': 'red', 'g': '초록', 'b': '파랑', 'y': '노랑'}"
            ]
          },
          "metadata": {},
          "execution_count": 103
        }
      ]
    },
    {
      "cell_type": "code",
      "source": [
        "# 딕셔너리 항목 삭제\n",
        "del(colors['y'])\n",
        "colors"
      ],
      "metadata": {
        "colab": {
          "base_uri": "https://localhost:8080/"
        },
        "outputId": "921c1037-5842-4882-a819-63578b261920",
        "id": "0ef6I0BRRe8i"
      },
      "execution_count": null,
      "outputs": [
        {
          "output_type": "execute_result",
          "data": {
            "text/plain": [
              "{'r': 'red', 'g': '초록', 'b': '파랑'}"
            ]
          },
          "metadata": {},
          "execution_count": 104
        }
      ]
    },
    {
      "cell_type": "markdown",
      "source": [
        "##### **딕셔너리와 반복문**"
      ],
      "metadata": {
        "id": "QpcCjmx3CjLH"
      }
    },
    {
      "cell_type": "code",
      "source": [
        "for c in colors:\n",
        "  print(c)"
      ],
      "metadata": {
        "id": "l8euGOJWEtJT",
        "colab": {
          "base_uri": "https://localhost:8080/"
        },
        "outputId": "0266beb5-23f7-4a0c-809a-93d909fcb589"
      },
      "execution_count": null,
      "outputs": [
        {
          "output_type": "stream",
          "name": "stdout",
          "text": [
            "r\n",
            "g\n",
            "b\n"
          ]
        }
      ]
    },
    {
      "cell_type": "code",
      "source": [
        "for item in colors.items():\n",
        "  print(item)"
      ],
      "metadata": {
        "colab": {
          "base_uri": "https://localhost:8080/"
        },
        "id": "9WJKsq9jShmr",
        "outputId": "53f0e040-7e16-491a-9177-9e45d58d7abc"
      },
      "execution_count": null,
      "outputs": [
        {
          "output_type": "stream",
          "name": "stdout",
          "text": [
            "('r', '빨강')\n",
            "('g', '초록')\n",
            "('b', '파랑')\n"
          ]
        }
      ]
    },
    {
      "cell_type": "code",
      "source": [
        "for key in colors.keys():\n",
        "  print(key)"
      ],
      "metadata": {
        "colab": {
          "base_uri": "https://localhost:8080/"
        },
        "id": "Kfa47oqMSuWH",
        "outputId": "18e5d0fa-9c7b-4317-98af-db12916b2eb4"
      },
      "execution_count": null,
      "outputs": [
        {
          "output_type": "stream",
          "name": "stdout",
          "text": [
            "r\n",
            "g\n",
            "b\n"
          ]
        }
      ]
    },
    {
      "cell_type": "code",
      "source": [
        "for value in colors.values():\n",
        "  print(value)"
      ],
      "metadata": {
        "colab": {
          "base_uri": "https://localhost:8080/"
        },
        "id": "K3O46Ta3TVp7",
        "outputId": "ecd12489-cb68-431b-c786-39456254e93e"
      },
      "execution_count": null,
      "outputs": [
        {
          "output_type": "stream",
          "name": "stdout",
          "text": [
            "빨강\n",
            "초록\n",
            "파랑\n"
          ]
        }
      ]
    }
  ]
}