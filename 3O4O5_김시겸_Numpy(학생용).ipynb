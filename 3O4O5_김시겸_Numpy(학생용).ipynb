{
  "nbformat": 4,
  "nbformat_minor": 0,
  "metadata": {
    "colab": {
      "provenance": [],
      "include_colab_link": true
    },
    "kernelspec": {
      "name": "python3",
      "display_name": "Python 3"
    }
  },
  "cells": [
    {
      "cell_type": "markdown",
      "metadata": {
        "id": "view-in-github",
        "colab_type": "text"
      },
      "source": [
        "<a href=\"https://colab.research.google.com/github/KimSiGyum/Python/blob/main/3O4O5_%EA%B9%80%EC%8B%9C%EA%B2%B8_Numpy(%ED%95%99%EC%83%9D%EC%9A%A9).ipynb\" target=\"_parent\"><img src=\"https://colab.research.google.com/assets/colab-badge.svg\" alt=\"Open In Colab\"/></a>"
      ]
    },
    {
      "cell_type": "markdown",
      "source": [
        "#**🌈 Numpy(넘파이)**\n",
        "- 공식사이트 : https://numpy.org/\n",
        "- 참고문서 : https://numpy.org/doc/\n",
        "---"
      ],
      "metadata": {
        "id": "uvxNvf29zoov"
      }
    },
    {
      "cell_type": "markdown",
      "source": [
        "\n",
        "###**▶ Numpy란?**\n"
      ],
      "metadata": {
        "id": "keSnXQiExbzZ"
      }
    },
    {
      "cell_type": "markdown",
      "source": [
        "- Numerical Python의 줄임말\n",
        "- 수치 해석과 계산 과학을 위한 파이썬 패키지\n",
        "- 강력한 다차원 배열 자료구조인 넘파이 배열과 다양한 수치 계산 도구를 지원함\n",
        "\n",
        "> <img src='https://drive.google.com/uc?id=1rBeII8xjrrl7e4cRbnIpO728UokopexW'>\n"
      ],
      "metadata": {
        "id": "5xSxKN5kCB_a"
      }
    },
    {
      "cell_type": "markdown",
      "source": [
        "###**▶ 넘파이 배열 (ndarray)**"
      ],
      "metadata": {
        "id": "TaGL7Gq3wWoj"
      }
    },
    {
      "cell_type": "markdown",
      "source": [
        "- 다차원 배열을 구현한 자료구조 클래스\n",
        "- C언어 배열로 구현되어 연산 속도가 빠르고 메모리 효율적임\n",
        "- ndarray 객체는 같은 자료형의 원소만 저장할 수 있음(homogeneous array)\n",
        "- ndarray 객체는 원소의 개수를 바꿀 수 없음(fixed-size items)\n",
        "> <img src='https://drive.google.com/uc?id=1L1-8hdN3Reo7AVoVANgCLPkd1Gn1Sc3H' height=280>"
      ],
      "metadata": {
        "id": "PSSHc7HMCH22"
      }
    },
    {
      "cell_type": "markdown",
      "source": [
        "#### **리스트의 불편한 점**"
      ],
      "metadata": {
        "id": "x98LyE604AUG"
      }
    },
    {
      "cell_type": "markdown",
      "source": [
        "▷ 리스트 생성하기\n",
        ">mid, fin은 각각 중간고사와 기말고사의 국영수 성적을 저장한 리스트이다."
      ],
      "metadata": {
        "id": "VhO0Ll_I35YL"
      }
    },
    {
      "cell_type": "code",
      "source": [
        "mid = [70, 80, 90]  # 중간고사 국,영,수 성적\n",
        "fin = [80, 90, 100] # 기말고사 국,영,수 성적\n",
        "mid_arr = np.array(mid)"
      ],
      "metadata": {
        "id": "U4ZeGUdq34Jj"
      },
      "execution_count": null,
      "outputs": []
    },
    {
      "cell_type": "markdown",
      "source": [
        "▷ 리스트의 모든 값 수정하기\n",
        ">중간고사의 국영수 성적을 5점씩 증가시켜보자."
      ],
      "metadata": {
        "id": "pYbFipVw4PC1"
      }
    },
    {
      "cell_type": "code",
      "source": [
        "for i in range(len(mid)):\n",
        "    mid[i] += 5\n",
        "print(mid)"
      ],
      "metadata": {
        "id": "A8kgLCyN4OKB",
        "colab": {
          "base_uri": "https://localhost:8080/"
        },
        "outputId": "617629c4-49bf-4422-c58e-3e6982823fbf"
      },
      "execution_count": null,
      "outputs": [
        {
          "output_type": "stream",
          "name": "stdout",
          "text": [
            "[75, 85, 95]\n"
          ]
        }
      ]
    },
    {
      "cell_type": "markdown",
      "source": [
        ">아래와 같은 방법으로 국영수 성적을 모두 5씩 증가시킬 수 있을까?"
      ],
      "metadata": {
        "id": "2_ELByHB4kTL"
      }
    },
    {
      "cell_type": "code",
      "source": [
        "mid + 5\n",
        "print(mid)"
      ],
      "metadata": {
        "id": "KKnUqa_24cW4",
        "colab": {
          "base_uri": "https://localhost:8080/",
          "height": 165
        },
        "outputId": "af1dd632-3730-4e25-9119-a8df066c6969"
      },
      "execution_count": null,
      "outputs": [
        {
          "output_type": "error",
          "ename": "TypeError",
          "evalue": "can only concatenate list (not \"int\") to list",
          "traceback": [
            "\u001b[0;31m---------------------------------------------------------------------------\u001b[0m",
            "\u001b[0;31mTypeError\u001b[0m                                 Traceback (most recent call last)",
            "\u001b[0;32m<ipython-input-2-af1f04a7de13>\u001b[0m in \u001b[0;36m<cell line: 1>\u001b[0;34m()\u001b[0m\n\u001b[0;32m----> 1\u001b[0;31m \u001b[0mmid\u001b[0m \u001b[0;34m+\u001b[0m \u001b[0;36m5\u001b[0m\u001b[0;34m\u001b[0m\u001b[0;34m\u001b[0m\u001b[0m\n\u001b[0m\u001b[1;32m      2\u001b[0m \u001b[0mprint\u001b[0m\u001b[0;34m(\u001b[0m\u001b[0mmid\u001b[0m\u001b[0;34m)\u001b[0m\u001b[0;34m\u001b[0m\u001b[0;34m\u001b[0m\u001b[0m\n",
            "\u001b[0;31mTypeError\u001b[0m: can only concatenate list (not \"int\") to list"
          ]
        }
      ]
    },
    {
      "cell_type": "markdown",
      "source": [
        "▷ 리스트끼리 더하기\n",
        ">과목별 중간고사와 기말고사 점수를 합산해 새로운 리스트 tot에 저장해보자."
      ],
      "metadata": {
        "id": "DUq9-_dr4w4g"
      }
    },
    {
      "cell_type": "code",
      "source": [
        "tot = []\n",
        "for i in range(3):\n",
        "    tot.append(mid[i] + fin[i])\n",
        "print(tot)"
      ],
      "metadata": {
        "id": "3QTq2M5c40Rw",
        "colab": {
          "base_uri": "https://localhost:8080/"
        },
        "outputId": "c96382cb-5c37-4450-a65b-bea23ba5ef89"
      },
      "execution_count": null,
      "outputs": [
        {
          "output_type": "stream",
          "name": "stdout",
          "text": [
            "[150, 170, 190]\n"
          ]
        }
      ]
    },
    {
      "cell_type": "markdown",
      "source": [
        ">아래와 같은 방법으로 국영수 성적을 모두 5씩 증가시킬 수 있을까?"
      ],
      "metadata": {
        "id": "SzLmfGPL5BN-"
      }
    },
    {
      "cell_type": "code",
      "source": [
        "tot = mid + fin\n",
        "tot"
      ],
      "metadata": {
        "id": "wl4smjUG5B3b",
        "colab": {
          "base_uri": "https://localhost:8080/"
        },
        "outputId": "09c86cd3-a8a6-407a-d207-994014470be3"
      },
      "execution_count": null,
      "outputs": [
        {
          "output_type": "execute_result",
          "data": {
            "text/plain": [
              "[70, 80, 90, 80, 90, 100]"
            ]
          },
          "metadata": {},
          "execution_count": 4
        }
      ]
    },
    {
      "cell_type": "markdown",
      "source": [
        "#### **넘파이 배열의 편리한 점**"
      ],
      "metadata": {
        "id": "X7dUrspA5R6j"
      }
    },
    {
      "cell_type": "markdown",
      "source": [
        "▷ 넘파이 배열 만들기"
      ],
      "metadata": {
        "id": "do0t6Cq-8WnX"
      }
    },
    {
      "cell_type": "code",
      "source": [
        "# 넘파이 패키지 임포트하기\n",
        "import numpy as np"
      ],
      "metadata": {
        "id": "S0WtKIfb6O1h"
      },
      "execution_count": null,
      "outputs": []
    },
    {
      "cell_type": "code",
      "source": [
        "# 리스트를 넘파이 배열로 변환하기\n",
        "mid_arr = np.array(mid)\n",
        "fin_arr = np.array(fin)"
      ],
      "metadata": {
        "id": "Sr2T6J6d6sJP"
      },
      "execution_count": null,
      "outputs": []
    },
    {
      "cell_type": "code",
      "source": [
        "# 생성한 넘파이 배열 mid_arr 확인하기\n",
        "mid_arr"
      ],
      "metadata": {
        "id": "piQR7dvH62ZY",
        "colab": {
          "base_uri": "https://localhost:8080/"
        },
        "outputId": "66f45885-ddd3-4b4e-cdc0-6b5f85d7094c"
      },
      "execution_count": null,
      "outputs": [
        {
          "output_type": "execute_result",
          "data": {
            "text/plain": [
              "array([70, 80, 90])"
            ]
          },
          "metadata": {},
          "execution_count": 7
        }
      ]
    },
    {
      "cell_type": "markdown",
      "source": [
        "▷ 넘파이 배열의 모든 값 수정하기\n",
        ">❗넘파이 배열과 스칼라(값)를 연산하면 반복문 없이도 모든 원소에 연산이 적용된다. (브로드캐스트)"
      ],
      "metadata": {
        "id": "8mvyezvU8sQX"
      }
    },
    {
      "cell_type": "code",
      "source": [
        "# 넘파이 배열 mid_arr의 모든 원소 5씩 증가시키기\n",
        "mid_arr = mid_arr + 5\n",
        "mid_arr"
      ],
      "metadata": {
        "id": "Dcy-2YgU7Eox",
        "colab": {
          "base_uri": "https://localhost:8080/"
        },
        "outputId": "aa85edf3-84cc-4d35-c812-ad7880140833"
      },
      "execution_count": null,
      "outputs": [
        {
          "output_type": "execute_result",
          "data": {
            "text/plain": [
              "array([75, 85, 95])"
            ]
          },
          "metadata": {},
          "execution_count": 8
        }
      ]
    },
    {
      "cell_type": "markdown",
      "source": [
        "▷ 넘파이 배열끼리 더하기\n",
        ">❗반복문 없이 넘파이 배열 간 같은 인덱스의 원소끼리 연산을 수행할 수 있다. (벡터화 연산)"
      ],
      "metadata": {
        "id": "o32B3Hdo8m5i"
      }
    },
    {
      "cell_type": "code",
      "source": [
        "# 두 넘파이 배열 mid_arr와 fin_arr의 합을 tot_arr에 저장하기\n",
        "tot_arr = mid_arr + fin_arr\n",
        "tot_arr"
      ],
      "metadata": {
        "id": "GmfE1BNj7Ixa",
        "colab": {
          "base_uri": "https://localhost:8080/"
        },
        "outputId": "0d0ab2d9-19a0-4de5-c2ac-8c0dde6b8fa0"
      },
      "execution_count": null,
      "outputs": [
        {
          "output_type": "execute_result",
          "data": {
            "text/plain": [
              "array([155, 175, 195])"
            ]
          },
          "metadata": {},
          "execution_count": 9
        }
      ]
    },
    {
      "cell_type": "markdown",
      "source": [
        "#### **넘파이 배열 생성하기**"
      ],
      "metadata": {
        "id": "6q6aGY0s-B3a"
      }
    },
    {
      "cell_type": "code",
      "source": [
        "import numpy as np"
      ],
      "metadata": {
        "id": "_7H6cwnDGpt-"
      },
      "execution_count": null,
      "outputs": []
    },
    {
      "cell_type": "markdown",
      "source": [
        "▷ array() : 리스트로 배열 만들기"
      ],
      "metadata": {
        "id": "fGRsnWbevW8t"
      }
    },
    {
      "cell_type": "code",
      "source": [
        "vector = np.array([1,2,3])\n",
        "vector"
      ],
      "metadata": {
        "id": "V--h17ybKzvY",
        "colab": {
          "base_uri": "https://localhost:8080/"
        },
        "outputId": "3c1ab0af-c515-496f-c39d-b1d218170301"
      },
      "execution_count": null,
      "outputs": [
        {
          "output_type": "execute_result",
          "data": {
            "text/plain": [
              "array([1, 2, 3])"
            ]
          },
          "metadata": {},
          "execution_count": 3
        }
      ]
    },
    {
      "cell_type": "code",
      "source": [
        "matrix = np.array([[1,2,3], [4,5,6]])\n",
        "matrix"
      ],
      "metadata": {
        "id": "NPBia4kMRkxK",
        "colab": {
          "base_uri": "https://localhost:8080/"
        },
        "outputId": "02dd0293-a9b1-47d0-af73-95edb7336365"
      },
      "execution_count": null,
      "outputs": [
        {
          "output_type": "execute_result",
          "data": {
            "text/plain": [
              "array([[1, 2, 3],\n",
              "       [4, 5, 6]])"
            ]
          },
          "metadata": {},
          "execution_count": 18
        }
      ]
    },
    {
      "cell_type": "code",
      "source": [
        "tensor = np.array([[[1,2,3], [4,5,6]], [[11,12,13], [14,15,16]]])\n",
        "tensor"
      ],
      "metadata": {
        "id": "IqXoVGCcRu72",
        "colab": {
          "base_uri": "https://localhost:8080/"
        },
        "outputId": "d13efc0b-dcf3-40df-a4c5-ed78d2c9313d"
      },
      "execution_count": null,
      "outputs": [
        {
          "output_type": "execute_result",
          "data": {
            "text/plain": [
              "array([[[ 1,  2,  3],\n",
              "        [ 4,  5,  6]],\n",
              "\n",
              "       [[11, 12, 13],\n",
              "        [14, 15, 16]]])"
            ]
          },
          "metadata": {},
          "execution_count": 5
        }
      ]
    },
    {
      "cell_type": "markdown",
      "source": [
        "▷ arange() 함수 : 등차수열로 배열 만들기"
      ],
      "metadata": {
        "id": "eev53nCGvha7"
      }
    },
    {
      "cell_type": "code",
      "source": [
        "arr1 = np.arange(0, 15, 2)\n",
        "arr1"
      ],
      "metadata": {
        "id": "Z_g_8-dHSUwK",
        "colab": {
          "base_uri": "https://localhost:8080/"
        },
        "outputId": "b34285a6-17fb-4eaf-bd07-454e00d572fb"
      },
      "execution_count": null,
      "outputs": [
        {
          "output_type": "execute_result",
          "data": {
            "text/plain": [
              "array([ 0,  2,  4,  6,  8, 10, 12, 14])"
            ]
          },
          "metadata": {},
          "execution_count": 6
        }
      ]
    },
    {
      "cell_type": "markdown",
      "source": [
        "▷ reshape() 함수 : 배열 형태 바꾸기"
      ],
      "metadata": {
        "id": "ovy0zwKpzbr9"
      }
    },
    {
      "cell_type": "code",
      "source": [
        "arr2 = np.reshape(arr1, (2,4))# arr1을 2행 4열의 2차원 배열로 변환(함수이용)\n",
        "arr2"
      ],
      "metadata": {
        "id": "YIC8Mb97qWjA",
        "colab": {
          "base_uri": "https://localhost:8080/"
        },
        "outputId": "48fa8b4c-b91b-4fc2-ab59-0582287100ea"
      },
      "execution_count": null,
      "outputs": [
        {
          "output_type": "execute_result",
          "data": {
            "text/plain": [
              "array([[ 0,  2,  4,  6],\n",
              "       [ 8, 10, 12, 14]])"
            ]
          },
          "metadata": {},
          "execution_count": 7
        }
      ]
    },
    {
      "cell_type": "code",
      "source": [
        "arr2m = arr1.reshape((2,4))# arr1을 2행 4열의 2차원 배열로 변환(메서드이용)\n",
        "arr2m"
      ],
      "metadata": {
        "id": "26iIZltsTKTy",
        "colab": {
          "base_uri": "https://localhost:8080/"
        },
        "outputId": "bacfd8b1-5dba-42b7-e8c2-bc2928f904ed"
      },
      "execution_count": null,
      "outputs": [
        {
          "output_type": "execute_result",
          "data": {
            "text/plain": [
              "array([[ 0,  2,  4,  6],\n",
              "       [ 8, 10, 12, 14]])"
            ]
          },
          "metadata": {},
          "execution_count": 8
        }
      ]
    },
    {
      "cell_type": "markdown",
      "source": [
        "▷ zeros(), ones() 함수 : 0 또는 1로 채워진 배열 만들기"
      ],
      "metadata": {
        "id": "5XH08az8zwJD"
      }
    },
    {
      "cell_type": "code",
      "source": [
        "arr3 = np.zeros((3, 3), int)   #np.zeros((3, 3))\n",
        "arr3"
      ],
      "metadata": {
        "colab": {
          "base_uri": "https://localhost:8080/"
        },
        "id": "ROq--BuPTXnC",
        "outputId": "28e7cd56-1d72-4295-bdf2-3c92a175445b"
      },
      "execution_count": null,
      "outputs": [
        {
          "output_type": "execute_result",
          "data": {
            "text/plain": [
              "array([[0, 0, 0],\n",
              "       [0, 0, 0],\n",
              "       [0, 0, 0]])"
            ]
          },
          "metadata": {},
          "execution_count": 9
        }
      ]
    },
    {
      "cell_type": "code",
      "source": [
        "arr4 = np.ones((3,5))\n",
        "arr4"
      ],
      "metadata": {
        "colab": {
          "base_uri": "https://localhost:8080/"
        },
        "id": "amIFCUuiTf0t",
        "outputId": "0fd87279-6a8e-4134-b551-5882d21fdabe"
      },
      "execution_count": null,
      "outputs": [
        {
          "output_type": "execute_result",
          "data": {
            "text/plain": [
              "array([[1., 1., 1., 1., 1.],\n",
              "       [1., 1., 1., 1., 1.],\n",
              "       [1., 1., 1., 1., 1.]])"
            ]
          },
          "metadata": {},
          "execution_count": 10
        }
      ]
    },
    {
      "cell_type": "markdown",
      "source": [
        "#### **넘파이 배열 속성**\n"
      ],
      "metadata": {
        "id": "1i_oHDRYUCil"
      }
    },
    {
      "cell_type": "markdown",
      "source": [
        ">아래 코드를 실행해보고 넘파이 배열 속성 shape, ndim, size, dtype이 어떤 값인지 알아보자."
      ],
      "metadata": {
        "id": "lrImo6nk0Ln0"
      }
    },
    {
      "cell_type": "code",
      "source": [
        "print(vector.shape)\n",
        "print(matrix.shape)\n",
        "print(tensor.shape)"
      ],
      "metadata": {
        "id": "gZABREgIUDNQ",
        "colab": {
          "base_uri": "https://localhost:8080/"
        },
        "outputId": "350721b6-f2d4-4cb3-9662-ed0e17a92c46"
      },
      "execution_count": null,
      "outputs": [
        {
          "output_type": "stream",
          "name": "stdout",
          "text": [
            "(3,)\n",
            "(2, 3)\n",
            "(2, 2, 3)\n"
          ]
        }
      ]
    },
    {
      "cell_type": "code",
      "source": [
        "print(vector.ndim)\n",
        "print(matrix.ndim)\n",
        "print(tensor.ndim)"
      ],
      "metadata": {
        "id": "oFEhZ4Xl_L-s",
        "colab": {
          "base_uri": "https://localhost:8080/"
        },
        "outputId": "9bce2ed8-77a4-4eee-aea0-d447dbc046ac"
      },
      "execution_count": null,
      "outputs": [
        {
          "output_type": "stream",
          "name": "stdout",
          "text": [
            "1\n",
            "2\n",
            "3\n"
          ]
        }
      ]
    },
    {
      "cell_type": "code",
      "source": [
        "print(vector.size)\n",
        "print(matrix.size)\n",
        "print(tensor.size)"
      ],
      "metadata": {
        "id": "ge1_Ytta_N9j",
        "colab": {
          "base_uri": "https://localhost:8080/"
        },
        "outputId": "0cd8db49-0f41-4025-ad2b-aa27d8e907b2"
      },
      "execution_count": null,
      "outputs": [
        {
          "output_type": "stream",
          "name": "stdout",
          "text": [
            "3\n",
            "6\n",
            "12\n"
          ]
        }
      ]
    },
    {
      "cell_type": "code",
      "source": [
        "print(vector.dtype)\n",
        "print(matrix.dtype)\n",
        "print(tensor.dtype)"
      ],
      "metadata": {
        "id": "Twcyioq58Jic",
        "colab": {
          "base_uri": "https://localhost:8080/"
        },
        "outputId": "b2b9d3f3-c48f-41b3-e0e1-31dbff53d7a4"
      },
      "execution_count": null,
      "outputs": [
        {
          "output_type": "stream",
          "name": "stdout",
          "text": [
            "int64\n",
            "int64\n",
            "int64\n"
          ]
        }
      ]
    },
    {
      "cell_type": "markdown",
      "source": [
        "#### **넘파이 배열 인덱싱과 슬라이싱**\n"
      ],
      "metadata": {
        "id": "JRA0xaD95V1y"
      }
    },
    {
      "cell_type": "markdown",
      "source": [
        "> <img src='https://drive.google.com/uc?id=1L1-8hdN3Reo7AVoVANgCLPkd1Gn1Sc3H' height=280>"
      ],
      "metadata": {
        "id": "TE_yNgGP5V1y"
      }
    },
    {
      "cell_type": "markdown",
      "source": [
        "▷ 인덱싱(indexing)\n",
        ">위 그림의 넘파이 배열에서 숫자 2의 위치를 인덱싱 해보자."
      ],
      "metadata": {
        "id": "svZ09T4T6tYf"
      }
    },
    {
      "cell_type": "code",
      "source": [
        "# vector에서 2 위치 인덱싱\n",
        "vector[1]"
      ],
      "metadata": {
        "id": "3aNU3Li15V1y",
        "colab": {
          "base_uri": "https://localhost:8080/"
        },
        "outputId": "7bd04e75-3356-49e8-aada-5d1fdc4f4b86"
      },
      "execution_count": null,
      "outputs": [
        {
          "output_type": "execute_result",
          "data": {
            "text/plain": [
              "2"
            ]
          },
          "metadata": {},
          "execution_count": 49
        }
      ]
    },
    {
      "cell_type": "code",
      "source": [
        "# vector에서 2 위치 인덱싱\n",
        "vector[-2]"
      ],
      "metadata": {
        "id": "3WvwZO2o5V1z",
        "colab": {
          "base_uri": "https://localhost:8080/"
        },
        "outputId": "a0d1daca-0e92-498d-b082-ae7e42d7e359"
      },
      "execution_count": null,
      "outputs": [
        {
          "output_type": "execute_result",
          "data": {
            "text/plain": [
              "2"
            ]
          },
          "metadata": {},
          "execution_count": 11
        }
      ]
    },
    {
      "cell_type": "code",
      "source": [
        "# matrix에서 2 위치 인덱싱\n",
        "matrix[0,1] #matrix[0][1] 속도 느림"
      ],
      "metadata": {
        "id": "Y8YcHOjL5V1z",
        "colab": {
          "base_uri": "https://localhost:8080/"
        },
        "outputId": "4e1c9afa-b280-4f30-f1e1-c5e8e7ece228"
      },
      "execution_count": null,
      "outputs": [
        {
          "output_type": "execute_result",
          "data": {
            "text/plain": [
              "2"
            ]
          },
          "metadata": {},
          "execution_count": 56
        }
      ]
    },
    {
      "cell_type": "code",
      "source": [
        "# tensor에서 2 위치 인덱싱\n",
        "tensor[0,0,1]"
      ],
      "metadata": {
        "id": "ilwTNJsc5V1z",
        "colab": {
          "base_uri": "https://localhost:8080/"
        },
        "outputId": "40ed9911-16fb-41d1-bced-db82b5e9d4f5"
      },
      "execution_count": null,
      "outputs": [
        {
          "output_type": "execute_result",
          "data": {
            "text/plain": [
              "2"
            ]
          },
          "metadata": {},
          "execution_count": 57
        }
      ]
    },
    {
      "cell_type": "markdown",
      "source": [
        "▷ 슬라이싱(slicing)\n",
        ">위 그림을 참고하여 다음 문장의 실행 결과를 예측해보자."
      ],
      "metadata": {
        "id": "cIqoY6aE64e0"
      }
    },
    {
      "cell_type": "code",
      "source": [
        "vector[0:2]"
      ],
      "metadata": {
        "id": "VYpbRmcSRK9c",
        "colab": {
          "base_uri": "https://localhost:8080/"
        },
        "outputId": "a47e9d38-c8c6-41cd-f25a-a543fba339d1"
      },
      "execution_count": null,
      "outputs": [
        {
          "output_type": "execute_result",
          "data": {
            "text/plain": [
              "array([1, 2])"
            ]
          },
          "metadata": {},
          "execution_count": 12
        }
      ]
    },
    {
      "cell_type": "code",
      "source": [
        "vector[0:1]"
      ],
      "metadata": {
        "id": "ReQ5rgIWRSP0",
        "colab": {
          "base_uri": "https://localhost:8080/"
        },
        "outputId": "b09ad76c-a767-4744-b41c-a2f3cfd366aa"
      },
      "execution_count": null,
      "outputs": [
        {
          "output_type": "execute_result",
          "data": {
            "text/plain": [
              "array([1])"
            ]
          },
          "metadata": {},
          "execution_count": 13
        }
      ]
    },
    {
      "cell_type": "code",
      "source": [
        "vector[:1]"
      ],
      "metadata": {
        "id": "LCGju22cRXaS",
        "colab": {
          "base_uri": "https://localhost:8080/"
        },
        "outputId": "ee913e62-92ba-4cc4-f031-5c421c8b9e8b"
      },
      "execution_count": null,
      "outputs": [
        {
          "output_type": "execute_result",
          "data": {
            "text/plain": [
              "array([1])"
            ]
          },
          "metadata": {},
          "execution_count": 60
        }
      ]
    },
    {
      "cell_type": "code",
      "source": [
        "vector[0] # 인덱싱과 슬라이싱의 차이점 확인"
      ],
      "metadata": {
        "id": "j6uCCe_kV6gN",
        "colab": {
          "base_uri": "https://localhost:8080/"
        },
        "outputId": "f2247410-15ae-4b38-b9d0-1da29bda108b"
      },
      "execution_count": null,
      "outputs": [
        {
          "output_type": "execute_result",
          "data": {
            "text/plain": [
              "1"
            ]
          },
          "metadata": {},
          "execution_count": 61
        }
      ]
    },
    {
      "cell_type": "code",
      "source": [
        "vector[1:]"
      ],
      "metadata": {
        "id": "A9gw0N1cRZiz",
        "colab": {
          "base_uri": "https://localhost:8080/"
        },
        "outputId": "a0ac975d-ac1d-47a0-bd41-258127e5ca71"
      },
      "execution_count": null,
      "outputs": [
        {
          "output_type": "execute_result",
          "data": {
            "text/plain": [
              "array([2, 3])"
            ]
          },
          "metadata": {},
          "execution_count": 62
        }
      ]
    },
    {
      "cell_type": "code",
      "source": [
        "vector[:]"
      ],
      "metadata": {
        "id": "l587MZy0RcN6",
        "colab": {
          "base_uri": "https://localhost:8080/"
        },
        "outputId": "c7381139-ceb2-4da5-cff9-02b82cac1c5f"
      },
      "execution_count": null,
      "outputs": [
        {
          "output_type": "execute_result",
          "data": {
            "text/plain": [
              "array([1, 2, 3])"
            ]
          },
          "metadata": {},
          "execution_count": 63
        }
      ]
    },
    {
      "cell_type": "code",
      "source": [
        "matrix[:1, :1]"
      ],
      "metadata": {
        "id": "xnc3MFJkRfGi",
        "colab": {
          "base_uri": "https://localhost:8080/"
        },
        "outputId": "e6db5cfa-ab1d-4012-8483-5d153457172b"
      },
      "execution_count": null,
      "outputs": [
        {
          "output_type": "execute_result",
          "data": {
            "text/plain": [
              "array([[1]])"
            ]
          },
          "metadata": {},
          "execution_count": 15
        }
      ]
    },
    {
      "cell_type": "code",
      "source": [
        "matrix[:, :1]"
      ],
      "metadata": {
        "id": "Rt57hUotRlgc",
        "colab": {
          "base_uri": "https://localhost:8080/"
        },
        "outputId": "8fa5b6d4-10d9-4ebd-8af3-30e64e683a4f"
      },
      "execution_count": null,
      "outputs": [
        {
          "output_type": "execute_result",
          "data": {
            "text/plain": [
              "array([[1],\n",
              "       [4]])"
            ]
          },
          "metadata": {},
          "execution_count": 21
        }
      ]
    },
    {
      "cell_type": "code",
      "source": [
        "tensor[:, :1, :1]"
      ],
      "metadata": {
        "id": "ZSXePMl9SRiM",
        "colab": {
          "base_uri": "https://localhost:8080/"
        },
        "outputId": "0cb7ca4a-f37b-42a3-a0bc-da38e510b4a3"
      },
      "execution_count": null,
      "outputs": [
        {
          "output_type": "execute_result",
          "data": {
            "text/plain": [
              "array([[[ 1]],\n",
              "\n",
              "       [[11]]])"
            ]
          },
          "metadata": {},
          "execution_count": 16
        }
      ]
    },
    {
      "cell_type": "markdown",
      "source": [
        "###**▶ 연습문제**"
      ],
      "metadata": {
        "id": "coLp1SSSBz7s"
      }
    },
    {
      "cell_type": "markdown",
      "source": [
        "---\n",
        "**응용문제 :** 넘파이 배열 mid_arr의 모든 원소를 3배하여 넘파이 배열 score에 저장하고 출력해보자.\n",
        "\n",
        "---"
      ],
      "metadata": {
        "id": "ZqQ8-YGfx9cW"
      }
    },
    {
      "cell_type": "code",
      "metadata": {
        "id": "K7Bx2Bdk-swu",
        "colab": {
          "base_uri": "https://localhost:8080/"
        },
        "outputId": "f2b5a07b-1b33-415c-80fb-dc05245ccd83"
      },
      "source": [
        "score = mid_arr * 3\n",
        "score"
      ],
      "execution_count": null,
      "outputs": [
        {
          "output_type": "execute_result",
          "data": {
            "text/plain": [
              "array([210, 240, 270])"
            ]
          },
          "metadata": {},
          "execution_count": 40
        }
      ]
    },
    {
      "cell_type": "markdown",
      "source": [
        "---\n",
        "**응용문제 :** 원소가 0부터 시작해 1씩 증가하는 3*3 형태의 넘파이 배열을 만들어보자.\n",
        "\n",
        "---"
      ],
      "metadata": {
        "id": "LlJbIXUoKG5N"
      }
    },
    {
      "cell_type": "code",
      "source": [
        "np.arange(9).reshape((3,3))"
      ],
      "metadata": {
        "id": "Lew2ne9NKfrk",
        "colab": {
          "base_uri": "https://localhost:8080/"
        },
        "outputId": "b1859f97-9c33-49da-92a4-31c2d409f383"
      },
      "execution_count": null,
      "outputs": [
        {
          "output_type": "execute_result",
          "data": {
            "text/plain": [
              "array([[0, 1, 2],\n",
              "       [3, 4, 5],\n",
              "       [6, 7, 8]])"
            ]
          },
          "metadata": {},
          "execution_count": 47
        }
      ]
    },
    {
      "cell_type": "code",
      "source": [
        "np.reshape(np.arange(9), (3,3))"
      ],
      "metadata": {
        "colab": {
          "base_uri": "https://localhost:8080/"
        },
        "id": "yHzrNf1mgR8T",
        "outputId": "a260c2bb-eadd-4515-9b67-d77fb3708467"
      },
      "execution_count": null,
      "outputs": [
        {
          "output_type": "execute_result",
          "data": {
            "text/plain": [
              "array([[0, 1, 2],\n",
              "       [3, 4, 5],\n",
              "       [6, 7, 8]])"
            ]
          },
          "metadata": {},
          "execution_count": 48
        }
      ]
    },
    {
      "cell_type": "markdown",
      "source": [
        "---\n",
        "**응용문제 :** 위에서 생성한 넘파이 배열의 형태를 확인해보자.\n",
        "\n",
        "---"
      ],
      "metadata": {
        "id": "9xPcIAk38pJQ"
      }
    },
    {
      "cell_type": "code",
      "source": [
        "print(score.shape)\n",
        "print(arr3.shape)"
      ],
      "metadata": {
        "id": "5XwgeYAN80Cu",
        "colab": {
          "base_uri": "https://localhost:8080/"
        },
        "outputId": "3bbdafd3-f714-4042-d320-087a5790da2f"
      },
      "execution_count": null,
      "outputs": [
        {
          "output_type": "stream",
          "name": "stdout",
          "text": [
            "(3,)\n",
            "(3, 3)\n"
          ]
        }
      ]
    },
    {
      "cell_type": "code",
      "source": [],
      "metadata": {
        "id": "tHDg0kJwcemi"
      },
      "execution_count": null,
      "outputs": []
    }
  ]
}