{
  "cells": [
    {
      "cell_type": "markdown",
      "metadata": {
        "id": "view-in-github",
        "colab_type": "text"
      },
      "source": [
        "<a href=\"https://colab.research.google.com/github/KimSiGyum/Python/blob/main/mediapipe(%ED%95%99%EC%83%9D%EC%9A%A9)_%EB%A7%88%EC%A7%80%EB%A7%89%EA%B3%BC%EC%A0%9C_%EC%98%88%EC%8B%9C%ED%92%80%EC%9D%B4.ipynb\" target=\"_parent\"><img src=\"https://colab.research.google.com/assets/colab-badge.svg\" alt=\"Open In Colab\"/></a>"
      ]
    },
    {
      "cell_type": "code",
      "execution_count": null,
      "metadata": {
        "id": "yf7Rul1uPKjq"
      },
      "outputs": [],
      "source": [
        "import mediapipe as mp\n",
        "from mediapipe.tasks import python\n",
        "from mediapipe import solutions\n",
        "from mediapipe.framework.formats import landmark_pb2\n",
        "import numpy as np\n",
        "from mediapipe.tasks.python import vision\n",
        "import threading\n",
        "import cv2\n",
        "import time\n",
        "\n",
        "BaseOptions = mp.tasks.BaseOptions\n",
        "HandLandmarker = mp.tasks.vision.HandLandmarker\n",
        "HandLandmarkerOptions = mp.tasks.vision.HandLandmarkerOptions\n",
        "HandLandmarkerResult = mp.tasks.vision.HandLandmarkerResult\n",
        "VisionRunningMode = mp.tasks.vision.RunningMode"
      ]
    },
    {
      "cell_type": "code",
      "execution_count": null,
      "metadata": {
        "id": "Sio3_k1JPKjr"
      },
      "outputs": [],
      "source": [
        "# 영상에서 손을 감지하고 결과를 처리하는 클래스\n",
        "class HandLandmarkerAndResult:\n",
        "    def __init__(self):\n",
        "        base_options = python.BaseOptions(model_asset_path='hand_landmarker.task')\n",
        "        self.options = vision.HandLandmarkerOptions(\n",
        "            base_options=base_options,\n",
        "            running_mode=vision.RunningMode.LIVE_STREAM,\n",
        "            num_hands=2,\n",
        "            result_callback=self.process_result\n",
        "        )\n",
        "        self.hand_landmarker = vision.HandLandmarker.create_from_options(self.options)\n",
        "        self.result = None\n",
        "        self.event = threading.Event()\n",
        "\n",
        "    def process_result(self, result: vision.HandLandmarkerResult, output_image: mp.Image, timestamp_ms: int):\n",
        "        \"\"\"감지 결과를 처리하는 콜백 함수\"\"\"\n",
        "        self.result = result\n",
        "        self.event.set()  # 결과가 준비되었음을 알림\n",
        "\n",
        "    def detect_async(self, frame, timestamp_ms):\n",
        "        \"\"\"비동기적으로 손을 감지하고 결과를 self.result에 저장합니다.\"\"\"\n",
        "\n",
        "        # mediapipe Image 객체로 변환\n",
        "        mp_image = mp.Image(image_format=mp.ImageFormat.SRGB, data=frame)\n",
        "        # 비동기적으로 감지 실행\n",
        "        self.hand_landmarker.detect_async(mp_image, timestamp_ms)\n",
        "\n",
        "    def close(self):\n",
        "        self.hand_landmarker.close()\n"
      ]
    },
    {
      "cell_type": "code",
      "execution_count": null,
      "metadata": {
        "id": "vcjr_AvfPKjs"
      },
      "outputs": [],
      "source": [
        "# 손에 랜드마크 그리는 함수\n",
        "# 참고 https://ai.google.dev/edge/mediapipe/solutions/vision/hand_landmarker\n",
        "MARGIN = 10  # pixels\n",
        "FONT_SIZE = 1\n",
        "FONT_THICKNESS = 1\n",
        "HANDEDNESS_TEXT_COLOR = (88, 205, 54) # vibrant green\n",
        "\n",
        "def draw_landmarks_on_image(rgb_image, detection_result):\n",
        "  hand_landmarks_list = detection_result.hand_landmarks\n",
        "  handedness_list = detection_result.handedness\n",
        "  annotated_image = np.copy(rgb_image)\n",
        "\n",
        "  # Loop through the detected hands to visualize.\n",
        "  for idx in range(len(hand_landmarks_list)):\n",
        "    hand_landmarks = hand_landmarks_list[idx]\n",
        "    handedness = handedness_list[idx]\n",
        "\n",
        "    # Draw the hand landmarks.\n",
        "    hand_landmarks_proto = landmark_pb2.NormalizedLandmarkList()\n",
        "    hand_landmarks_proto.landmark.extend([\n",
        "      landmark_pb2.NormalizedLandmark(x=landmark.x, y=landmark.y, z=landmark.z) for landmark in hand_landmarks\n",
        "    ])\n",
        "    solutions.drawing_utils.draw_landmarks(\n",
        "      annotated_image,\n",
        "      hand_landmarks_proto,\n",
        "      solutions.hands.HAND_CONNECTIONS,\n",
        "      solutions.drawing_styles.get_default_hand_landmarks_style(),\n",
        "      solutions.drawing_styles.get_default_hand_connections_style())\n",
        "\n",
        "  return annotated_image"
      ]
    },
    {
      "cell_type": "code",
      "execution_count": null,
      "metadata": {
        "id": "xx3_oLAVPKjs"
      },
      "outputs": [],
      "source": [
        "# HandLandmarker 객체 생성하기\n",
        "detector = HandLandmarkerAndResult()\n",
        "\n",
        "# 캠 불러오기\n",
        "cap = cv2.VideoCapture(0)\n",
        "\n",
        "while True:  # 카메라 동작하는 동안 계속하여 반복하기\n",
        "    ret, frame = cap.read()  # 비디오 스트림 (카메라 캡처)\n",
        "    if not ret:  # 프레임을 가져오지 못하면 종료\n",
        "        break\n",
        "    frame = cv2.flip(frame, 1)  # 화면 좌우 반전\n",
        "\n",
        "    # 비동기적으로 손 감지\n",
        "    timestamp_ms = cv2.getTickCount() / cv2.getTickFrequency() * 1000  # 타임스탬프 생성\n",
        "    detector.detect_async(frame, int(timestamp_ms))\n",
        "\n",
        "    # 결과를 기다림\n",
        "    detector.event.wait()\n",
        "\n",
        "    # 결과 처리\n",
        "    detection_result = detector.result\n",
        "\n",
        "    # 손 감지 결과가 있으면 이미지에 그리기\n",
        "    if detection_result:\n",
        "        frame = draw_landmarks_on_image(frame, detection_result)\n",
        "        frame = put_handedness_on_image(frame, detection_result)\n",
        "        frame = put_index_finger_on_image(frame, detection_result)\n",
        "        frame = count_fingers_raised(frame, detection_result)\n",
        "        cv2.imshow('frame', frame)\n",
        "    else:\n",
        "        # 손 감지 결과가 없으면 원본 이미지 출력\n",
        "        cv2.imshow('frame', frame)\n",
        "\n",
        "    if cv2.waitKey(1) == ord('q'):\n",
        "        break\n",
        "\n",
        "cap.release()  # 카메라 해제\n",
        "cv2.destroyAllWindows()\n"
      ]
    },
    {
      "cell_type": "code",
      "execution_count": null,
      "metadata": {
        "id": "UWvqqCIWPKjs"
      },
      "outputs": [],
      "source": [
        "# 왼손, 오른손 표기\n",
        "SIZE = 1\n",
        "THICKNESS = 2\n",
        "COLOR = (88, 205, 54)\n",
        "\n",
        "def put_handedness_on_image(rgb_image, detection_result):\n",
        "    handedness_list = detection_result.handedness\n",
        "    for handedness in handedness_list:\n",
        "        cv2.putText(rgb_image, handedness[0].category_name, (0, 50), cv2.FONT_HERSHEY_DUPLEX, SIZE, COLOR, THICKNESS)\n",
        "\n",
        "    return rgb_image"
      ]
    },
    {
      "cell_type": "code",
      "execution_count": null,
      "metadata": {
        "id": "R2-JttzHPKjt"
      },
      "outputs": [],
      "source": [
        "#왼손, 오른손 표기 (인덱스를 사용해서 풀기)\n",
        "SIZE = 1\n",
        "THICKNESS = 2\n",
        "COLOR = (88, 205, 54)\n",
        "\n",
        "def put_handedness_on_image(rgb_image, detection_result):\n",
        "\n",
        "\n",
        "\n",
        "    return rgb_image"
      ]
    },
    {
      "cell_type": "code",
      "execution_count": null,
      "metadata": {
        "id": "CKOKmINvPKjt"
      },
      "outputs": [],
      "source": [
        "#두 번째 손가락 표기하기\n",
        "SIZE = 1\n",
        "THICKNESS = 2\n",
        "COLOR = (88, 205, 54)\n",
        "\n",
        "def put_index_finger_on_image(rgb_image, detection_result):\n",
        "    landmarks_list = detection_result.hand_landmarks\n",
        "    for landmarks in landmarks_list:\n",
        "        x = int(landmarks[8].x * rgb_image.shape[1])\n",
        "        y = int(landmarks[8].y * rgb_image.shape[0])\n",
        "        cv2.putText(rgb_image, 'index_tip', (x, y), cv2.FONT_HERSHEY_DUPLEX, SIZE, COLOR, THICKNESS)\n",
        "\n",
        "    return rgb_image"
      ]
    },
    {
      "cell_type": "code",
      "execution_count": null,
      "metadata": {
        "id": "SFiSTgxtPKjt"
      },
      "outputs": [],
      "source": [
        "# 손가락이 몇 개 올라와 있는지 세는 함수\n",
        "SIZE = 1\n",
        "THICKNESS = 2\n",
        "COLOR = (88, 205, 54)\n",
        "\n",
        "def count_fingers_raised(rgb_image, detection_result):\n",
        "    hand_landmarks_list = detection_result.hand_landmarks\n",
        "    count = 0\n",
        "\n",
        "    for hand_landmarks in hand_landmarks_list:\n",
        "        for i in range(8, 21, 4): # 검지, 중지, 약지, 새끼 손가락의 경우\n",
        "            # 손끝의 y좌표와 나머지 관절의 y좌표 중 최소값을 비교하여 손끝이 더 위라면 카운트\n",
        "            if hand_landmarks[i].y < min(hand_landmarks[i-1].y, hand_landmarks[i-2].y, hand_landmarks[i-3].y):\n",
        "                count += 1\n",
        "        # 엄지 손가락의 경우\n",
        "        if hand_landmarks[4].x > hand_landmarks[0].x: # 엄지 손끝의 x좌표와 손바닥 좌표를 비교하여 엄지가 더 오른쪽에 있고\n",
        "            # 엄지 손끝의 x좌표와 나머지 관절의 x좌표 중 최대값을 비교하여 엄지가 가장 오른쪽에 있다면 카운트\n",
        "            if hand_landmarks[4].x > max(hand_landmarks[i-1].y, hand_landmarks[i-2].y, hand_landmarks[i-3].y):\n",
        "                count += 1\n",
        "        else: # 반대로 엄지 손끝의 x좌표와 손바닥 좌표를 비교하여 엄지가 더 왼쪽에 있고\n",
        "            # 엄지 손끝의 x좌표와 나머지 관절의 x좌표 중 최소값을 비교하여 엄지가 가장 왼쪽에 있다면 카운트\n",
        "            if hand_landmarks[4].x < min(hand_landmarks[i-1].y, hand_landmarks[i-2].y, hand_landmarks[i-3].y):\n",
        "                count += 1\n",
        "\n",
        "    cv2.putText(rgb_image, str(count), (0, 100), cv2.FONT_HERSHEY_DUPLEX, SIZE, COLOR, THICKNESS)\n",
        "\n",
        "    return rgb_image"
      ]
    }
  ],
  "metadata": {
    "kernelspec": {
      "display_name": "Python 3 (ipykernel)",
      "language": "python",
      "name": "python3"
    },
    "language_info": {
      "codemirror_mode": {
        "name": "ipython",
        "version": 3
      },
      "file_extension": ".py",
      "mimetype": "text/x-python",
      "name": "python",
      "nbconvert_exporter": "python",
      "pygments_lexer": "ipython3",
      "version": "3.11.7"
    },
    "colab": {
      "provenance": [],
      "include_colab_link": true
    }
  },
  "nbformat": 4,
  "nbformat_minor": 0
}