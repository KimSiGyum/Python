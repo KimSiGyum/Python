{
  "nbformat": 4,
  "nbformat_minor": 0,
  "metadata": {
    "colab": {
      "provenance": [],
      "gpuType": "T4",
      "include_colab_link": true
    },
    "kernelspec": {
      "name": "python3",
      "display_name": "Python 3"
    },
    "language_info": {
      "name": "python"
    },
    "accelerator": "GPU"
  },
  "cells": [
    {
      "cell_type": "markdown",
      "metadata": {
        "id": "view-in-github",
        "colab_type": "text"
      },
      "source": [
        "<a href=\"https://colab.research.google.com/github/KimSiGyum/Python/blob/main/2024%EC%88%98%ED%96%89%EC%97%B0%EC%8A%B5_%ED%8C%A8%EC%85%98_%EC%9D%B4%EB%AF%B8%EC%A7%80_%EB%B6%84%EB%A5%98(%EC%B0%B8%EA%B3%A0%EC%9A%A9).ipynb\" target=\"_parent\"><img src=\"https://colab.research.google.com/assets/colab-badge.svg\" alt=\"Open In Colab\"/></a>"
      ]
    },
    {
      "cell_type": "markdown",
      "source": [
        "# **[주제1] 패션 이미지 분류 (난이도 낮음)**\n",
        "---\n",
        "\n",
        "<img src='https://drive.google.com/uc?id=1ftz5VlckDuMvlVVUhJeI2kuA9QMHPEMu' width=850>\n",
        "\n",
        "---"
      ],
      "metadata": {
        "id": "ke8flkC1QLdx"
      }
    },
    {
      "cell_type": "markdown",
      "source": [
        "## **0. 필요한 모듈 가져오기**\n",
        "라이브러리 및 모듈은 이 곳에서 한 번에 가져와도 되고 필요한 셀에서 바로 추가해도 됩니다."
      ],
      "metadata": {
        "id": "0QModmzssODi"
      }
    },
    {
      "cell_type": "code",
      "source": [
        "import numpy as np\n",
        "import pandas as pd"
      ],
      "metadata": {
        "id": "Mo-_f553vMrS"
      },
      "execution_count": null,
      "outputs": []
    },
    {
      "cell_type": "markdown",
      "source": [
        "## **1. 데이터 가져오기**\n",
        "아래 코드를 실행하여 데이터를 읽어오세요. (변수명은 원한다면 변경해도 됩니다.)"
      ],
      "metadata": {
        "id": "ddkxJzjimp5n"
      }
    },
    {
      "cell_type": "code",
      "execution_count": null,
      "metadata": {
        "id": "o6DS35q1uccV",
        "colab": {
          "base_uri": "https://localhost:8080/"
        },
        "outputId": "47457b0d-984f-4e96-b493-171b072853a2"
      },
      "outputs": [
        {
          "output_type": "stream",
          "name": "stdout",
          "text": [
            "Downloading data from https://storage.googleapis.com/tensorflow/tf-keras-datasets/train-labels-idx1-ubyte.gz\n",
            "\u001b[1m29515/29515\u001b[0m \u001b[32m━━━━━━━━━━━━━━━━━━━━\u001b[0m\u001b[37m\u001b[0m \u001b[1m0s\u001b[0m 0us/step\n",
            "Downloading data from https://storage.googleapis.com/tensorflow/tf-keras-datasets/train-images-idx3-ubyte.gz\n",
            "\u001b[1m26421880/26421880\u001b[0m \u001b[32m━━━━━━━━━━━━━━━━━━━━\u001b[0m\u001b[37m\u001b[0m \u001b[1m0s\u001b[0m 0us/step\n",
            "Downloading data from https://storage.googleapis.com/tensorflow/tf-keras-datasets/t10k-labels-idx1-ubyte.gz\n",
            "\u001b[1m5148/5148\u001b[0m \u001b[32m━━━━━━━━━━━━━━━━━━━━\u001b[0m\u001b[37m\u001b[0m \u001b[1m0s\u001b[0m 1us/step\n",
            "Downloading data from https://storage.googleapis.com/tensorflow/tf-keras-datasets/t10k-images-idx3-ubyte.gz\n",
            "\u001b[1m4422102/4422102\u001b[0m \u001b[32m━━━━━━━━━━━━━━━━━━━━\u001b[0m\u001b[37m\u001b[0m \u001b[1m0s\u001b[0m 0us/step\n"
          ]
        }
      ],
      "source": [
        "# 데이터 가져오기\n",
        "from keras.datasets import fashion_mnist\n",
        "(x_train, y_train), (x_test, y_test) = fashion_mnist.load_data()"
      ]
    },
    {
      "cell_type": "code",
      "source": [
        "# 다섯 개(0번~4번)의 데이터 샘플 이미지와 레이블 출력하기\n",
        "import matplotlib.pyplot as plt\n",
        "for n in range(0, 5):\n",
        "  plt.subplot(1, 5, n+1) # (columns, rows, index)\n",
        "  plt.imshow(x_train[n], cmap=plt.cm.gray)\n",
        "  plt.title('Label:' + str(y_train[n]))\n",
        "plt.tight_layout()\n",
        "plt.show()"
      ],
      "metadata": {
        "id": "nzx7-E6hWPtO",
        "colab": {
          "base_uri": "https://localhost:8080/",
          "height": 165
        },
        "outputId": "1b6d1048-5d14-4882-b88f-5e96e795d533"
      },
      "execution_count": null,
      "outputs": [
        {
          "output_type": "display_data",
          "data": {
            "text/plain": [
              "<Figure size 640x480 with 5 Axes>"
            ],
            "image/png": "[encoded data removed]"
          },
          "metadata": {}
        }
      ]
    },
    {
      "cell_type": "markdown",
      "metadata": {
        "id": "0BMt4jr5MILD"
      },
      "source": [
        "##**2. 데이터 준비 및 분석하기**\n",
        "문제 상황에 맞게 아래 작업을 수행하세요.\n",
        "- (과제1) 데이터 탐색 <br>\n",
        "    - 데이터 형태 확인,차원확인,샘플이미지와 레이블 출력\n",
        "- (과제2) 데이터 전처리\n",
        "    - 데이터 형태 변형,데이터정규화,원-핫인코딩"
      ]
    },
    {
      "cell_type": "code",
      "source": [
        "# (과제1-1) 데이터탐색 (데이터 형태 확인,차원확인)\n",
        "print('데이터 형태', x_train.shape, y_train.shape)\n",
        "print('테스트 데이터 형태', x_test.shape, y_test.shape)\n",
        "print('데이터 차원', x_train.ndim, y_train.ndim)\n",
        "print('테스트 데이터 차원', x_test.ndim, y_test.ndim)"
      ],
      "metadata": {
        "id": "keyPiyznoqeN",
        "colab": {
          "base_uri": "https://localhost:8080/"
        },
        "outputId": "ab3e393e-7988-4be9-cd62-b873f03b6957"
      },
      "execution_count": null,
      "outputs": [
        {
          "output_type": "stream",
          "name": "stdout",
          "text": [
            "데이터 형태 (60000, 28, 28) (60000,)\n",
            "테스트 데이터 형태 (10000, 28, 28) (10000,)\n",
            "데이터 차원 3 1\n",
            "테스트 데이터 차원 3 1\n"
          ]
        }
      ]
    },
    {
      "cell_type": "code",
      "source": [
        "# (과제2-1) 데이터 전처리 (데이터 형태 변형, 데이터정규화)\n",
        "# 흑백 (28, 28) / 컬러 (28, 28, 3)\n",
        "x_train = x_train.reshape((60000, 28, 28, 1))\n",
        "x_test = x_test.reshape((10000, 28, 28, 1))\n",
        "x_train = x_train / 255\n",
        "x_test = x_test / 255"
      ],
      "metadata": {
        "id": "uQJKZ30-VnGj"
      },
      "execution_count": null,
      "outputs": []
    },
    {
      "cell_type": "code",
      "source": [
        "# (과제2-2) 데이터 전처리 (원-핫인코딩)\n",
        "#from keras import utils\n",
        "#y_train = utils.to_categorical(y_train)\n",
        "#y_test = utils.to_categorical(y_test)\n",
        "from keras.utils import to_categorical\n",
        "y_train = to_categorical(y_train)\n",
        "y_test = to_categorical(y_test)"
      ],
      "metadata": {
        "id": "50GA4JbMWDNq"
      },
      "execution_count": null,
      "outputs": []
    },
    {
      "cell_type": "markdown",
      "metadata": {
        "id": "00kb9-Nvn5Or"
      },
      "source": [
        "##**3. 모델 학습시키기**\n",
        "문제 상황에 맞게 아래 작업을 수행하세요.\n",
        "- (과제3) 신경망 모델 생성 (신경망 구조,레이어 추가)\n",
        "- (과제4) 신경망 모델 학습 (학습방식설정 및 학습)<br>"
      ]
    },
    {
      "cell_type": "code",
      "source": [
        "# (과제3) 신경망 모델생성 (신경망 구조,레이어 추가)\n",
        "from keras.models import Sequential # 신경망 모델 클래스\n",
        "from keras.layers import Input, Conv2D, MaxPooling2D, Flatten, Dense\n",
        "model = Sequential() # 신경망 객체 생성\n",
        "model.add(Input(shape=(28, 28, 1))) # 입력\n",
        "model.add(Conv2D(filters = 32, kernel_size=(2, 2), strides=(1, 1), padding='same')) # 합성곱층\n",
        "model.add(MaxPooling2D(pool_size=(2, 2))) # 풀링층\n",
        "model.add(Flatten()) # 차원변경\n",
        "model.add(Dense(512, activation='relu')) # 은닉층 (relu, sigmoid)\n",
        "model.add(Dense(10, activation='softmax')) # 출력층 (클래스 개수에 맞게 노드 수 10, 다중클래스분류에 적합한 소프트맥스)"
      ],
      "metadata": {
        "id": "NKSJGP9qQIDz"
      },
      "execution_count": null,
      "outputs": []
    },
    {
      "cell_type": "code",
      "source": [
        "# 요약정보 확인하기\n",
        "model.summary()"
      ],
      "metadata": {
        "id": "RxIdVe4cWVPs",
        "colab": {
          "base_uri": "https://localhost:8080/",
          "height": 297
        },
        "outputId": "44490dcf-fead-4b51-f5c5-afe55a880cf7"
      },
      "execution_count": null,
      "outputs": [
        {
          "output_type": "display_data",
          "data": {
            "text/plain": [
              "\u001b[1mModel: \"sequential\"\u001b[0m\n"
            ],
            "text/html": [
              "<pre style=\"white-space:pre;overflow-x:auto;line-height:normal;font-family:Menlo,'DejaVu Sans Mono',consolas,'Courier New',monospace\"><span style=\"font-weight: bold\">Model: \"sequential\"</span>\n",
              "</pre>\n"
            ]
          },
          "metadata": {}
        },
        {
          "output_type": "display_data",
          "data": {
            "text/plain": [
              "┏━━━━━━━━━━━━━━━━━━━━━━━━━━━━━━━━━━━━━━┳━━━━━━━━━━━━━━━━━━━━━━━━━━━━━┳━━━━━━━━━━━━━━━━━┓\n",
              "┃\u001b[1m \u001b[0m\u001b[1mLayer (type)                        \u001b[0m\u001b[1m \u001b[0m┃\u001b[1m \u001b[0m\u001b[1mOutput Shape               \u001b[0m\u001b[1m \u001b[0m┃\u001b[1m \u001b[0m\u001b[1m        Param #\u001b[0m\u001b[1m \u001b[0m┃\n",
              "┡━━━━━━━━━━━━━━━━━━━━━━━━━━━━━━━━━━━━━━╇━━━━━━━━━━━━━━━━━━━━━━━━━━━━━╇━━━━━━━━━━━━━━━━━┩\n",
              "│ conv2d (\u001b[38;5;33mConv2D\u001b[0m)                      │ (\u001b[38;5;45mNone\u001b[0m, \u001b[38;5;34m28\u001b[0m, \u001b[38;5;34m28\u001b[0m, \u001b[38;5;34m32\u001b[0m)          │             \u001b[38;5;34m160\u001b[0m │\n",
              "├──────────────────────────────────────┼─────────────────────────────┼─────────────────┤\n",
              "│ max_pooling2d (\u001b[38;5;33mMaxPooling2D\u001b[0m)         │ (\u001b[38;5;45mNone\u001b[0m, \u001b[38;5;34m14\u001b[0m, \u001b[38;5;34m14\u001b[0m, \u001b[38;5;34m32\u001b[0m)          │               \u001b[38;5;34m0\u001b[0m │\n",
              "├──────────────────────────────────────┼─────────────────────────────┼─────────────────┤\n",
              "│ flatten (\u001b[38;5;33mFlatten\u001b[0m)                    │ (\u001b[38;5;45mNone\u001b[0m, \u001b[38;5;34m6272\u001b[0m)                │               \u001b[38;5;34m0\u001b[0m │\n",
              "├──────────────────────────────────────┼─────────────────────────────┼─────────────────┤\n",
              "│ dense (\u001b[38;5;33mDense\u001b[0m)                        │ (\u001b[38;5;45mNone\u001b[0m, \u001b[38;5;34m512\u001b[0m)                 │       \u001b[38;5;34m3,211,776\u001b[0m │\n",
              "├──────────────────────────────────────┼─────────────────────────────┼─────────────────┤\n",
              "│ dense_1 (\u001b[38;5;33mDense\u001b[0m)                      │ (\u001b[38;5;45mNone\u001b[0m, \u001b[38;5;34m10\u001b[0m)                  │           \u001b[38;5;34m5,130\u001b[0m │\n",
              "└──────────────────────────────────────┴─────────────────────────────┴─────────────────┘\n"
            ],
            "text/html": [
              "<pre style=\"white-space:pre;overflow-x:auto;line-height:normal;font-family:Menlo,'DejaVu Sans Mono',consolas,'Courier New',monospace\">┏━━━━━━━━━━━━━━━━━━━━━━━━━━━━━━━━━━━━━━┳━━━━━━━━━━━━━━━━━━━━━━━━━━━━━┳━━━━━━━━━━━━━━━━━┓\n",
              "┃<span style=\"font-weight: bold\"> Layer (type)                         </span>┃<span style=\"font-weight: bold\"> Output Shape                </span>┃<span style=\"font-weight: bold\">         Param # </span>┃\n",
              "┡━━━━━━━━━━━━━━━━━━━━━━━━━━━━━━━━━━━━━━╇━━━━━━━━━━━━━━━━━━━━━━━━━━━━━╇━━━━━━━━━━━━━━━━━┩\n",
              "│ conv2d (<span style=\"color: #0087ff; text-decoration-color: #0087ff\">Conv2D</span>)                      │ (<span style=\"color: #00d7ff; text-decoration-color: #00d7ff\">None</span>, <span style=\"color: #00af00; text-decoration-color: #00af00\">28</span>, <span style=\"color: #00af00; text-decoration-color: #00af00\">28</span>, <span style=\"color: #00af00; text-decoration-color: #00af00\">32</span>)          │             <span style=\"color: #00af00; text-decoration-color: #00af00\">160</span> │\n",
              "├──────────────────────────────────────┼─────────────────────────────┼─────────────────┤\n",
              "│ max_pooling2d (<span style=\"color: #0087ff; text-decoration-color: #0087ff\">MaxPooling2D</span>)         │ (<span style=\"color: #00d7ff; text-decoration-color: #00d7ff\">None</span>, <span style=\"color: #00af00; text-decoration-color: #00af00\">14</span>, <span style=\"color: #00af00; text-decoration-color: #00af00\">14</span>, <span style=\"color: #00af00; text-decoration-color: #00af00\">32</span>)          │               <span style=\"color: #00af00; text-decoration-color: #00af00\">0</span> │\n",
              "├──────────────────────────────────────┼─────────────────────────────┼─────────────────┤\n",
              "│ flatten (<span style=\"color: #0087ff; text-decoration-color: #0087ff\">Flatten</span>)                    │ (<span style=\"color: #00d7ff; text-decoration-color: #00d7ff\">None</span>, <span style=\"color: #00af00; text-decoration-color: #00af00\">6272</span>)                │               <span style=\"color: #00af00; text-decoration-color: #00af00\">0</span> │\n",
              "├──────────────────────────────────────┼─────────────────────────────┼─────────────────┤\n",
              "│ dense (<span style=\"color: #0087ff; text-decoration-color: #0087ff\">Dense</span>)                        │ (<span style=\"color: #00d7ff; text-decoration-color: #00d7ff\">None</span>, <span style=\"color: #00af00; text-decoration-color: #00af00\">512</span>)                 │       <span style=\"color: #00af00; text-decoration-color: #00af00\">3,211,776</span> │\n",
              "├──────────────────────────────────────┼─────────────────────────────┼─────────────────┤\n",
              "│ dense_1 (<span style=\"color: #0087ff; text-decoration-color: #0087ff\">Dense</span>)                      │ (<span style=\"color: #00d7ff; text-decoration-color: #00d7ff\">None</span>, <span style=\"color: #00af00; text-decoration-color: #00af00\">10</span>)                  │           <span style=\"color: #00af00; text-decoration-color: #00af00\">5,130</span> │\n",
              "└──────────────────────────────────────┴─────────────────────────────┴─────────────────┘\n",
              "</pre>\n"
            ]
          },
          "metadata": {}
        },
        {
          "output_type": "display_data",
          "data": {
            "text/plain": [
              "\u001b[1m Total params: \u001b[0m\u001b[38;5;34m3,217,066\u001b[0m (12.27 MB)\n"
            ],
            "text/html": [
              "<pre style=\"white-space:pre;overflow-x:auto;line-height:normal;font-family:Menlo,'DejaVu Sans Mono',consolas,'Courier New',monospace\"><span style=\"font-weight: bold\"> Total params: </span><span style=\"color: #00af00; text-decoration-color: #00af00\">3,217,066</span> (12.27 MB)\n",
              "</pre>\n"
            ]
          },
          "metadata": {}
        },
        {
          "output_type": "display_data",
          "data": {
            "text/plain": [
              "\u001b[1m Trainable params: \u001b[0m\u001b[38;5;34m3,217,066\u001b[0m (12.27 MB)\n"
            ],
            "text/html": [
              "<pre style=\"white-space:pre;overflow-x:auto;line-height:normal;font-family:Menlo,'DejaVu Sans Mono',consolas,'Courier New',monospace\"><span style=\"font-weight: bold\"> Trainable params: </span><span style=\"color: #00af00; text-decoration-color: #00af00\">3,217,066</span> (12.27 MB)\n",
              "</pre>\n"
            ]
          },
          "metadata": {}
        },
        {
          "output_type": "display_data",
          "data": {
            "text/plain": [
              "\u001b[1m Non-trainable params: \u001b[0m\u001b[38;5;34m0\u001b[0m (0.00 B)\n"
            ],
            "text/html": [
              "<pre style=\"white-space:pre;overflow-x:auto;line-height:normal;font-family:Menlo,'DejaVu Sans Mono',consolas,'Courier New',monospace\"><span style=\"font-weight: bold\"> Non-trainable params: </span><span style=\"color: #00af00; text-decoration-color: #00af00\">0</span> (0.00 B)\n",
              "</pre>\n"
            ]
          },
          "metadata": {}
        }
      ]
    },
    {
      "cell_type": "code",
      "source": [
        "# (과제4) 신경망 모델학습  (학습방식설정 및 학습)\n",
        "# loss: 손실함수(얼마나 못하는지 측정), optimizer: 옵티마이저(학습 수행 방법), metrics: 성능평가척도(성적 산출법)\n",
        "model.compile(loss = 'categorical_crossentropy', # 범주형 크로스엔트로피\n",
        "              optimizer = 'SGD', # 확률적 경사하강법\n",
        "              metrics = ['accuracy']) # 정확도\n",
        "model.fit(x_train, y_train, batch_size = 128, epochs = 10)"
      ],
      "metadata": {
        "id": "cpxJJqBLVTGO",
        "colab": {
          "base_uri": "https://localhost:8080/"
        },
        "outputId": "a864cd05-2869-4078-e7f8-1a465426bd0f"
      },
      "execution_count": null,
      "outputs": [
        {
          "output_type": "stream",
          "name": "stdout",
          "text": [
            "Epoch 1/10\n",
            "\u001b[1m469/469\u001b[0m \u001b[32m━━━━━━━━━━━━━━━━━━━━\u001b[0m\u001b[37m\u001b[0m \u001b[1m6s\u001b[0m 6ms/step - accuracy: 0.5781 - loss: 1.4671\n",
            "Epoch 2/10\n",
            "\u001b[1m469/469\u001b[0m \u001b[32m━━━━━━━━━━━━━━━━━━━━\u001b[0m\u001b[37m\u001b[0m \u001b[1m2s\u001b[0m 4ms/step - accuracy: 0.8030 - loss: 0.5699\n",
            "Epoch 3/10\n",
            "\u001b[1m469/469\u001b[0m \u001b[32m━━━━━━━━━━━━━━━━━━━━\u001b[0m\u001b[37m\u001b[0m \u001b[1m3s\u001b[0m 4ms/step - accuracy: 0.8276 - loss: 0.4930\n",
            "Epoch 4/10\n",
            "\u001b[1m469/469\u001b[0m \u001b[32m━━━━━━━━━━━━━━━━━━━━\u001b[0m\u001b[37m\u001b[0m \u001b[1m3s\u001b[0m 4ms/step - accuracy: 0.8380 - loss: 0.4653\n",
            "Epoch 5/10\n",
            "\u001b[1m469/469\u001b[0m \u001b[32m━━━━━━━━━━━━━━━━━━━━\u001b[0m\u001b[37m\u001b[0m \u001b[1m3s\u001b[0m 4ms/step - accuracy: 0.8467 - loss: 0.4351\n",
            "Epoch 6/10\n",
            "\u001b[1m469/469\u001b[0m \u001b[32m━━━━━━━━━━━━━━━━━━━━\u001b[0m\u001b[37m\u001b[0m \u001b[1m2s\u001b[0m 4ms/step - accuracy: 0.8592 - loss: 0.4078\n",
            "Epoch 7/10\n",
            "\u001b[1m469/469\u001b[0m \u001b[32m━━━━━━━━━━━━━━━━━━━━\u001b[0m\u001b[37m\u001b[0m \u001b[1m3s\u001b[0m 5ms/step - accuracy: 0.8584 - loss: 0.4035\n",
            "Epoch 8/10\n",
            "\u001b[1m469/469\u001b[0m \u001b[32m━━━━━━━━━━━━━━━━━━━━\u001b[0m\u001b[37m\u001b[0m \u001b[1m2s\u001b[0m 4ms/step - accuracy: 0.8644 - loss: 0.3899\n",
            "Epoch 9/10\n",
            "\u001b[1m469/469\u001b[0m \u001b[32m━━━━━━━━━━━━━━━━━━━━\u001b[0m\u001b[37m\u001b[0m \u001b[1m2s\u001b[0m 3ms/step - accuracy: 0.8667 - loss: 0.3813\n",
            "Epoch 10/10\n",
            "\u001b[1m469/469\u001b[0m \u001b[32m━━━━━━━━━━━━━━━━━━━━\u001b[0m\u001b[37m\u001b[0m \u001b[1m1s\u001b[0m 3ms/step - accuracy: 0.8696 - loss: 0.3758\n"
          ]
        },
        {
          "output_type": "execute_result",
          "data": {
            "text/plain": [
              "<keras.src.callbacks.history.History at 0x791625baa9e0>"
            ]
          },
          "metadata": {},
          "execution_count": 9
        }
      ]
    },
    {
      "cell_type": "markdown",
      "metadata": {
        "id": "bpMx9eKaotgM"
      },
      "source": [
        "##**4. 모델 평가하기**\n",
        "문제 상황에 맞게 아래 작업을 수행하세요.\n",
        "- (과제5) 모델 성능 평가: 손실값과 정확도 출력"
      ]
    },
    {
      "cell_type": "code",
      "source": [
        "# (과제5) 모델성능평가하기\n",
        "loss, accuracy = model.evaluate(x_test, y_test)\n",
        "print('손실은', loss, '입니다.')\n",
        "print('정확도는', accuracy, '입니다.')"
      ],
      "metadata": {
        "id": "6lFwrlAWQZcT",
        "colab": {
          "base_uri": "https://localhost:8080/"
        },
        "outputId": "dde87c41-1726-4632-be9c-ab5240c02a82"
      },
      "execution_count": null,
      "outputs": [
        {
          "output_type": "stream",
          "name": "stdout",
          "text": [
            "\u001b[1m313/313\u001b[0m \u001b[32m━━━━━━━━━━━━━━━━━━━━\u001b[0m\u001b[37m\u001b[0m \u001b[1m0s\u001b[0m 1ms/step - accuracy: 0.8633 - loss: 0.3959\n",
            "손실은 0.4060598909854889 입니다.\n",
            "정확도는 0.8568999767303467 입니다.\n"
          ]
        }
      ]
    },
    {
      "cell_type": "markdown",
      "metadata": {
        "id": "j0o2rRRTqFox"
      },
      "source": [
        "##**5. 모델 활용하기**\n",
        "문제 상황에 맞게 <u>아래 작업 중 하나 이상</u>을 수행하세요.\n",
        "- (과제6) 테스트 데이터의 분류 결과 확인\n",
        "- (선택과제) 새로운 데이터의 분류 결과 확인<br>\n",
        "※ 새로운 데이터는 업로드된 0~9.png 파일을 이용하거나, 웹에서 구한 이미지를 가공하여 사용"
      ]
    },
    {
      "cell_type": "code",
      "source": [
        "# (과제6)테스트데이터(X_test[n]  의 분류 결과 확인하기)\n",
        "# model.predict(x_test[0].reshape((1, 28, 28, 1))) # x_test[0].shape ---> (28, 28, 1)\n",
        "y_prob = model.predict(x_test[0].reshape((1, 28, 28, 1)))\n",
        "y_pred= y_prob.argmax(axis=-1) # 배열 내 최대값의 인덱스 반환\n",
        "print(\"이 의류는\", y_pred,\"번 클래스입니다.\")"
      ],
      "metadata": {
        "id": "PeLrKMr5YoXG",
        "colab": {
          "base_uri": "https://localhost:8080/"
        },
        "outputId": "e029bdf4-d0db-47d2-a13c-11cabf9b82b6"
      },
      "execution_count": null,
      "outputs": [
        {
          "output_type": "stream",
          "name": "stdout",
          "text": [
            "\u001b[1m1/1\u001b[0m \u001b[32m━━━━━━━━━━━━━━━━━━━━\u001b[0m\u001b[37m\u001b[0m \u001b[1m0s\u001b[0m 24ms/step\n",
            "이 의류는 [9] 번 클래스입니다.\n"
          ]
        }
      ]
    },
    {
      "cell_type": "code",
      "source": [
        "# n 번째 샘플 이미지와 레이블 출력하기\n",
        "n = 10\n",
        "import matplotlib.pyplot as plt\n",
        "plt.title(\"label:\"+str( y_train[n]) )\n",
        "plt.imshow(x_test[n], cmap=plt.cm.gray)\n",
        "plt.show()"
      ],
      "metadata": {
        "id": "QvLZAotiWfyI"
      },
      "execution_count": null,
      "outputs": []
    },
    {
      "cell_type": "markdown",
      "source": [
        "※ 아래는 이미지 파일을 업로드하고 넘파이 배열(image)로 읽어오는 코드입니다.<br>\n",
        "필요한 경우 실행하여 활용하세요."
      ],
      "metadata": {
        "id": "GbEPf8YR7kax"
      }
    },
    {
      "cell_type": "code",
      "source": [
        "# 파일 업로드하기\n",
        "from google.colab import files\n",
        "uploaded = files.upload()"
      ],
      "metadata": {
        "id": "BXOL8xx-RM27"
      },
      "execution_count": null,
      "outputs": []
    },
    {
      "cell_type": "code",
      "source": [
        "# 이미지를 회색조로 변환하기\n",
        "import cv2\n",
        "image = cv2.imread('파일명.png')\n",
        "image = cv2.cvtColor(image, cv2.COLOR_RGB2GRAY)"
      ],
      "metadata": {
        "id": "gDLAyqEERSkV"
      },
      "execution_count": null,
      "outputs": []
    },
    {
      "cell_type": "code",
      "source": [
        "# 이미지 출력하기\n",
        "plt.figure(figsize = (1, 1))\n",
        "plt.axis('off')\n",
        "plt.imshow(image, cmap=plt.cm.gray)\n",
        "plt.show()"
      ],
      "metadata": {
        "id": "jB8SaJFhRTGo"
      },
      "execution_count": null,
      "outputs": []
    },
    {
      "cell_type": "code",
      "source": [
        "# (선택과제) 분류 결과확인하기\n",
        "\n",
        "\n",
        "\n",
        "\n"
      ],
      "metadata": {
        "id": "dFmtH706RUug"
      },
      "execution_count": null,
      "outputs": []
    }
  ]
}